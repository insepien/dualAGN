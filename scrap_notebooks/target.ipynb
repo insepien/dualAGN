{
 "cells": [
  {
   "cell_type": "code",
   "execution_count": null,
   "metadata": {},
   "outputs": [],
   "source": [
    "import pandas as pd\n",
    "from astropy.coordinates import SkyCoord\n",
    "import astropy.units as u\n",
    "from astroquery.ipac.ned import Ned\n",
    "import numpy as np\n",
    "from astropy.cosmology import WMAP9 as cosmo\n",
    "from urllib.request import urlretrieve\n",
    "from collections import Counter\n",
    "import matplotlib.pyplot as plt\n",
    "import pickle\n",
    "from astroquery.esa.hubble import ESAHubble\n",
    "from astropy.io import fits\n",
    "from astropy.table import Table\n",
    "import glob\n",
    "import os\n",
    "\n",
    "\n",
    "\n",
    "def read_mul171():\n",
    "    # read mullaney and add designations\n",
    "    mul171_ = pd.read_pickle(\"/home/insepien/research-data/alpaka/mull171.pkl\")\n",
    "    designations = []\n",
    "    for i in range(0, len(mul171_)):\n",
    "        pos = SkyCoord(ra=mul171_['RA'][i]*u.deg, dec=mul171_['DEC'][i]*u.deg)\n",
    "        posstring = pos.to_string('hmsdms').split(' ')\n",
    "        des_ra = posstring[0][0:2]+posstring[0][3:5]\n",
    "        des_dec = posstring[1][0:3]+posstring[1][4:6]\n",
    "        des = 'J'+des_ra+des_dec\n",
    "        designations.append(des)\n",
    "    mul171_['DESIG'] = designations\n",
    "    return mul171_\n",
    "\n",
    "def pos(row):\n",
    "    \"\"\"make skyCoord object for HST coord cone search\"\"\"\n",
    "    return SkyCoord(ra=row['RA']*u.deg, dec=row['DEC']*u.deg)\n",
    "\n",
    "def cross_bigmac(mul171):\n",
    "    \"\"\"crossmatch sample with big MAC\"\"\"\n",
    "    # read in big  mac\n",
    "    bigmac = pd.read_csv(\"/home/insepien/research-data/GFG.csv\")\n",
    "    # format designation\n",
    "    desigs = []\n",
    "    for i in range(len(bigmac)):\n",
    "        name = bigmac['Name1'].loc[i].replace(\"SDSS\",\"\")\n",
    "        if name[0] == \"J\":\n",
    "            if \"+\" in name:\n",
    "                desig = name.split(\"+\")[0][:5] + \"+\" + name.split(\"+\")[1][:4]\n",
    "                desigs.append(desig)\n",
    "            elif \"-\" in name:\n",
    "                desig = name.split(\"-\")[0][:5] + \"-\" + name.split(\"-\")[1][:4]\n",
    "                desigs.append(desig)\n",
    "            else: print(name) \n",
    "        else:\n",
    "            desigs.append(name)\n",
    "    bigmac['DESIG'] = desigs\n",
    "\n",
    "    # merge big mac and mullaney\n",
    "    mul_bm = pd.merge(mul171,bigmac, on=\"DESIG\")\n",
    "\n",
    "    # optionally can get decals images\n",
    "    # for n in mul_bm.index:\n",
    "    #     urlretrieve('http://legacysurvey.org/viewer/jpeg-cutout?ra='+str(mul_bm.loc[n,'RA'])+'&dec='+str(mul_bm.loc[n,'DEC'])+'&layer=decals-dr7&pixscale=0.27&bands=grz',\n",
    "    #                 \"/home/insepien/research-data/hst/mul_bm/\"+str(mul_bm.loc[n,'DESIG'])+'.jpg')\n",
    "    return mul_bm, bigmac\n",
    "\n",
    "def cal_sep(theta, z):\n",
    "    \"\"\"return dual sep in kpc given scalar angle sep in arcsec\"\"\"\n",
    "    angle = (theta*u.arcsec).to(u.rad).value\n",
    "    return (cosmo.angular_diameter_distance(z)*angle).to(u.kpc)\n",
    "\n",
    "\n",
    "def f(on, theta):\n",
    "    fn = \"/home/insepien/research-data/hst/mul_bm/\"+on+\".jpg\"\n",
    "    decals_plate_scale = 0.236 #''/pix\n",
    "    pix_sep = theta/decals_plate_scale\n",
    "\n",
    "    fig,ax = plt.subplots()\n",
    "    im = plt.imread(fn)\n",
    "    midF = im.shape[0]/2\n",
    "    ax.imshow(im)\n",
    "    circ = plt.Circle((midF,midF), pix_sep, fill=False, color='white',alpha=0.5,label=f\"{theta:.2f}''\")\n",
    "    ax.add_patch(circ)\n",
    "    ax.legend()\n",
    "    ax.set_title(on)\n"
   ]
  },
  {
   "cell_type": "code",
   "execution_count": null,
   "metadata": {},
   "outputs": [],
   "source": [
    "res = 0.04*2.5\n",
    "cal_sep(res,0.18)"
   ]
  },
  {
   "cell_type": "markdown",
   "metadata": {},
   "source": [
    "### find megellan seeing"
   ]
  },
  {
   "cell_type": "code",
   "execution_count": null,
   "metadata": {},
   "outputs": [],
   "source": [
    "fn = os.listdir('/home/insepien/research-data/agn-result/box/final_cut')\n",
    "onames = [f[:10] for f in fn]\n",
    "\n",
    "fwhms = []\n",
    "min_seps = []\n",
    "for on in onames:\n",
    "    expfile = glob.glob(os.path.expanduser(\"~/raw-data-agn/exp-fits-agn/*\"+on+\"*.exp.fits\"))[0]\n",
    "    with fits.open(os.path.expanduser(expfile)) as hdul:\n",
    "        hdu0 = hdul[0]\n",
    "    z = mul171[mul171['DESIG']==on]['Z'].values[0]\n",
    "    fwhm = hdu0.header['FWHM_AVE']\n",
    "    fwhms.append(fwhm)\n",
    "    min_seps.append(cal_sep(fwhm,z).value)\n",
    "\n",
    "fig,ax = plt.subplots(1,2,figsize=(7,3))\n",
    "ax[0].hist(fwhms)\n",
    "ax[0].set_xlabel(\"Avg FWHM ['']\")\n",
    "ax[0].set_title(f\"Min: {np.min(fwhms):.2f}, \\n median: {np.median(fwhms):.2f}\")\n",
    "\n",
    "ax[1].hist(min_seps)\n",
    "ax[1].set_xlabel(\"min resolution (kpc)\")\n",
    "ax[1].set_title(f\"Min: {np.min(min_seps):.2f}, \\n median: {np.median(min_seps):.2f}\")\n",
    ";"
   ]
  },
  {
   "cell_type": "markdown",
   "metadata": {},
   "source": [
    "## cross-match catalogs"
   ]
  },
  {
   "cell_type": "code",
   "execution_count": null,
   "metadata": {},
   "outputs": [],
   "source": [
    "# read in original sample\n",
    "mul171 = read_mul171()\n",
    "mul_bm, bigmac = cross_bigmac(mul171)\n",
    "\n",
    "# get some stats on sub-kpc pairs for science justification\n",
    "subkpc_mask = (bigmac['Primary System Type']=='Dual AGN Candidate') & (bigmac['Sep(kpc)']<1) & (bigmac['Sep(kpc)']>0)\n",
    "subkpc_dual = bigmac[subkpc_mask]\n",
    "dual_mask = (bigmac['Primary System Type']=='Dual AGN Candidate') & (bigmac['Sep(kpc)']>0)\n",
    "dual = bigmac[dual_mask]\n",
    "print(\"fraction of sub-kpc\", len(subkpc_dual)/len(dual))\n",
    "print(\"number of duals\", len(dual))\n",
    "\n",
    "# get some methods of measuring sub-kpc sep\n",
    "anyl_meth = Counter(subkpc_dual['Parsed Analysis Method'])\n",
    "print(\"1st most common method: \",anyl_meth.most_common(2)[0])\n",
    "print(\"2nd most common method: \",anyl_meth.most_common(2)[1])\n",
    "\n",
    "\n",
    "# cross-match specifically for magellan\n",
    "with open(\"/home/insepien/research-data/alpaka/alpaka_39fits.pkl\",\"rb\") as f:\n",
    "    magel = pickle.load(f)\n",
    "\n",
    "magel.reset_index(inplace=True)\n",
    "magel.rename(columns={\"Desig\":\"DESIG\"},inplace=True)\n",
    "magel_bm, _ = cross_bigmac(magel)"
   ]
  },
  {
   "cell_type": "code",
   "execution_count": null,
   "metadata": {},
   "outputs": [],
   "source": [
    "from astropy.io import ascii\n",
    "ipac_cat = Table([mul171['RA'], mul171['DEC']], names=['ra','dec'])\n",
    "for_wise_search = ascii.write(ipac_cat, 'for_wise_search.dat', format='ipac', overwrite=True);"
   ]
  },
  {
   "cell_type": "markdown",
   "metadata": {},
   "source": [
    "## sample stats"
   ]
  },
  {
   "cell_type": "code",
   "execution_count": null,
   "metadata": {},
   "outputs": [],
   "source": [
    "def print_shifted_lines(wl_rest, zmin=float(min(mul171['Z'])),zmax=float(max(mul171['Z']))):\n",
    "    print(f\" {wl_rest} shifted to min z:{np.floor((1+zmin)*wl_rest):.0f}, max z:{np.ceil((1+zmax)*wl_rest):.0f}\")\n",
    "\n",
    "print_shifted_lines(5007)"
   ]
  },
  {
   "cell_type": "code",
   "execution_count": null,
   "metadata": {},
   "outputs": [],
   "source": [
    "fig,ax = plt.subplots()\n",
    "ax.hist((1+mul171['Z'])*4959,histtype='step',label=\"shifted [OIII]4959\",alpha=0.5)\n",
    "ax.hist((1+mul171['Z'])*5007,histtype='step',label=\"shifted [OIII]5007\")\n",
    "ax.hist((1+mul171['Z'])*6500,histtype='step',label=\"shifted HA 6500\")\n",
    "ax.hist((1+mul171['Z'])*6548,histtype='step',label=\"shifted NII 6548\",alpha=0.5)\n",
    "ax.hist((1+mul171['Z'])*6584,histtype='step',label=\"shifted NII 6584\",alpha=0.5)\n",
    "ax.set_xlabel(\"wavelength (angstroms)\")\n",
    "ax.set_ylabel(\"# of sources\")\n",
    "ax.set_xlim((5500,8300))\n",
    "ax.set_xticks(np.arange(5500,8500,300))\n",
    "ax.set_title(\"shifted emission lines in full 171 sample\")\n",
    "ax.legend(bbox_to_anchor=(1.05, 1), loc='upper left')\n",
    ";"
   ]
  },
  {
   "cell_type": "code",
   "execution_count": null,
   "metadata": {},
   "outputs": [],
   "source": [
    "flt = {'621M':[6218.9,609.5],\n",
    "       '689M':[6876.8,684.2],\n",
    "       '625W':[6242.6,1464.6],\n",
    "       '763M':[7614.4,708.6],\n",
    "       '775W':[7651.4,1179.1]}\n",
    "\n",
    "def onBand_mask(wl_line,flt_name):\n",
    "    \"\"\"mask for on band for some filter with some central wl and width\"\"\"\n",
    "    wl_eff,width = flt[flt_name]\n",
    "    wl_min = wl_eff - width/2\n",
    "    wl_max = wl_eff + width/2\n",
    "    return ((1+mul171['Z'])*wl_line>wl_min) & ((1+mul171['Z'])*wl_line < wl_max)\n",
    "\n",
    "def offBand_mask(wl_line,flt_name):\n",
    "    \"\"\"mask for on band for some filter with some central wl and width\"\"\"\n",
    "    wl_eff,width = flt[flt_name]\n",
    "    wl_min = wl_eff - width/2\n",
    "    wl_max = wl_eff + width/2\n",
    "    return ((1+mul171['Z'])*wl_line<wl_min) | ((1+mul171['Z'])*wl_line > wl_max)\n",
    "\n",
    "def test_filter_set(fb_on,fb_off,line='OIII'):\n",
    "    if line=='OIII':\n",
    "        mask_on_band = onBand_mask(4959,fb_on) & onBand_mask(5007,fb_on)\n",
    "        mask_off_band = offBand_mask(4959,fb_off) & offBand_mask(5007,fb_off)\n",
    "        print(f\"Number of galaxies with both [OIII] on F{fb_on} and off F{fb_off}: {np.sum(mask_on_band&mask_off_band)}\")\n",
    "    elif line ==\"NII\":\n",
    "        mask_on_band = onBand_mask(6548,fb_on) & onBand_mask(6584,fb_on)\n",
    "        mask_off_band = offBand_mask(6548,fb_off) & offBand_mask(6584,fb_off)\n",
    "        print(f\"Number of galaxies with both NII on F{fb_on} and off F{fb_off}: {np.sum(mask_on_band&mask_off_band)}\")\n",
    "\n",
    "test_filter_set(\"621M\",\"689M\",\"OIII\")\n",
    "test_filter_set(\"625W\",\"689M\",\"OIII\")\n",
    "test_filter_set(\"763M\",\"689M\",\"NII\")\n",
    "test_filter_set(\"775W\",\"689M\",\"NII\")"
   ]
  },
  {
   "cell_type": "code",
   "execution_count": null,
   "metadata": {},
   "outputs": [],
   "source": [
    "mul171_rep_inf = mul171.copy().replace([np.inf, -np.inf,0], 1e-99)\n",
    "\n",
    "fig,ax = plt.subplots(1,3,figsize=(10,3))\n",
    "x=\"FLUX\"\n",
    "ax[0].hist(np.log10(mul171['OIII_5007_'+x]),label='[OIII]5007')\n",
    "ax[0].hist(np.log10(mul171['OIII_4959_'+x]),label='[OIII]4959')\n",
    "ax[0].set_title(\"OIII \"+x)\n",
    "\n",
    "ax[1].hist(np.log10(mul171_rep_inf['HA_'+x]),label='HA',histtype='step')\n",
    "ax[1].hist(np.log10(mul171_rep_inf['NII_6548_'+x]),label='NII 6548',histtype='step')\n",
    "ax[1].hist(np.log10(mul171_rep_inf['NII_6584_'+x]),label='NII 6584')\n",
    "ax[1].set_title(\"HA and NII \"+x)\n",
    "\n",
    "cut={'LUM':30, 'FLUX':-5}\n",
    "unit={'LUM':'erg/s', 'FLUX':' 1e-17 erg/s/cm-2'}\n",
    "\n",
    "ax[2].hist(np.log10(mul171['HA_'+x][np.log10(mul171['HA_'+x])>cut[x]]),label='HA',histtype='step')\n",
    "ax[2].hist(np.log10(mul171['NII_6548_'+x][np.log10(mul171['NII_6548_'+x])>cut[x]]),label='NII 6548')\n",
    "ax[2].hist(np.log10(mul171['NII_6584_'+x][np.log10(mul171['NII_6584_'+x])>cut[x]]),label='NII 6584')\n",
    "ax[2].set_title(\"HA and NII \"+x+\"\\n without outliers\")\n",
    "\n",
    "[a.set_xlabel(f\"Log({x}) [{unit[x]}]\") for a in ax]\n",
    "ax[0].set_ylabel(\"# objs\")\n",
    "[a.legend() for a in ax]\n",
    "fig.tight_layout();"
   ]
  },
  {
   "cell_type": "markdown",
   "metadata": {},
   "source": [
    "## binary calculations"
   ]
  },
  {
   "cell_type": "code",
   "execution_count": null,
   "metadata": {},
   "outputs": [],
   "source": [
    "from scipy.integrate import quad\n",
    "\n",
    "def f(x,alpha,beta,phi):\n",
    "    \"\"\"integrand of SChecter function\"\"\"\n",
    "    return phi*x**alpha*np.exp(-x**beta)  \n",
    "\n",
    "def n_massive_dens(logMcut_,logMbhcut_):\n",
    "    \"\"\"calculate the number density of binary given mass cuts\"\"\"\n",
    "    # GSMF constants\n",
    "    phi1 = 10**-4.85\n",
    "    phi2 = 10**-2.85\n",
    "    Ms = 10**11.33\n",
    "    alpha1 = 0.92\n",
    "    alpha2 = -1.38\n",
    "    # BHMF constants\n",
    "    alpha_bh = -1.27\n",
    "    beta_bh = 0.45\n",
    "    phi_bh = 10**-2\n",
    "    Msbh = 10**8.09\n",
    "    # numerically integrate the number density of massive galaxies (note the GSMF is a sum of 2 PS functions)\n",
    "    result1, _ = quad(f, 10**logMcut_/Ms, np.inf, args=(alpha1,1,phi1))\n",
    "    result2, _ = quad(f, 10**logMcut_/Ms, np.inf, args=(alpha2,1,phi2)) \n",
    "    n_massive_gal = result1+result2\n",
    "    # number density of massive BHs\n",
    "    n_massive_bh, _ = quad(f, 10**logMbhcut_/Msbh, np.inf, args=(alpha_bh,beta_bh,phi_bh)) \n",
    "    return n_massive_gal, n_massive_bh\n",
    "\n",
    "def n_bi(n_massive_,n_binary_):\n",
    "    \"\"\"calculate number of binary and galaxies given their number densities\n",
    "        find dual fraction and expected observations\"\"\"\n",
    "    # get binary number \n",
    "    # SDSS covers only part of sky\n",
    "    f_sky = 9380/41253\n",
    "    # comoving volume in z-range\n",
    "    volume = (cosmo.comoving_volume(0.22)-cosmo.comoving_volume(0.14)).value\n",
    "    # Number of binary\n",
    "    N_c22 = n_binary_*volume*f_sky\n",
    "    # get massive gal number\n",
    "    N_massive_gal = n_massive_*volume*f_sky\n",
    "    # dual fraction\n",
    "    f_dual = N_c22/N_massive_gal\n",
    "    # results\n",
    "    print(f\"{N_c22:.0f} binaries in SDSS in z=0.14-0.22\")\n",
    "    print(f\"{N_massive_gal:.2e} massive galaxies\")\n",
    "    print(f\"dual fraction:{f_dual*100:.2f}%\")\n",
    "    print(f\"We can observe {f_dual*50:.0f}/50 binaries\")"
   ]
  },
  {
   "cell_type": "code",
   "execution_count": null,
   "metadata": {},
   "outputs": [],
   "source": [
    "# define cuts and binary density\n",
    "logMcut = 11\n",
    "logMbhcut = 8\n",
    "n_bin = 3e-5\n",
    "# calculate number of massive things\n",
    "n_massive_gal, n_massive_bh = n_massive_dens(logMcut_=logMcut, logMbhcut_=logMbhcut)\n",
    "\n",
    "# print results\n",
    "print(\"GSMF\")\n",
    "n_bi(n_massive_gal,n_bin)\n",
    "print(\"\\nBHMF\")\n",
    "n_bi(n_massive_bh,n_bin)"
   ]
  },
  {
   "cell_type": "markdown",
   "metadata": {},
   "source": [
    "## r-band flux distribution"
   ]
  },
  {
   "cell_type": "code",
   "execution_count": null,
   "metadata": {},
   "outputs": [],
   "source": [
    "with fits.open(\"/home/insepien/research-data/alpaka/specphot_fibermag.fits\",memmap=True) as hdul:\n",
    "    data_specphot = hdul[1].data\n",
    "    print(hdul[1].columns)\n",
    "\n",
    "with fits.open(\"/home/insepien/research-data/alpaka/specobj_dec.fits\",memmap=True) as hdul:\n",
    "    data_specobj = hdul[1].data\n",
    "    print(hdul[1].columns)"
   ]
  },
  {
   "cell_type": "code",
   "execution_count": null,
   "metadata": {},
   "outputs": [],
   "source": [
    "mask_phot = np.isin(data_specphot['dec'],mul171['DEC'])\n",
    "mask_obj = np.isin(data_specobj['dec'],mul171['DEC'])"
   ]
  },
  {
   "cell_type": "code",
   "execution_count": null,
   "metadata": {},
   "outputs": [],
   "source": [
    "magab = 22.5 - 2.5 * np.log10(data_specobj['spectroFlux_r'][mask_obj])\n",
    "plt.hist(magab)\n",
    "plt.xlabel(\"AB mag\")\n",
    "plt.title(f\"SpecObj for {np.sum(mask_obj):.0f} objects\")"
   ]
  },
  {
   "cell_type": "code",
   "execution_count": null,
   "metadata": {},
   "outputs": [],
   "source": [
    "plt.hist(data_specphot['fiberMag_r'][mask_phot])\n",
    "plt.xlabel(\"AB mag\")\n",
    "plt.title(f\"SpecPhot for {np.sum(mask_phot):.0f} objects\")"
   ]
  },
  {
   "cell_type": "markdown",
   "metadata": {},
   "source": [
    "## j1010 hst search"
   ]
  },
  {
   "cell_type": "code",
   "execution_count": null,
   "metadata": {},
   "outputs": [],
   "source": [
    "esahubble = ESAHubble()\n",
    "# get j1010 data \n",
    "j1010 = esahubble.query_criteria(proposal=14730)\n",
    "j1010 = j1010.to_pandas()"
   ]
  },
  {
   "cell_type": "code",
   "execution_count": null,
   "metadata": {},
   "outputs": [],
   "source": [
    "j1010[(j1010['filter']==\"F621M\") & (j1010['target_name']==\"2MASX-J10102294+1413009\")]['observation_id']"
   ]
  },
  {
   "cell_type": "markdown",
   "metadata": {},
   "source": [
    "# filter and HST search"
   ]
  },
  {
   "cell_type": "code",
   "execution_count": null,
   "metadata": {},
   "outputs": [],
   "source": [
    "def search_hst(mul171_,filters_=[\"F621M\",\"F689M\"]):\n",
    "    \"\"\"search if sample has been observed with HST\n",
    "        returns the search results, indices with search errors, and indices of objects that have been observed before\"\"\"\n",
    "    res = []\n",
    "    erred_ind = []\n",
    "    for i in range(140,len(mul171_)):\n",
    "        try:\n",
    "            res.append(esahubble.cone_search_criteria(coordinates=pos(mul171_.loc[i]),\n",
    "                                                radius=7*u.arcmin,\n",
    "                                                instrument_name = ['WFC3'],\n",
    "                                                filters = filters_))\n",
    "        except:\n",
    "            erred_ind.append(i)\n",
    "    observed_ind = [i for i in range(len(res)) if len(res[i])!=0]\n",
    "    return res, erred_ind, observed_ind"
   ]
  },
  {
   "cell_type": "code",
   "execution_count": null,
   "metadata": {},
   "outputs": [],
   "source": [
    "# see what files is in an observation\n",
    "esahubble.get_associated_files(observation_id=\"hst_12521_0e_wfc3_uvis_total\")\n",
    "# download a file\n",
    "esahubble.download_file(file=\"hst_12521_0e_wfc3_uvis_total_drz.fits\")"
   ]
  },
  {
   "cell_type": "code",
   "execution_count": null,
   "metadata": {},
   "outputs": [],
   "source": []
  }
 ],
 "metadata": {
  "kernelspec": {
   "display_name": "usc",
   "language": "python",
   "name": "python3"
  },
  "language_info": {
   "codemirror_mode": {
    "name": "ipython",
    "version": 3
   },
   "file_extension": ".py",
   "mimetype": "text/x-python",
   "name": "python",
   "nbconvert_exporter": "python",
   "pygments_lexer": "ipython3",
   "version": "3.11.3"
  }
 },
 "nbformat": 4,
 "nbformat_minor": 2
}
