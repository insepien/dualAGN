{
 "cells": [
  {
   "cell_type": "code",
   "execution_count": null,
   "metadata": {},
   "outputs": [],
   "source": [
    "import pandas as pd\n",
    "from astropy.coordinates import SkyCoord\n",
    "import astropy.units as u\n",
    "from astroquery.ipac.ned import Ned\n",
    "import numpy as np\n",
    "from astropy.cosmology import WMAP9 as cosmo\n",
    "from urllib.request import urlretrieve\n",
    "from collections import Counter\n",
    "import matplotlib.pyplot as plt\n",
    "import pickle\n",
    "from astroquery.esa.hubble import ESAHubble\n",
    "from astropy.io import fits\n",
    "from astropy.table import Table\n",
    "import glob\n",
    "import os\n",
    "\n",
    "\n",
    "\n",
    "def read_mul171():\n",
    "    # read mullaney and add designations\n",
    "    mul171_ = pd.read_pickle(\"/home/insepien/research-data/alpaka/mull171.pkl\")\n",
    "    designations = []\n",
    "    for i in range(0, len(mul171_)):\n",
    "        pos = SkyCoord(ra=mul171_['RA'][i]*u.deg, dec=mul171_['DEC'][i]*u.deg)\n",
    "        posstring = pos.to_string('hmsdms').split(' ')\n",
    "        des_ra = posstring[0][0:2]+posstring[0][3:5]\n",
    "        des_dec = posstring[1][0:3]+posstring[1][4:6]\n",
    "        des = 'J'+des_ra+des_dec\n",
    "        designations.append(des)\n",
    "    mul171_['DESIG'] = designations\n",
    "    return mul171_\n",
    "\n",
    "def pos(row):\n",
    "    \"\"\"make skyCoord object for HST coord cone search\"\"\"\n",
    "    return SkyCoord(ra=row['RA']*u.deg, dec=row['DEC']*u.deg)\n",
    "\n",
    "def cross_bigmac(mul171):\n",
    "    \"\"\"crossmatch sample with big MAC\"\"\"\n",
    "    # read in big  mac\n",
    "    bigmac = pd.read_csv(\"/home/insepien/research-data/GFG.csv\")\n",
    "    # format designation\n",
    "    desigs = []\n",
    "    for i in range(len(bigmac)):\n",
    "        name = bigmac['Name1'].loc[i].replace(\"SDSS\",\"\")\n",
    "        if name[0] == \"J\":\n",
    "            if \"+\" in name:\n",
    "                desig = name.split(\"+\")[0][:5] + \"+\" + name.split(\"+\")[1][:4]\n",
    "                desigs.append(desig)\n",
    "            elif \"-\" in name:\n",
    "                desig = name.split(\"-\")[0][:5] + \"-\" + name.split(\"-\")[1][:4]\n",
    "                desigs.append(desig)\n",
    "            else: print(name) \n",
    "        else:\n",
    "            desigs.append(name)\n",
    "    bigmac['DESIG'] = desigs\n",
    "\n",
    "    # merge big mac and mullaney\n",
    "    mul_bm = pd.merge(mul171,bigmac, on=\"DESIG\")\n",
    "\n",
    "    # optionally can get decals images\n",
    "    # for n in mul_bm.index:\n",
    "    #     urlretrieve('http://legacysurvey.org/viewer/jpeg-cutout?ra='+str(mul_bm.loc[n,'RA'])+'&dec='+str(mul_bm.loc[n,'DEC'])+'&layer=decals-dr7&pixscale=0.27&bands=grz',\n",
    "    #                 \"/home/insepien/research-data/hst/mul_bm/\"+str(mul_bm.loc[n,'DESIG'])+'.jpg')\n",
    "    return mul_bm, bigmac\n",
    "\n",
    "def cal_sep(theta, z):\n",
    "    \"\"\"return dual sep in kpc given scalar angle sep in arcsec\"\"\"\n",
    "    angle = (theta*u.arcsec).to(u.rad).value\n",
    "    return (cosmo.angular_diameter_distance(z)*angle).to(u.kpc)\n",
    "\n",
    "\n",
    "def f(on, theta):\n",
    "    fn = \"/home/insepien/research-data/hst/mul_bm/\"+on+\".jpg\"\n",
    "    decals_plate_scale = 0.236 #''/pix\n",
    "    pix_sep = theta/decals_plate_scale\n",
    "\n",
    "    fig,ax = plt.subplots()\n",
    "    im = plt.imread(fn)\n",
    "    midF = im.shape[0]/2\n",
    "    ax.imshow(im)\n",
    "    circ = plt.Circle((midF,midF), pix_sep, fill=False, color='white',alpha=0.5,label=f\"{theta:.2f}''\")\n",
    "    ax.add_patch(circ)\n",
    "    ax.legend()\n",
    "    ax.set_title(on)\n"
   ]
  },
  {
   "cell_type": "code",
   "execution_count": null,
   "metadata": {},
   "outputs": [],
   "source": [
    "res = 0.04*2.5\n",
    "cal_sep(res,0.18)"
   ]
  },
  {
   "cell_type": "code",
   "execution_count": null,
   "metadata": {},
   "outputs": [],
   "source": [
    "fn = os.listdir('/home/insepien/research-data/agn-result/box/final_cut')\n",
    "onames = [f[:10] for f in fn]\n",
    "\n",
    "fwhms = []\n",
    "min_seps = []\n",
    "for on in onames:\n",
    "    expfile = glob.glob(os.path.expanduser(\"~/raw-data-agn/exp-fits-agn/*\"+on+\"*.exp.fits\"))[0]\n",
    "    with fits.open(os.path.expanduser(expfile)) as hdul:\n",
    "        hdu0 = hdul[0]\n",
    "    z = mul171[mul171['DESIG']==on]['Z'].values[0]\n",
    "    fwhm = hdu0.header['FWHM_AVE']\n",
    "    fwhms.append(fwhm)\n",
    "    min_seps.append(cal_sep(fwhm,z).value)\n",
    "\n",
    "fig,ax = plt.subplots(1,2,figsize=(7,3))\n",
    "ax[0].hist(fwhms)\n",
    "ax[0].set_xlabel(\"Avg FWHM ['']\")\n",
    "ax[0].set_title(f\"Min: {np.min(fwhms):.2f}, \\n median: {np.median(fwhms):.2f}\")\n",
    "\n",
    "ax[1].hist(min_seps)\n",
    "ax[1].set_xlabel(\"min resolution (kpc)\")\n",
    "ax[1].set_title(f\"Min: {np.min(min_seps):.2f}, \\n median: {np.median(min_seps):.2f}\")\n",
    ";"
   ]
  },
  {
   "cell_type": "markdown",
   "metadata": {},
   "source": [
    "# cross-match catalogs"
   ]
  },
  {
   "cell_type": "code",
   "execution_count": null,
   "metadata": {},
   "outputs": [],
   "source": [
    "# read in original sample\n",
    "mul171 = read_mul171()\n",
    "mul_bm, bigmac = cross_bigmac(mul171)\n",
    "\n",
    "# get some stats on sub-kpc pairs for science justification\n",
    "subkpc_mask = (bigmac['Primary System Type']=='Dual AGN Candidate') & (bigmac['Sep(kpc)']<1) & (bigmac['Sep(kpc)']>0)\n",
    "subkpc_dual = bigmac[subkpc_mask]\n",
    "dual_mask = (bigmac['Primary System Type']=='Dual AGN Candidate') & (bigmac['Sep(kpc)']>0)\n",
    "dual = bigmac[dual_mask]\n",
    "print(\"fraction of sub-kpc\", len(subkpc_dual)/len(dual))\n",
    "print(\"number of duals\", len(dual))\n",
    "\n",
    "# get some methods of measuring sub-kpc sep\n",
    "anyl_meth = Counter(subkpc_dual['Parsed Analysis Method'])\n",
    "print(\"1st most common method: \",anyl_meth.most_common(2)[0])\n",
    "print(\"2nd most common method: \",anyl_meth.most_common(2)[1])\n",
    "\n",
    "\n",
    "# cross-match specifically for magellan\n",
    "with open(\"/home/insepien/research-data/alpaka/alpaka_39fits.pkl\",\"rb\") as f:\n",
    "    magel = pickle.load(f)\n",
    "\n",
    "magel.reset_index(inplace=True)\n",
    "magel.rename(columns={\"Desig\":\"DESIG\"},inplace=True)\n",
    "magel_bm, _ = cross_bigmac(magel)"
   ]
  },
  {
   "cell_type": "markdown",
   "metadata": {},
   "source": [
    "## sample stats"
   ]
  },
  {
   "cell_type": "code",
   "execution_count": null,
   "metadata": {},
   "outputs": [],
   "source": [
    "def print_shifted_lines(wl_rest, zmin=float(min(mul171['Z'])),zmax=float(max(mul171['Z']))):\n",
    "    print(f\" {wl_rest} shifted to min z:{np.floor((1+zmin)*wl_rest):.0f}, max z:{np.ceil((1+zmax)*wl_rest):.0f}\")\n",
    "\n",
    "print_shifted_lines(5007)"
   ]
  },
  {
   "cell_type": "code",
   "execution_count": null,
   "metadata": {},
   "outputs": [],
   "source": [
    "import matplotlib.patches as patches\n",
    "fig,ax = plt.subplots()\n",
    "ax.hist((1+mul171['Z'])*4959,histtype='step',label=\"shifted [OIII]4959\",alpha=0.5)\n",
    "ax.hist((1+mul171['Z'])*5007,histtype='step',label=\"shifted [OIII]5007\")\n",
    "ax.hist((1+mul171['Z'])*6500,histtype='step',label=\"shifted HA 6500\")\n",
    "ax.hist((1+mul171['Z'])*6548,histtype='step',label=\"shifted NII 6548\",alpha=0.5)\n",
    "ax.hist((1+mul171['Z'])*6584,histtype='step',label=\"shifted NII 6584\",alpha=0.5)\n",
    "ax.set_xlabel(\"wavelength (angstroms)\")\n",
    "ax.set_ylabel(\"# of sources\")\n",
    "ax.set_xlim((5500,8300))\n",
    "ax.set_xticks(np.arange(5500,8500,300))\n",
    "ax.set_title(\"shifted emission lines in full 171 sample\")\n",
    "ax.legend(bbox_to_anchor=(1.05, 1), loc='upper left')\n",
    "\n",
    ";"
   ]
  },
  {
   "cell_type": "code",
   "execution_count": null,
   "metadata": {},
   "outputs": [],
   "source": [
    "flt = {'621M':[6218.9,609.5],\n",
    "       '689M':[6876.8,684.2],\n",
    "       '625W':[6242.6,1464.6],\n",
    "       '763M':[7614.4,708.6],\n",
    "       '775W':[7651.4,1179.1]}\n",
    "\n",
    "def onBand_mask(wl_line,flt_name):\n",
    "    \"\"\"mask for on band for some filter with some central wl and width\"\"\"\n",
    "    wl_eff,width = flt[flt_name]\n",
    "    wl_min = wl_eff - width/2\n",
    "    wl_max = wl_eff + width/2\n",
    "    return ((1+mul171['Z'])*wl_line>wl_min) & ((1+mul171['Z'])*wl_line < wl_max)\n",
    "\n",
    "def offBand_mask(wl_line,flt_name):\n",
    "    \"\"\"mask for on band for some filter with some central wl and width\"\"\"\n",
    "    wl_eff,width = flt[flt_name]\n",
    "    wl_min = wl_eff - width/2\n",
    "    wl_max = wl_eff + width/2\n",
    "    return ((1+mul171['Z'])*wl_line<wl_min) | ((1+mul171['Z'])*wl_line > wl_max)\n",
    "\n",
    "def test_filter_set(fb_on,fb_off,line='OIII'):\n",
    "    if line=='OIII':\n",
    "        mask_on_band = onBand_mask(4959,fb_on) & onBand_mask(5007,fb_on)\n",
    "        mask_off_band = offBand_mask(4959,fb_off) & offBand_mask(5007,fb_off)\n",
    "        print(f\"Number of galaxies with both [OIII] on F{fb_on} and off F{fb_off}: {np.sum(mask_on_band&mask_off_band)}\")\n",
    "    elif line ==\"NII\":\n",
    "        mask_on_band = onBand_mask(6548,fb_on) & onBand_mask(6584,fb_on)\n",
    "        mask_off_band = offBand_mask(6548,fb_off) & offBand_mask(6584,fb_off)\n",
    "        print(f\"Number of galaxies with both NII on F{fb_on} and off F{fb_off}: {np.sum(mask_on_band&mask_off_band)}\")\n",
    "\n",
    "test_filter_set(\"621M\",\"689M\",\"OIII\")\n",
    "test_filter_set(\"625W\",\"689M\",\"OIII\")\n",
    "test_filter_set(\"763M\",\"689M\",\"NII\")\n",
    "test_filter_set(\"775W\",\"689M\",\"NII\")"
   ]
  },
  {
   "cell_type": "code",
   "execution_count": null,
   "metadata": {},
   "outputs": [],
   "source": [
    "mul171_rep_inf = mul171.copy().replace([np.inf, -np.inf,0], 1e-99)\n",
    "\n",
    "fig,ax = plt.subplots(1,3,figsize=(10,3))\n",
    "x=\"FLUX\"\n",
    "ax[0].hist(np.log10(mul171['OIII_5007_'+x]),label='[OIII]5007')\n",
    "ax[0].hist(np.log10(mul171['OIII_4959_'+x]),label='[OIII]4959')\n",
    "ax[0].set_title(\"OIII \"+x)\n",
    "\n",
    "ax[1].hist(np.log10(mul171_rep_inf['HA_'+x]),label='HA',histtype='step')\n",
    "ax[1].hist(np.log10(mul171_rep_inf['NII_6548_'+x]),label='NII 6548',histtype='step')\n",
    "ax[1].hist(np.log10(mul171_rep_inf['NII_6584_'+x]),label='NII 6584')\n",
    "ax[1].set_title(\"HA and NII \"+x)\n",
    "\n",
    "cut={'LUM':30, 'FLUX':-5}\n",
    "unit={'LUM':'erg/s', 'FLUX':' 1e-17 erg/s/cm-2'}\n",
    "\n",
    "ax[2].hist(np.log10(mul171['HA_'+x][np.log10(mul171['HA_'+x])>cut[x]]),label='HA',histtype='step')\n",
    "ax[2].hist(np.log10(mul171['NII_6548_'+x][np.log10(mul171['NII_6548_'+x])>cut[x]]),label='NII 6548')\n",
    "ax[2].hist(np.log10(mul171['NII_6584_'+x][np.log10(mul171['NII_6584_'+x])>cut[x]]),label='NII 6584')\n",
    "ax[2].set_title(\"HA and NII \"+x+\"\\n without outliers\")\n",
    "\n",
    "[a.set_xlabel(f\"Log({x}) [{unit[x]}]\") for a in ax]\n",
    "ax[0].set_ylabel(\"# objs\")\n",
    "[a.legend() for a in ax]\n",
    "fig.tight_layout();"
   ]
  },
  {
   "cell_type": "markdown",
   "metadata": {},
   "source": [
    "### find continuum normalized flux from sdss r-band"
   ]
  },
  {
   "cell_type": "code",
   "execution_count": null,
   "metadata": {},
   "outputs": [],
   "source": [
    "sdss = Table(fits.open(\"/home/insepien/research-data/dr7qso.fit\")[1].data).to_pandas()"
   ]
  },
  {
   "cell_type": "code",
   "execution_count": null,
   "metadata": {},
   "outputs": [],
   "source": [
    "desig=[]\n",
    "for i in range(len(sdss)):\n",
    "    try:\n",
    "        desig.append(\"J\"+sdss.loc[i]['SDSSJ'].split(\"+\")[0][:4]+\"+\"+sdss.loc[i]['SDSSJ'].split(\"+\")[1][:4])\n",
    "    except:\n",
    "        desig.append(\"J\"+sdss.loc[i]['SDSSJ'].split(\"+\")[0][:4]+\"-\"+sdss.loc[i]['SDSSJ'].split(\"+\")[1][:4])\n",
    "\n",
    "sdss['DESIG'] = desig"
   ]
  },
  {
   "cell_type": "code",
   "execution_count": null,
   "metadata": {},
   "outputs": [],
   "source": [
    "ind = 73792\n",
    "rmag = sdss[sdss['DESIG'].isin(mul171['DESIG'])]['RMAG'].max()\n",
    "z = sdss.loc[ind]['z']\n",
    "10**(rmag/-2.5)"
   ]
  },
  {
   "cell_type": "markdown",
   "metadata": {},
   "source": [
    "## j1010 hst search"
   ]
  },
  {
   "cell_type": "code",
   "execution_count": null,
   "metadata": {},
   "outputs": [],
   "source": [
    "esahubble = ESAHubble()\n",
    "# get j1010 data \n",
    "j1010 = esahubble.query_criteria(proposal=14730)\n",
    "j1010 = j1010.to_pandas()"
   ]
  },
  {
   "cell_type": "code",
   "execution_count": null,
   "metadata": {},
   "outputs": [],
   "source": [
    "j1010[(j1010['filter']==\"F621M\") & (j1010['target_name']==\"2MASX-J10102294+1413009\")]['observation_id']"
   ]
  },
  {
   "cell_type": "markdown",
   "metadata": {},
   "source": [
    "# filter and HST search"
   ]
  },
  {
   "cell_type": "code",
   "execution_count": null,
   "metadata": {},
   "outputs": [],
   "source": [
    "def search_hst(mul171_,filters_=[\"F621M\",\"F689M\"]):\n",
    "    \"\"\"search if sample has been observed with HST\n",
    "        returns the search results, indices with search errors, and indices of objects that have been observed before\"\"\"\n",
    "    res = []\n",
    "    erred_ind = []\n",
    "    for i in range(140,len(mul171_)):\n",
    "        try:\n",
    "            res.append(esahubble.cone_search_criteria(coordinates=pos(mul171_.loc[i]),\n",
    "                                                radius=7*u.arcmin,\n",
    "                                                instrument_name = ['WFC3'],\n",
    "                                                filters = filters_))\n",
    "        except:\n",
    "            erred_ind.append(i)\n",
    "    observed_ind = [i for i in range(len(res)) if len(res[i])!=0]\n",
    "    return res, erred_ind, observed_ind"
   ]
  },
  {
   "cell_type": "code",
   "execution_count": null,
   "metadata": {},
   "outputs": [],
   "source": [
    "# see what files is in an observation\n",
    "esahubble.get_associated_files(observation_id=\"hst_12521_0e_wfc3_uvis_total\")\n",
    "# download a file\n",
    "esahubble.download_file(file=\"hst_12521_0e_wfc3_uvis_total_drz.fits\")"
   ]
  },
  {
   "cell_type": "code",
   "execution_count": null,
   "metadata": {},
   "outputs": [],
   "source": []
  }
 ],
 "metadata": {
  "kernelspec": {
   "display_name": "usc",
   "language": "python",
   "name": "python3"
  },
  "language_info": {
   "codemirror_mode": {
    "name": "ipython",
    "version": 3
   },
   "file_extension": ".py",
   "mimetype": "text/x-python",
   "name": "python",
   "nbconvert_exporter": "python",
   "pygments_lexer": "ipython3",
   "version": "3.11.3"
  }
 },
 "nbformat": 4,
 "nbformat_minor": 2
}
