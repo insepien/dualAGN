{
 "cells": [
  {
   "cell_type": "code",
   "execution_count": null,
   "metadata": {},
   "outputs": [],
   "source": [
    "import pandas as pd\n",
    "from astropy.coordinates import SkyCoord\n",
    "import astropy.units as u\n",
    "from astroquery.ipac.ned import Ned\n",
    "import numpy as np\n",
    "from astropy.cosmology import WMAP9 as cosmo\n",
    "from urllib.request import urlretrieve\n",
    "from collections import Counter\n",
    "import matplotlib.pyplot as plt\n",
    "import pickle\n",
    "from astroquery.esa.hubble import ESAHubble\n",
    "\n",
    "def read_mul171():\n",
    "    # read mullaney and add designations\n",
    "    mul171_ = pd.read_pickle(\"/home/insepien/research-data/alpaka/mull171.pkl\")\n",
    "    designations = []\n",
    "    for i in range(0, len(mul171_)):\n",
    "        pos = SkyCoord(ra=mul171_['RA'][i]*u.deg, dec=mul171_['DEC'][i]*u.deg)\n",
    "        posstring = pos.to_string('hmsdms').split(' ')\n",
    "        des_ra = posstring[0][0:2]+posstring[0][3:5]\n",
    "        des_dec = posstring[1][0:3]+posstring[1][4:6]\n",
    "        des = 'J'+des_ra+des_dec\n",
    "        designations.append(des)\n",
    "    mul171_['DESIG'] = designations\n",
    "    return mul171_\n",
    "\n",
    "def pos(row):\n",
    "    \"\"\"make skyCoord object for HST coord cone search\"\"\"\n",
    "    return SkyCoord(ra=row['RA']*u.deg, dec=row['DEC']*u.deg)\n",
    "\n",
    "def cross_bigmac(mul171):\n",
    "    \"\"\"crossmatch sample with big MAC\"\"\"\n",
    "    # read in big  mac\n",
    "    bigmac = pd.read_csv(\"/home/insepien/research-data/GFG.csv\")\n",
    "    # format designation\n",
    "    desigs = []\n",
    "    for i in range(len(bigmac)):\n",
    "        name = bigmac['Name1'].loc[i].replace(\"SDSS\",\"\")\n",
    "        if name[0] == \"J\":\n",
    "            if \"+\" in name:\n",
    "                desig = name.split(\"+\")[0][:5] + \"+\" + name.split(\"+\")[1][:4]\n",
    "                desigs.append(desig)\n",
    "            elif \"-\" in name:\n",
    "                desig = name.split(\"-\")[0][:5] + \"-\" + name.split(\"-\")[1][:4]\n",
    "                desigs.append(desig)\n",
    "            else: print(name) \n",
    "        else:\n",
    "            desigs.append(name)\n",
    "    bigmac['DESIG'] = desigs\n",
    "\n",
    "    # merge big mac and mullaney\n",
    "    mul_bm = pd.merge(mul171,bigmac, on=\"DESIG\")\n",
    "\n",
    "    # optionally can get decals images\n",
    "    # for n in mul_bm.index:\n",
    "    #     urlretrieve('http://legacysurvey.org/viewer/jpeg-cutout?ra='+str(mul_bm.loc[n,'RA'])+'&dec='+str(mul_bm.loc[n,'DEC'])+'&layer=decals-dr7&pixscale=0.27&bands=grz',\n",
    "    #                 \"/home/insepien/research-data/hst/mul_bm/\"+str(mul_bm.loc[n,'DESIG'])+'.jpg')\n",
    "    return mul_bm, bigmac\n",
    "\n",
    "def cal_sep(theta, z):\n",
    "    \"\"\"return dual sep in kpc given scalar angle sep in arcsec\"\"\"\n",
    "    angle = (theta*u.arcsec).to(u.rad).value\n",
    "    return (cosmo.angular_diameter_distance(z)*angle).to(u.kpc)\n"
   ]
  },
  {
   "cell_type": "markdown",
   "metadata": {},
   "source": [
    "# cross-match catalogs"
   ]
  },
  {
   "cell_type": "code",
   "execution_count": null,
   "metadata": {},
   "outputs": [],
   "source": [
    "# cross-match specifically for magellan\n",
    "with open(\"/home/insepien/research-data/alpaka/alpaka_39fits.pkl\",\"rb\") as f:\n",
    "    magel = pickle.load(f)\n",
    "\n",
    "magel.reset_index(inplace=True)\n",
    "magel.rename(columns={\"Desig\":\"DESIG\"},inplace=True)\n",
    "magel_bm, _ = cross_bigmac(magel)"
   ]
  },
  {
   "cell_type": "code",
   "execution_count": null,
   "metadata": {},
   "outputs": [],
   "source": [
    "# read in original sample\n",
    "mul171 = read_mul171()\n",
    "mul_bm, bigmac = cross_bigmac(mul171)\n",
    "\n",
    "# get some stats on sub-kpc pairs for science justification\n",
    "subkpc_mask = (bigmac['Primary System Type']=='Dual AGN Candidate') & (bigmac['Sep(kpc)']<1) & (bigmac['Sep(kpc)']>0)\n",
    "subkpc_dual = bigmac[subkpc_mask]\n",
    "dual_mask = (bigmac['Primary System Type']=='Dual AGN Candidate') & (bigmac['Sep(kpc)']>0)\n",
    "dual = bigmac[dual_mask]\n",
    "print(\"fraction of sub-kpc\", len(subkpc_dual)/len(dual))\n",
    "print(\"number of duals\", len(dual))\n",
    "\n",
    "# get some methods of measuring sub-kpc sep\n",
    "anyl_meth = Counter(subkpc_dual['Parsed Analysis Method'])\n",
    "print(\"1st most common method: \",anyl_meth.most_common(2)[0])\n",
    "print(\"2nd most common method: \",anyl_meth.most_common(2)[1])"
   ]
  },
  {
   "cell_type": "code",
   "execution_count": null,
   "metadata": {},
   "outputs": [],
   "source": [
    "esahubble = ESAHubble()\n",
    "# get j1010 data \n",
    "j1010 = esahubble.query_criteria(proposal=14730)\n",
    "j1010 = j1010.to_pandas()"
   ]
  },
  {
   "cell_type": "markdown",
   "metadata": {},
   "source": [
    "# filter and HST search"
   ]
  },
  {
   "cell_type": "code",
   "execution_count": null,
   "metadata": {},
   "outputs": [],
   "source": [
    "min_z = float(min(mul171['Z']))\n",
    "max_z = float(max(mul171['Z']))\n",
    "print(f\"redshift range: {min_z:.3f}--{max_z:.3f}\")\n",
    "print(f\"at z={min_z:.2f} wavelength: {np.floor((1+min_z)*4959)}--{np.ceil((1+min_z)*5007)}\")\n",
    "print(f\"at z=0.2 wavelength: {np.floor((1.2)*4959)}--{np.ceil((1.2)*5007)}\")\n",
    "print(f\"at z={max_z:.2f} wavelength: {np.floor((1+max_z)*4959)}--{np.ceil((1+max_z)*5007)}\")\n",
    "plt.hist((1+mul171['Z'])*5007,histtype='step',label=\"shifted 5007\")\n",
    "plt.hist((1+mul171['Z'])*4959,histtype='step',label=\"shifted 4959\")\n",
    "plt.xlabel(\"wavelength (angstroms)\")\n",
    "plt.ylabel(\"# of sources\")\n",
    "plt.title(\"shifted OIII lines in Mullaney full 171 sample\");"
   ]
  },
  {
   "cell_type": "code",
   "execution_count": null,
   "metadata": {},
   "outputs": [],
   "source": [
    "def search_hst(mul171_,filters_=[\"F621M\",\"F689M\"]):\n",
    "    \"\"\"search if sample has been observed with HST\n",
    "        returns the search results, indices with search errors, and indices of objects that have been observed before\"\"\"\n",
    "    res = []\n",
    "    erred_ind = []\n",
    "    for i in range(140,len(mul171_)):\n",
    "        try:\n",
    "            res.append(esahubble.cone_search_criteria(coordinates=pos(mul171_.loc[i]),\n",
    "                                                radius=7*u.arcmin,\n",
    "                                                instrument_name = ['WFC3'],\n",
    "                                                filters = filters_))\n",
    "        except:\n",
    "            erred_ind.append(i)\n",
    "    observed_ind = [i for i in range(len(res)) if len(res[i])!=0]\n",
    "    return res, erred_ind, observed_ind"
   ]
  },
  {
   "cell_type": "code",
   "execution_count": null,
   "metadata": {},
   "outputs": [],
   "source": [
    "# see what files is in an observation\n",
    "esahubble.get_associated_files(observation_id=\"hst_12521_0e_wfc3_uvis_total\")\n",
    "# download a file\n",
    "esahubble.download_file(file=\"hst_12521_0e_wfc3_uvis_total_drz.fits\")"
   ]
  },
  {
   "cell_type": "code",
   "execution_count": null,
   "metadata": {},
   "outputs": [],
   "source": []
  }
 ],
 "metadata": {
  "kernelspec": {
   "display_name": "usc",
   "language": "python",
   "name": "python3"
  },
  "language_info": {
   "codemirror_mode": {
    "name": "ipython",
    "version": 3
   },
   "file_extension": ".py",
   "mimetype": "text/x-python",
   "name": "python",
   "nbconvert_exporter": "python",
   "pygments_lexer": "ipython3",
   "version": "3.11.3"
  }
 },
 "nbformat": 4,
 "nbformat_minor": 2
}
