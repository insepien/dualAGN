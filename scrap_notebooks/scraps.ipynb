{
 "cells": [
  {
   "cell_type": "code",
   "execution_count": 1,
   "id": "25619af9",
   "metadata": {},
   "outputs": [],
   "source": [
    "import numpy as np \n",
    "import pandas as pd\n",
    "import matplotlib.pyplot as plt\n",
    "import emcee \n",
    "import pyimfit \n",
    "from astropy.io import fits\n",
    "import corner\n",
    "from IPython.display import Latex\n",
    "import sys\n",
    "import warnings\n",
    "import tqdm\n",
    "\n",
    "\n",
    "plt.rcParams['image.cmap'] = 'Blues'\n",
    "warnings.filterwarnings(\"ignore\")\n",
    "\n",
    "imageFile = \"../fit/agn.fits\"\n",
    "imageAGN = fits.getdata(imageFile)\n",
    "\n",
    "epsf = fits.getdata(\"../psfConstruction/epsf2.fits\")"
   ]
  },
  {
   "cell_type": "code",
   "execution_count": 2,
   "id": "63a73e0c",
   "metadata": {},
   "outputs": [
    {
     "name": "stdout",
     "output_type": "stream",
     "text": [
      "PsfOversampling: starting initialization...\n",
      "141\n",
      "PsfOversampling: done.\n"
     ]
    }
   ],
   "source": [
    "def find_highest_indices(arr):\n",
    "    flattened_arr = np.array(arr).flatten()\n",
    "    max_indices = np.unravel_index(np.argsort(flattened_arr)[-2:], arr.shape)\n",
    "    return max_indices\n",
    "\n",
    "\n",
    "def galaxy_model(X0, Y0, X1, Y1, Xss0, Yss0, Xss1, Yss1, Xlim, Ylim,\n",
    "                 PA_ss, ell_ss, n_ss, I_ss, r_ss, Itot,\n",
    "                 PA_lim, ell_lim, I_lim, sigma_lim, Iss_lim, rss_lim):\n",
    "    \"\"\"create galaxy model for ML fit\n",
    "        including: ps: 1 psf + 1 sersic\n",
    "                   psps: 2 psf + 2 sersic\"\"\"\n",
    "\n",
    "    sersic = {'PA': [PA_ss, PA_lim[0],PA_lim[1]], 'ell_bulge': [ell_ss, ell_lim[0],ell_lim[1]], 'n': [n_ss, 'fixed'],\n",
    "    'I_e': [I_ss, Iss_lim[0],Iss_lim[1]], 'r_e': [r_ss, rss_lim[0],rss_lim[1]]}\n",
    "    sersic_dict = {'name': \"Sersic\", 'label': \"bulge\", 'parameters': sersic}\n",
    "    \n",
    "    psf = {'I_tot' : Itot}\n",
    "    psf_dict = {'name': \"PointSource\", 'label': \"psf\", 'parameters': psf}\n",
    "\n",
    "    funcset_dict_psf0 = {'X0': [X0,Xlim[0],Xlim[1]], 'Y0': [Y0, Ylim[0],Ylim[1]], \n",
    "                    'function_list': [psf_dict]}\n",
    "    funcset_dict_psf1 = {'X0': [X1,Xlim[0],Xlim[1]], 'Y0': [Y1, Ylim[0],Ylim[1]], \n",
    "                    'function_list': [psf_dict]}\n",
    "    funcset_dict_sersic0 = {'X0': [Xss0,Xlim[0],Xlim[1]], 'Y0': [Yss0,Ylim[0],Ylim[1]], \n",
    "                   'function_list': [sersic_dict]}\n",
    "    funcset_dict_sersic1 = {'X0': [Xss1,Xlim[0],Xlim[1]], 'Y0': [Yss1,Ylim[0],Ylim[1]], \n",
    "                   'function_list': [sersic_dict]}\n",
    "    \n",
    "    funcset_dict_psfser0 = {'X0': [X0,Xlim[0],Xlim[1]], 'Y0': [Y0, Ylim[0],Ylim[1]], \n",
    "                    'function_list': [psf_dict, sersic_dict]}\n",
    "    funcset_dict_psfser1 = {'X0': [X1,Xlim[0],Xlim[1]], 'Y0': [Y1, Ylim[0],Ylim[1]], \n",
    "                    'function_list': [psf_dict, sersic_dict]}\n",
    "\n",
    "    \n",
    "    model_dict_ps_1c = {'function_sets': [funcset_dict_psfser0]}\n",
    "    model_dict_psps_1c = {'function_sets': [funcset_dict_psfser0,funcset_dict_psfser1]}\n",
    "    \n",
    "    model_dict_ps_2c = {'function_sets': [funcset_dict_psf0,funcset_dict_sersic0]}\n",
    "    model_dict_psps_2c = {'function_sets': [funcset_dict_psf0, funcset_dict_psf1,funcset_dict_sersic0,funcset_dict_sersic1]}\n",
    "    \n",
    "    model_ps1c = pyimfit.ModelDescription.dict_to_ModelDescription(model_dict_ps_1c)\n",
    "    model_psps1c = pyimfit.ModelDescription.dict_to_ModelDescription(model_dict_psps_1c)\n",
    "    model_ps2c = pyimfit.ModelDescription.dict_to_ModelDescription(model_dict_ps_2c)\n",
    "    model_psps2c = pyimfit.ModelDescription.dict_to_ModelDescription(model_dict_psps_2c)\n",
    "    return model_ps1c, model_psps1c, model_ps2c, model_psps2c\n",
    "\n",
    "\n",
    "\n",
    "def doFit(models,epsf): \n",
    "    \"\"\"do fit with data using PSF oversampled by factor of 4 over whole image\n",
    "       return fitters\"\"\"\n",
    "    fitters = []\n",
    "    # oversamped PSF\n",
    "    psfOsamp = pyimfit.MakePsfOversampler(epsf, 4, (0,100,0,100))\n",
    "    osampleList = [psfOsamp]\n",
    "    for i in tqdm.tqdm(range(len(models)), desc=\"Fitting Models\"):\n",
    "        imfit_fitter = pyimfit.Imfit(models[i],psf=epsf)\n",
    "        imfit_fitter.loadData(imageAGN, psf_oversampling_list=osampleList, gain=9.942e-1, read_noise=0.22, original_sky=15.683)\n",
    "        imfit_fitter.doFit()\n",
    "        fitters.append(imfit_fitter)\n",
    "    return fitters\n",
    "\n",
    "\n",
    "\n",
    "        \n",
    "        \n",
    "starpos = find_highest_indices(imageAGN)\n",
    "center = (starpos[0]+starpos[1])/2\n",
    "Imax = imageAGN.max()\n",
    "itot=epsf.sum()\n",
    "\n",
    "\n",
    "X0=starpos[0][0]\n",
    "Y0=starpos[0][1]\n",
    "X1=starpos[1][0]\n",
    "Y1=starpos[1][1] \n",
    "Xss0=starpos[0][0]\n",
    "Yss0=starpos[0][1]\n",
    "Xss1=starpos[1][0]\n",
    "Yss1=starpos[1][1]\n",
    "Xlim=[0,100]\n",
    "Ylim=[0,100]\n",
    "PA_ss=200\n",
    "ell_ss=0.1\n",
    "n_ss=1\n",
    "I_ss=1\n",
    "r_ss=20\n",
    "PA_lim=[0,360]\n",
    "ell_lim=[0.0,1.0]\n",
    "I_lim=[0,Imax]\n",
    "sigma_lim=[0,15]\n",
    "Iss_lim=[0,Imax]\n",
    "rss_lim=[0,100]\n",
    "\n",
    "Itot=130\n",
    "\n",
    "psfOsamp = pyimfit.MakePsfOversampler(epsf, 4, (0,100,0,100))\n",
    "osampleList = [psfOsamp]"
   ]
  },
  {
   "cell_type": "code",
   "execution_count": 3,
   "id": "5a282a7d",
   "metadata": {},
   "outputs": [],
   "source": [
    "sersic = {'PA': [PA_ss, PA_lim[0],PA_lim[1]], 'ell_bulge': [ell_ss, ell_lim[0],ell_lim[1]], 'n': [n_ss, 'fixed'],\n",
    "'I_e': [I_ss, Iss_lim[0],Iss_lim[1]], 'r_e': [r_ss, rss_lim[0],rss_lim[1]]}\n",
    "sersic_dict = {'name': \"Sersic\", 'label': \"bulge\", 'parameters': sersic}\n",
    "\n",
    "psf = {'I_tot' : Itot}\n",
    "psf_dict = {'name': \"PointSource\", 'label': \"psf\", 'parameters': psf}\n",
    "\n",
    "funcset_dict_psf0 = {'X0': [X0,Xlim[0],Xlim[1]], 'Y0': [Y0, Ylim[0],Ylim[1]], \n",
    "                'function_list': [psf_dict]}\n",
    "funcset_dict_psf1 = {'X0': [X1,Xlim[0],Xlim[1]], 'Y0': [Y1, Ylim[0],Ylim[1]], \n",
    "                'function_list': [psf_dict]}\n",
    "funcset_dict_sersic0 = {'X0': [Xss0,Xlim[0],Xlim[1]], 'Y0': [Yss0,Ylim[0],Ylim[1]], \n",
    "               'function_list': [sersic_dict]}\n",
    "funcset_dict_sersic1 = {'X0': [Xss1,Xlim[0],Xlim[1]], 'Y0': [Yss1,Ylim[0],Ylim[1]], \n",
    "               'function_list': [sersic_dict]}\n",
    "\n",
    "funcset_dict_psfser0 = {'X0': [X0,Xlim[0],Xlim[1]], 'Y0': [Y0, Ylim[0],Ylim[1]], \n",
    "                'function_list': [psf_dict, sersic_dict]}\n",
    "funcset_dict_psfser1 = {'X0': [X1,Xlim[0],Xlim[1]], 'Y0': [Y1, Ylim[0],Ylim[1]], \n",
    "                'function_list': [psf_dict, sersic_dict]}\n",
    "\n",
    "\n",
    "model_dict_ps_1c = {'function_sets': [funcset_dict_psfser0]}\n",
    "model_dict_psps_1c = {'function_sets': [funcset_dict_psfser0,funcset_dict_psfser1]}\n",
    "\n",
    "model_dict_ps_2c = {'function_sets': [funcset_dict_psf0,funcset_dict_sersic0]}\n",
    "model_dict_psps_2c = {'function_sets': [funcset_dict_psf0, funcset_dict_psf1,funcset_dict_sersic0,funcset_dict_sersic1]}\n",
    "\n",
    "model_ps1c = pyimfit.ModelDescription.dict_to_ModelDescription(model_dict_ps_1c)\n",
    "model_psps1c = pyimfit.ModelDescription.dict_to_ModelDescription(model_dict_psps_1c)\n",
    "model_ps2c = pyimfit.ModelDescription.dict_to_ModelDescription(model_dict_ps_2c)\n",
    "model_psps2c = pyimfit.ModelDescription.dict_to_ModelDescription(model_dict_psps_2c)\n",
    "\n",
    "def setmodel(modelfuncs):\n",
    "    modeldict = {'function_sets':modelfuncs}\n",
    "    model = pyimfit.ModelDescription.dict_to_ModelDescription(modeldict)\n",
    "    fitter = pyimfit.Imfit(model,psf=epsf)\n",
    "    fitter.loadData(imageAGN, psf_oversampling_list=osampleList, gain=9.942e-1, read_noise=0.22, original_sky=15.683)\n",
    "    fitter.doFit()\n",
    "    return fitter,model"
   ]
  },
  {
   "cell_type": "code",
   "execution_count": 4,
   "id": "72be0ef9",
   "metadata": {},
   "outputs": [
    {
     "data": {
      "text/plain": [
       "            aic: 899.5659018685352\n",
       "            bic: 1000.4686039815598\n",
       "   fitConverged: True\n",
       "        fitStat: 871.5238387738932\n",
       " fitStatReduced: 0.08727456827297148\n",
       "          nIter: 34\n",
       "      paramErrs: array([8.47248824e-02, 8.29446984e-02, 8.83745163e+01, 6.29677594e+00,\n",
       "       7.72343189e-02, 0.00000000e+00, 2.73551128e-01, 3.32180119e+00,\n",
       "       7.90066094e-02, 7.31829516e-02, 1.12405677e+02, 2.13457292e+00,\n",
       "       2.27458912e-02, 0.00000000e+00, 9.43961872e-01, 4.79783933e-01])\n",
       "         params: array([5.34139408e+01, 5.35234688e+01, 2.17767031e+03, 2.95123627e+02,\n",
       "       4.09985547e-01, 1.00000000e+00, 1.36430495e+00, 2.77666428e+01,\n",
       "       4.83992738e+01, 5.76743064e+01, 1.93033344e+03, 2.48553926e+02,\n",
       "       3.82793236e-01, 1.00000000e+00, 1.58382706e+01, 1.08054954e+01])\n",
       "     solverName: 'LM'"
      ]
     },
     "execution_count": 4,
     "metadata": {},
     "output_type": "execute_result"
    }
   ],
   "source": [
    "modeldict = {'function_sets':[funcset_dict_psfser0, funcset_dict_psfser1]}\n",
    "model = pyimfit.ModelDescription.dict_to_ModelDescription(modeldict)\n",
    "fitter = pyimfit.Imfit(model,psf=epsf)\n",
    "fitter.loadData(imageAGN, psf_oversampling_list=osampleList, gain=9.942e-1, read_noise=0.22, original_sky=15.683)\n",
    "fitter.doFit()"
   ]
  },
  {
   "cell_type": "code",
   "execution_count": 7,
   "id": "98a70ee4",
   "metadata": {},
   "outputs": [],
   "source": [
    "#import pickle\n",
    "with open(\"test.pkl\", \"rb\") as file:\n",
    "    d = pickle.load( file)"
   ]
  },
  {
   "cell_type": "code",
   "execution_count": null,
   "id": "13a93be7",
   "metadata": {},
   "outputs": [],
   "source": []
  },
  {
   "cell_type": "code",
   "execution_count": 5,
   "id": "fc8c8061",
   "metadata": {},
   "outputs": [
    {
     "name": "stdout",
     "output_type": "stream",
     "text": [
      "X0_1 53.41394081381534\n",
      "Y0_1 53.52346878307846\n",
      "I_tot_1 2177.6703086229486\n",
      "PA_2 295.1236274325585\n",
      "ell_bulge_2 0.40998554674492205\n",
      "n_2 1.0\n",
      "I_e_2 1.364304949052524\n",
      "r_e_2 27.76664282800058\n",
      "X0_2 48.39927377955635\n",
      "Y0_2 57.67430644394122\n",
      "I_tot_3 1930.3334428029887\n",
      "PA_4 248.55392565383514\n",
      "ell_bulge_4 0.38279323580005237\n",
      "n_4 1.0\n",
      "I_e_4 15.838270614851265\n",
      "r_e_4 10.805495363446145\n"
     ]
    },
    {
     "data": {
      "text/plain": [
       "array([  54.,   54., 2178.,  296.,    1.,    1.,    2.,   28.,   49.,\n",
       "         58., 1931.,  249.,    1.,    1.,   16.,   11.])"
      ]
     },
     "execution_count": 5,
     "metadata": {},
     "output_type": "execute_result"
    }
   ],
   "source": [
    "bf = fitter.getFitResult().params\n",
    "names = fitter.numberedParameterNames\n",
    "for i in range(len(bf)):\n",
    "    print(names[i], bf[i])\n",
    "np. set_printoptions(suppress=True    )\n",
    "np.ceil(bf)"
   ]
  },
  {
   "cell_type": "code",
   "execution_count": 6,
   "id": "430ed635",
   "metadata": {},
   "outputs": [
    {
     "data": {
      "image/png": "[encoded data removed]",
      "text/plain": [
       "<Figure size 640x480 with 2 Axes>"
      ]
     },
     "metadata": {},
     "output_type": "display_data"
    }
   ],
   "source": [
    "plt.imshow(fitter.getModelImage())\n",
    "plt.colorbar();"
   ]
  },
  {
   "cell_type": "code",
   "execution_count": 83,
   "id": "37550e02",
   "metadata": {},
   "outputs": [],
   "source": [
    "models_n1 = galaxy_model(X0=starpos[0][0], Y0=starpos[0][1], X1=starpos[1][0], Y1=starpos[1][1], \n",
    "                                                 Xss0=starpos[0][0], Yss0=starpos[0][1], Xss1=starpos[1][0], Yss1=starpos[1][1],\n",
    "                                                 Xlim=[0,100], Ylim=[0,100],\n",
    "                                                 PA_ss=200, ell_ss=0.1, n_ss=1, I_ss=1, r_ss=20, Itot=itot,\n",
    "                                                 PA_lim=[0,360], ell_lim=[0.0,1.0], I_lim=[0,Imax], sigma_lim=[0,15],\n",
    "                                      Iss_lim=[0,Imax], rss_lim=[0,100])"
   ]
  },
  {
   "cell_type": "code",
   "execution_count": 86,
   "id": "5b8b6416",
   "metadata": {},
   "outputs": [
    {
     "name": "stdout",
     "output_type": "stream",
     "text": [
      "PsfOversampling: starting initialization...\n",
      "141\n",
      "PsfOversampling: done.\n"
     ]
    },
    {
     "name": "stderr",
     "output_type": "stream",
     "text": [
      "Fitting Models: 100%|█████████████████████████| 4/4 [04:46<00:00, 71.52s/it]"
     ]
    },
    {
     "name": "stdout",
     "output_type": "stream",
     "text": [
      "PsfOversampling: starting __dealloc__.\n",
      "PsfOversampling: done with __dealloc__.\n"
     ]
    },
    {
     "name": "stderr",
     "output_type": "stream",
     "text": [
      "\n"
     ]
    }
   ],
   "source": [
    "fitters_n1 = doFit(models_n1,epsf)"
   ]
  },
  {
   "cell_type": "code",
   "execution_count": 87,
   "id": "66d00810",
   "metadata": {},
   "outputs": [
    {
     "data": {
      "text/plain": [
       "            aic: 899.5659012667114\n",
       "            bic: 1000.468603379736\n",
       "   fitConverged: True\n",
       "        fitStat: 871.5238381720694\n",
       " fitStatReduced: 0.08727456821270473\n",
       "          nIter: 71\n",
       "      paramErrs: array([   0.0847244 ,    0.08294481, 1726.65615137,    6.29680167,\n",
       "          0.07723568,    0.        ,    0.27355881,    3.32168542,\n",
       "          0.07900672,    0.07318316, 2196.16196334,    2.13459697,\n",
       "          0.02274605,    0.        ,    0.94394024,    0.47978968])\n",
       "         params: array([   53.41393447,    53.52347348, 42547.23426351,   115.12426611,\n",
       "           0.40998857,     1.        ,     1.36434195,    27.76585068,\n",
       "          48.39928022,    57.67431332, 37715.22930055,   248.55401232,\n",
       "           0.38279144,     1.        ,    15.83795437,    10.80560756])\n",
       "     solverName: 'LM'"
      ]
     },
     "execution_count": 87,
     "metadata": {},
     "output_type": "execute_result"
    }
   ],
   "source": [
    "fitters_n1[1].getFitResult()"
   ]
  },
  {
   "cell_type": "code",
   "execution_count": 88,
   "id": "2f3e2178",
   "metadata": {},
   "outputs": [
    {
     "name": "stdout",
     "output_type": "stream",
     "text": [
      "X0\t\t56.0\t\t0.0,100.0\n",
      "Y0\t\t52.0\t\t0.0,100.0\n",
      "FUNCTION PointSource   # LABEL psf\n",
      "I_tot\t\t19.537945703108253\n",
      "\n",
      "FUNCTION Sersic   # LABEL bulge\n",
      "PA\t\t200.0\t\t0.0,360.0\n",
      "ell_bulge\t\t0.1\t\t0.0,1.0\n",
      "n\t\t1.0\t\tfixed\n",
      "I_e\t\t1.0\t\t0.0,135.13360595703125\n",
      "r_e\t\t20.0\t\t0.0,100.0\n",
      "\n",
      "X0\t\t48.0\t\t0.0,100.0\n",
      "Y0\t\t52.0\t\t0.0,100.0\n",
      "FUNCTION PointSource   # LABEL psf\n",
      "I_tot\t\t19.537945703108253\n",
      "\n",
      "FUNCTION Sersic   # LABEL bulge\n",
      "PA\t\t200.0\t\t0.0,360.0\n",
      "ell_bulge\t\t0.1\t\t0.0,1.0\n",
      "n\t\t1.0\t\tfixed\n",
      "I_e\t\t1.0\t\t0.0,135.13360595703125\n",
      "r_e\t\t20.0\t\t0.0,100.0\n",
      "\n"
     ]
    }
   ],
   "source": [
    "print(models_n1[1])"
   ]
  },
  {
   "cell_type": "code",
   "execution_count": null,
   "id": "9f26f5d6",
   "metadata": {},
   "outputs": [],
   "source": []
  }
 ],
 "metadata": {
  "kernelspec": {
   "display_name": "Python 3 (ipykernel)",
   "language": "python",
   "name": "python3"
  },
  "language_info": {
   "codemirror_mode": {
    "name": "ipython",
    "version": 3
   },
   "file_extension": ".py",
   "mimetype": "text/x-python",
   "name": "python",
   "nbconvert_exporter": "python",
   "pygments_lexer": "ipython3",
   "version": "3.11.3"
  }
 },
 "nbformat": 4,
 "nbformat_minor": 5
}
