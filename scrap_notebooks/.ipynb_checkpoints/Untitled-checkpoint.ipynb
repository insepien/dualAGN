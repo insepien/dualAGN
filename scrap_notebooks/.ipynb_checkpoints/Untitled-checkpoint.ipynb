{
 "cells": [
  {
   "cell_type": "code",
   "execution_count": 1,
   "id": "6ffeb18c",
   "metadata": {},
   "outputs": [],
   "source": [
    "import numpy as np \n",
    "import pandas as pd\n",
    "import matplotlib.pyplot as plt\n",
    "import emcee \n",
    "import pyimfit \n",
    "from astropy.io import fits\n",
    "import corner\n",
    "from IPython.display import Latex\n",
    "import sys\n",
    "import warnings\n",
    "import tqdm\n",
    "\n",
    "\n",
    "plt.rcParams['image.cmap'] = 'Blues'\n",
    "warnings.filterwarnings(\"ignore\")\n",
    "\n",
    "imageFile = \"../fit/agn.fits\"\n",
    "imageAGN = fits.getdata(imageFile)\n",
    "\n",
    "epsf = fits.getdata(\"../psfConstruction/epsf2.fits\")"
   ]
  },
  {
   "cell_type": "code",
   "execution_count": 2,
   "id": "5c4717c4",
   "metadata": {},
   "outputs": [
    {
     "name": "stdout",
     "output_type": "stream",
     "text": [
      "PsfOversampling: starting initialization...\n",
      "141\n",
      "PsfOversampling: done.\n"
     ]
    }
   ],
   "source": [
    "def find_highest_indices(arr):\n",
    "    flattened_arr = np.array(arr).flatten()\n",
    "    max_indices = np.unravel_index(np.argsort(flattened_arr)[-2:], arr.shape)\n",
    "    return max_indices\n",
    "\n",
    "\n",
    "def galaxy_model(X0, Y0, X1, Y1, Xss0, Yss0, Xss1, Yss1, Xlim, Ylim,\n",
    "                 PA_ss, ell_ss, n_ss, I_ss, r_ss, Itot,\n",
    "                 PA_lim, ell_lim, I_lim, sigma_lim, Iss_lim, rss_lim):\n",
    "    \"\"\"create galaxy model for ML fit\n",
    "        including: ps: 1 psf + 1 sersic\n",
    "                   psps: 2 psf + 2 sersic\"\"\"\n",
    "\n",
    "    sersic = {'PA': [PA_ss, PA_lim[0],PA_lim[1]], 'ell_bulge': [ell_ss, ell_lim[0],ell_lim[1]], 'n': [n_ss, 'fixed'],\n",
    "    'I_e': [I_ss, Iss_lim[0],Iss_lim[1]], 'r_e': [r_ss, rss_lim[0],rss_lim[1]]}\n",
    "    sersic_dict = {'name': \"Sersic\", 'label': \"bulge\", 'parameters': sersic}\n",
    "    \n",
    "    psf = {'I_tot' : Itot}\n",
    "    psf_dict = {'name': \"PointSource\", 'label': \"psf\", 'parameters': psf}\n",
    "\n",
    "    funcset_dict_psf0 = {'X0': [X0,Xlim[0],Xlim[1]], 'Y0': [Y0, Ylim[0],Ylim[1]], \n",
    "                    'function_list': [psf_dict]}\n",
    "    funcset_dict_psf1 = {'X0': [X1,Xlim[0],Xlim[1]], 'Y0': [Y1, Ylim[0],Ylim[1]], \n",
    "                    'function_list': [psf_dict]}\n",
    "    funcset_dict_sersic0 = {'X0': [Xss0,Xlim[0],Xlim[1]], 'Y0': [Yss0,Ylim[0],Ylim[1]], \n",
    "                   'function_list': [sersic_dict]}\n",
    "    funcset_dict_sersic1 = {'X0': [Xss1,Xlim[0],Xlim[1]], 'Y0': [Yss1,Ylim[0],Ylim[1]], \n",
    "                   'function_list': [sersic_dict]}\n",
    "    \n",
    "    funcset_dict_psfser0 = {'X0': [X0,Xlim[0],Xlim[1]], 'Y0': [Y0, Ylim[0],Ylim[1]], \n",
    "                    'function_list': [psf_dict, sersic_dict]}\n",
    "    funcset_dict_psfser1 = {'X0': [X1,Xlim[0],Xlim[1]], 'Y0': [Y1, Ylim[0],Ylim[1]], \n",
    "                    'function_list': [psf_dict, sersic_dict]}\n",
    "\n",
    "    \n",
    "    model_dict_ps_1c = {'function_sets': [funcset_dict_psfser0]}\n",
    "    model_dict_psps_1c = {'function_sets': [funcset_dict_psfser0,funcset_dict_psfser1]}\n",
    "    \n",
    "    model_dict_ps_2c = {'function_sets': [funcset_dict_psf0,funcset_dict_sersic0]}\n",
    "    model_dict_psps_2c = {'function_sets': [funcset_dict_psf0, funcset_dict_psf1,funcset_dict_sersic0,funcset_dict_sersic1]}\n",
    "    \n",
    "    model_ps1c = pyimfit.ModelDescription.dict_to_ModelDescription(model_dict_ps_1c)\n",
    "    model_psps1c = pyimfit.ModelDescription.dict_to_ModelDescription(model_dict_psps_1c)\n",
    "    model_ps2c = pyimfit.ModelDescription.dict_to_ModelDescription(model_dict_ps_2c)\n",
    "    model_psps2c = pyimfit.ModelDescription.dict_to_ModelDescription(model_dict_psps_2c)\n",
    "    return model_ps1c, model_psps1c, model_ps2c, model_psps2c\n",
    "\n",
    "\n",
    "\n",
    "def doFit(models,epsf): \n",
    "    \"\"\"do fit with data using PSF oversampled by factor of 4 over whole image\n",
    "       return fitters\"\"\"\n",
    "    fitters = []\n",
    "    # oversamped PSF\n",
    "    psfOsamp = pyimfit.MakePsfOversampler(epsf, 4, (0,100,0,100))\n",
    "    osampleList = [psfOsamp]\n",
    "    for i in tqdm.tqdm(range(len(models)), desc=\"Fitting Models\"):\n",
    "        imfit_fitter = pyimfit.Imfit(models[i],psf=epsf)\n",
    "        imfit_fitter.loadData(imageAGN, psf_oversampling_list=osampleList, gain=9.942e-1, read_noise=0.22, original_sky=15.683)\n",
    "        imfit_fitter.doFit()\n",
    "        fitters.append(imfit_fitter)\n",
    "    return fitters\n",
    "\n",
    "\n",
    "\n",
    "        \n",
    "        \n",
    "starpos = find_highest_indices(imageAGN)\n",
    "center = (starpos[0]+starpos[1])/2\n",
    "Imax = imageAGN.max()\n",
    "itot=epsf.sum()\n",
    "\n",
    "\n",
    "X0=starpos[0][0]\n",
    "Y0=starpos[0][1]\n",
    "X1=starpos[1][0]\n",
    "Y1=starpos[1][1] \n",
    "Xss0=starpos[0][0]\n",
    "Yss0=starpos[0][1]\n",
    "Xss1=starpos[1][0]\n",
    "Yss1=starpos[1][1]\n",
    "Xlim=[0,100]\n",
    "Ylim=[0,100]\n",
    "PA_ss=200\n",
    "ell_ss=0.1\n",
    "n_ss=1\n",
    "I_ss=1\n",
    "r_ss=20\n",
    "PA_lim=[0,360]\n",
    "ell_lim=[0.0,1.0]\n",
    "I_lim=[0,Imax]\n",
    "sigma_lim=[0,15]\n",
    "Iss_lim=[0,Imax]\n",
    "rss_lim=[0,100]\n",
    "\n",
    "Itot=130\n",
    "\n",
    "psfOsamp = pyimfit.MakePsfOversampler(epsf, 4, (0,100,0,100))\n",
    "osampleList = [psfOsamp]"
   ]
  },
  {
   "cell_type": "code",
   "execution_count": 3,
   "id": "6c135cef",
   "metadata": {},
   "outputs": [],
   "source": [
    "sersic = {'PA': [PA_ss, PA_lim[0],PA_lim[1]], 'ell_bulge': [ell_ss, ell_lim[0],ell_lim[1]], 'n': [n_ss, 'fixed'],\n",
    "'I_e': [I_ss, Iss_lim[0],Iss_lim[1]], 'r_e': [r_ss, rss_lim[0],rss_lim[1]]}\n",
    "sersic_dict = {'name': \"Sersic\", 'label': \"bulge\", 'parameters': sersic}\n",
    "\n",
    "psf = {'I_tot' : Itot}\n",
    "psf_dict = {'name': \"PointSource\", 'label': \"psf\", 'parameters': psf}\n",
    "\n",
    "funcset_dict_psf0 = {'X0': [X0,Xlim[0],Xlim[1]], 'Y0': [Y0, Ylim[0],Ylim[1]], \n",
    "                'function_list': [psf_dict]}\n",
    "funcset_dict_psf1 = {'X0': [X1,Xlim[0],Xlim[1]], 'Y0': [Y1, Ylim[0],Ylim[1]], \n",
    "                'function_list': [psf_dict]}\n",
    "funcset_dict_sersic0 = {'X0': [Xss0,Xlim[0],Xlim[1]], 'Y0': [Yss0,Ylim[0],Ylim[1]], \n",
    "               'function_list': [sersic_dict]}\n",
    "funcset_dict_sersic1 = {'X0': [Xss1,Xlim[0],Xlim[1]], 'Y0': [Yss1,Ylim[0],Ylim[1]], \n",
    "               'function_list': [sersic_dict]}\n",
    "\n",
    "funcset_dict_psfser0 = {'X0': [X0,Xlim[0],Xlim[1]], 'Y0': [Y0, Ylim[0],Ylim[1]], \n",
    "                'function_list': [psf_dict, sersic_dict]}\n",
    "funcset_dict_psfser1 = {'X0': [X1,Xlim[0],Xlim[1]], 'Y0': [Y1, Ylim[0],Ylim[1]], \n",
    "                'function_list': [psf_dict, sersic_dict]}\n",
    "\n",
    "\n",
    "model_dict_ps_1c = {'function_sets': [funcset_dict_psfser0]}\n",
    "model_dict_psps_1c = {'function_sets': [funcset_dict_psfser0,funcset_dict_psfser1]}\n",
    "\n",
    "model_dict_ps_2c = {'function_sets': [funcset_dict_psf0,funcset_dict_sersic0]}\n",
    "model_dict_psps_2c = {'function_sets': [funcset_dict_psf0, funcset_dict_psf1,funcset_dict_sersic0,funcset_dict_sersic1]}\n",
    "\n",
    "model_ps1c = pyimfit.ModelDescription.dict_to_ModelDescription(model_dict_ps_1c)\n",
    "model_psps1c = pyimfit.ModelDescription.dict_to_ModelDescription(model_dict_psps_1c)\n",
    "model_ps2c = pyimfit.ModelDescription.dict_to_ModelDescription(model_dict_ps_2c)\n",
    "model_psps2c = pyimfit.ModelDescription.dict_to_ModelDescription(model_dict_psps_2c)\n"
   ]
  },
  {
   "cell_type": "code",
   "execution_count": 4,
   "id": "5f5efb36",
   "metadata": {},
   "outputs": [
    {
     "data": {
      "text/plain": [
       "            aic: 1653.1479253308087\n",
       "            bic: 1703.609098967468\n",
       "   fitConverged: True\n",
       "        fitStat: 1639.1367163636348\n",
       " fitStatReduced: 0.1640284915804698\n",
       "          nIter: 36\n",
       "      paramErrs: array([7.18010654e-02, 6.08843537e-02, 1.02677539e+02, 1.22878200e+00,\n",
       "       1.31169996e-02, 0.00000000e+00, 7.33820293e-01, 2.08747383e-01])\n",
       "         params: array([4.94873561e+01, 5.67360988e+01, 1.37318644e+03, 6.59741105e+01,\n",
       "       3.77094930e-01, 1.00000000e+00, 2.29771397e+01, 1.09635638e+01])\n",
       "     solverName: 'LM'"
      ]
     },
     "execution_count": 4,
     "metadata": {},
     "output_type": "execute_result"
    }
   ],
   "source": [
    "modeldict = {'function_sets':[funcset_dict_psfser0]}\n",
    "model = pyimfit.ModelDescription.dict_to_ModelDescription(modeldict)\n",
    "fitter = pyimfit.Imfit(model,psf=epsf)\n",
    "fitter.loadData(imageAGN, psf_oversampling_list=osampleList, gain=9.942e-1, read_noise=0.22, original_sky=15.683)\n",
    "fitter.doFit()"
   ]
  },
  {
   "cell_type": "code",
   "execution_count": 5,
   "id": "5a9fb6b6",
   "metadata": {},
   "outputs": [
    {
     "data": {
      "text/plain": [
       "array([  50.,   57., 1374.,   66.,    1.,    1.,   23.,   11.])"
      ]
     },
     "execution_count": 5,
     "metadata": {},
     "output_type": "execute_result"
    }
   ],
   "source": [
    "np. set_printoptions(suppress=True    )\n",
    "np.ceil(np.array([4.94873561e+01, 5.67360988e+01, 1.37318644e+03, 6.59741105e+01,\n",
    "       3.77094930e-01, 1.00000000e+00, 2.29771397e+01, 1.09635638e+01]))"
   ]
  },
  {
   "cell_type": "code",
   "execution_count": 7,
   "id": "a17169ed",
   "metadata": {},
   "outputs": [
    {
     "data": {
      "text/plain": [
       "array([   50.,    57., 26830.,   246.,     1.,     1.,    23.,    11.])"
      ]
     },
     "execution_count": 7,
     "metadata": {},
     "output_type": "execute_result"
    }
   ],
   "source": [
    "np. set_printoptions(suppress=True    )\n",
    "np.ceil(np.array([4.94873393e+01, 5.67361124e+01, 2.68297115e+04, 2.45974246e+02,\n",
    "       3.77093423e-01, 1.00000000e+00, 2.29769167e+01, 1.09636072e+01]))"
   ]
  },
  {
   "cell_type": "code",
   "execution_count": null,
   "id": "c992f40b",
   "metadata": {},
   "outputs": [],
   "source": []
  }
 ],
 "metadata": {
  "kernelspec": {
   "display_name": "Python 3 (ipykernel)",
   "language": "python",
   "name": "python3"
  },
  "language_info": {
   "codemirror_mode": {
    "name": "ipython",
    "version": 3
   },
   "file_extension": ".py",
   "mimetype": "text/x-python",
   "name": "python",
   "nbconvert_exporter": "python",
   "pygments_lexer": "ipython3",
   "version": "3.11.3"
  }
 },
 "nbformat": 4,
 "nbformat_minor": 5
}
