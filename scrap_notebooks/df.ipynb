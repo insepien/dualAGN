{
 "cells": [
  {
   "cell_type": "code",
   "execution_count": null,
   "id": "0",
   "metadata": {},
   "outputs": [],
   "source": [
    "import pandas as pd\n",
    "import numpy as np\n",
    "import matplotlib.pyplot as plt\n",
    "from collections import Counter\n",
    "import seaborn as sns\n",
    "from astropy.coordinates import SkyCoord\n",
    "import astropy.units as u\n",
    "from astropy.cosmology import WMAP9 as cosmo\n",
    "import astropy.constants as const\n",
    "\n",
    "plt.rcParams.update({\n",
    "    \"text.usetex\": True,\n",
    "    \"font.family\": \"serif\",\n",
    "    \"font.serif\": [\"Times\"],\n",
    "    \"text.latex.preamble\": r\"\\usepackage{amsmath}\\usepackage{mathptmx}\",  # Times Roman\n",
    "    \"hatch.linewidth\": 3.0,\n",
    "})\n",
    "sns.set_context(\"paper\",font_scale=1)\n",
    "\n"
   ]
  },
  {
   "cell_type": "code",
   "execution_count": null,
   "id": "1",
   "metadata": {},
   "outputs": [],
   "source": [
    "with open(\"vars.txt\", \"r\") as f:\n",
    "    vars = [a.rstrip().split(\"\\t\") for a in f.readlines()]\n",
    "\n",
    "vardf = pd.DataFrame(vars[2:],columns=vars[0]) \n",
    "vdf = vardf[['Name']].copy()\n"
   ]
  },
  {
   "cell_type": "code",
   "execution_count": null,
   "id": "2",
   "metadata": {},
   "outputs": [],
   "source": [
    "# get ST magnitudes\n",
    "m475w = [list(map(float,a.split(\"/\"))) for a in vardf['F475W']]\n",
    "big_m475 = np.array([np.max(m) for m in m475w])\n",
    "small_m475 = np.array([np.min(m) for m in m475w])\n",
    "m814w = [list(map(float,a.split(\"/\"))) for a in vardf['F814W']]\n",
    "big_m814 = np.array([np.max(m) for m in m814w])\n",
    "small_m814 = np.array([np.min(m) for m in m814w])\n",
    "\n",
    "# calculate luminosity\n",
    "def cal_lum(mag,wl):\n",
    "    f = 10**((mag+21.1)/-2.5) *u.erg/u.s/u.cm**2/u.angstrom\n",
    "    lum = (4*np.pi *cosmo.angular_diameter_distance(redshifts)**2 *f *(wl*u.angstrom)).to(u.erg/u.s)\n",
    "    return lum\n",
    "\n",
    "redshifts = np.array([float(z.split(\"^\")[0]) if z[-1]==\"r\" else float(z) for z in vardf['Redshift']])\n",
    "lum475b = cal_lum(big_m475,4750)\n",
    "lum475a = cal_lum(small_m475,4750)\n",
    "lum814b = cal_lum(big_m814,8140)\n",
    "lum814a = cal_lum(small_m814,8140)\n",
    "\n",
    "# save to df\n",
    "vdf['rp'] = np.array(list(map(float,vardf['r _p'])))\n",
    "vdf['z'] = redshifts\n",
    "\n",
    "# checking the first object luminosity with WISE, close?\n",
    "obs_flux = 3.80E-2*u.Jy\n",
    "obs_hz = 1.36E+13*u.Hz\n",
    "lum = (obs_flux*obs_hz*4*np.pi*\n",
    "        cosmo.luminosity_distance(0.7)**2).to(u.erg/u.s)\n",
    "lum*10, (lum475a+lum475b)[0]*1000\n",
    "\n"
   ]
  },
  {
   "cell_type": "code",
   "execution_count": null,
   "id": "3",
   "metadata": {},
   "outputs": [],
   "source": [
    "def hist_bin(ax,quant,lab,clr):\n",
    "    \"\"\"plot histogram and a straight line at peak bin\"\"\"\n",
    "    count, bin, _ = ax.hist(quant,bins=np.linspace(quant.min(),quant.max(),int(np.sqrt(len(quant)))),\n",
    "             histtype='step',color=clr,alpha=0.6)\n",
    "    maxind = np.argmax(count)\n",
    "    maxloc = (bin[maxind]+bin[maxind+1])/2\n",
    "    ax.axvline(maxloc,c=clr,label=lab)\n",
    "    \n",
    "def meas_df(quartiles,m,ax,dualmask):\n",
    "    \"\"\"plot sep histograms of luminosity bins based on list of quartiles\"\"\"\n",
    "    mcuts =  np.percentile(m,quartiles)\n",
    "    colors = sns.color_palette(\"magma\", len(mcuts)+1)\n",
    "    for i,c in zip(range(len(mcuts)+1),colors):\n",
    "        if i==0:\n",
    "            lbl = f'$<$ {mcuts[i]:.2f}'\n",
    "            hist_bin(ax,vdf[(m < mcuts[i]) & dualmask]['rp'], lbl, c)\n",
    "        elif i==len(mcuts):\n",
    "            lbl = f'$>$ {mcuts[i-1]:.2f}'\n",
    "            hist_bin(ax,vdf[(m > mcuts[i-1]) & dualmask]['rp'], lbl, c)\n",
    "        else:\n",
    "            lbl = f'{mcuts[i-1]:.2f} $-$ {mcuts[i]:.2f}'\n",
    "            hist_bin(ax,vdf[(m < mcuts[i]) & (m > mcuts[i-1]) & dualmask]['rp'], lbl, c)\n",
    "    ax.legend(fontsize=8,loc='upper left');\n"
   ]
  },
  {
   "cell_type": "code",
   "execution_count": null,
   "id": "4",
   "metadata": {},
   "outputs": [],
   "source": [
    "fig,ax = plt.subplots(3,1,gridspec_kw={'height_ratios': [1,1,1.5]},figsize=(4,7),dpi=200)\n",
    "\n",
    "dualmask = ~(vardf['Classification'].str.contains(\"star\"))\n",
    "#dualmask = np.array([True]*len(vdf))\n",
    "\n",
    "meas_df([50],np.log10((lum475a+lum475b).value),ax[0],dualmask)\n",
    "meas_df([40,60],np.log10((lum475a+lum475b).value),ax[1],dualmask)\n",
    "\n",
    "sca = ax[-1].scatter(vdf['rp'][dualmask],np.log10((lum475a+lum475b).value)[dualmask], cmap=\"magma\",c=redshifts[dualmask])\n",
    "ax[-1].set_ylabel(\"Log(L$_{\\\\rm{457 W, total}}$) [erg/s]\")\n",
    "cax = fig.add_axes([0.99, 0.125, 0.03, 0.25])\n",
    "cbar = fig.colorbar(sca,cax=cax)\n",
    "cbar.set_label(\"Redshift\")\n",
    "\n",
    "[a.set_xlabel(\"Sep(kpc)\") for a in ax]\n",
    "[a.set_ylabel(\"Number of dual\") for a in ax[:-1]]\n",
    "\n",
    "fig.tight_layout();\n"
   ]
  },
  {
   "cell_type": "code",
   "execution_count": null,
   "id": "5",
   "metadata": {},
   "outputs": [],
   "source": [
    "bigmac = pd.read_csv(\"/home/insepien/research-data/GFG.csv\")\n",
    "# create masks\n",
    "positive_sep = bigmac['Sep(kpc)'] > 0 \n",
    "dual_sep = (bigmac['Sep(kpc)']>0.1 ) #& (bigmac['Sep(kpc)']<20)\n",
    "confd = bigmac['ST1 Confidence Flag']>=0\n",
    "radio = bigmac['Parsed Analysis Method'].str.contains(\"Radio\")\n",
    "imaging = bigmac['Parsed Analysis Method'].str.contains(\"Imaging\")\n",
    "# get papers with largest sample\n",
    "pp = []\n",
    "for i in bigmac['Paper(s)']:\n",
    "    [pp.append(j) for j in i.split(\" ; \")]\n",
    "paper_dict = Counter(pp).most_common()\n",
    "\n",
    "# get varstrometry data\n",
    "with open(\"vars.txt\", \"r\") as f:\n",
    "    vars = [a.rstrip().split(\"\\t\") for a in f.readlines()]\n",
    "\n",
    "varsdf = pd.DataFrame(vars)\n",
    "varz = [float(i.replace(\"^dagger\",\"\")) for i in varsdf[1]]\n",
    "vard = [float(i) for i in varsdf[3].values]"
   ]
  },
  {
   "cell_type": "code",
   "execution_count": null,
   "id": "6",
   "metadata": {},
   "outputs": [],
   "source": [
    "def norm_hist(ax,quant,fcolor,ecolor,bin_arr,lbl):\n",
    "    \"\"\"normalize histogram sum count to 1 given some quantity (quant)\n",
    "        args: edgecoloe, facecolor, bin array, opacity, flag for plotting horizontal hist\"\"\"\n",
    "    count, bin = np.histogram(quant,bins=bin_arr)\n",
    "    ax.bar(bin[:-1],count/np.sum(count),width = np.diff(bin),align='edge',facecolor=fcolor,edgecolor=ecolor,label=lbl)\n",
    "    #ax.plot(bin[:-1],count/np.sum(count),c=ecolor)\n",
    "    \n",
    "def plot_sep_hist(npaper, upsep):\n",
    "    fig,ax = plt.subplots(npaper//5,5,figsize=(12,3*npaper//5),sharex=True, sharey=True)\n",
    "    ax = ax.ravel()\n",
    "    upsepvar = np.max(vard)\n",
    "    numbin = int(np.sqrt(len(vard)))\n",
    "    bins_vard = np.linspace(np.min(vard),upsepvar,numbin)\n",
    "    bins = np.diff(bins_vard)[0]*np.arange(upsep)+1\n",
    "    cls = sns.color_palette(\"colorblind\", 10)\n",
    "    small_sep = bigmac['Sep(kpc)']< upsep\n",
    "    for p,a in zip(paper_dict[:npaper+1],ax):\n",
    "        mask = [np.isin(p[0],i.split(\" ; \")) == True for i in bigmac['Paper(s)']]\n",
    "        #plt.hist(bigmac[mask&positive_sep]['Sep(kpc)'],histtype=\"step\",label=p[0])\n",
    "        norm_hist(a,vard,\"darkseagreen\",\"darkseagreen\",bins,'varstro')\n",
    "        norm_hist(a,bigmac[mask & positive_sep & small_sep]['Sep(kpc)'],\"none\",\"blue\",bins,p[0])\n",
    "        a.legend()\n",
    "    fig.tight_layout();\n"
   ]
  },
  {
   "cell_type": "code",
   "execution_count": null,
   "id": "7",
   "metadata": {},
   "outputs": [],
   "source": [
    "plot_sep_hist(npaper=5, upsep=20)"
   ]
  },
  {
   "cell_type": "code",
   "execution_count": null,
   "id": "8",
   "metadata": {},
   "outputs": [],
   "source": [
    "import pandas as pd\n",
    "magel = pd.read_pickle(\"/home/insepien/research-data/alpaka/alpaka_39fits.pkl\")\n"
   ]
  },
  {
   "cell_type": "code",
   "execution_count": null,
   "id": "9",
   "metadata": {},
   "outputs": [],
   "source": [
    "import glob\n",
    "import os\n",
    "from astropy.io import fits\n",
    "macros = []\n",
    "for on in magel['Desig']:\n",
    "    mosfile = glob.glob(os.path.expanduser(\"~/raw-data-agn/mos-fits-agn/*\"+on+\"*.mos.fits\"))[0]\n",
    "    macros.append(fits.getdata(mosfile,header=True)[1]['MACROFIL'])\n",
    "macros"
   ]
  },
  {
   "cell_type": "code",
   "execution_count": null,
   "id": "10",
   "metadata": {},
   "outputs": [],
   "source": []
  }
 ],
 "metadata": {
  "kernelspec": {
   "display_name": "usc",
   "language": "python",
   "name": "python3"
  },
  "language_info": {
   "codemirror_mode": {
    "name": "ipython",
    "version": 3
   },
   "file_extension": ".py",
   "mimetype": "text/x-python",
   "name": "python",
   "nbconvert_exporter": "python",
   "pygments_lexer": "ipython3",
   "version": "3.11.3"
  }
 },
 "nbformat": 4,
 "nbformat_minor": 5
}
