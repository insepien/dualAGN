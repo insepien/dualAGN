{
 "cells": [
  {
   "cell_type": "code",
   "execution_count": null,
   "metadata": {},
   "outputs": [],
   "source": [
    "import pandas as pd\n",
    "import numpy as np\n",
    "import os\n",
    "import matplotlib.pyplot as plt\n",
    "from astropy.coordinates import SkyCoord\n",
    "from astropy.table import Table\n",
    "from astropy.io import fits\n",
    "from astropy.cosmology import WMAP9 as cosmo\n",
    "import astropy.units as u\n",
    "import astropy.constants as const\n",
    "from scipy.optimize import fsolve\n",
    "from scipy.interpolate import CubicSpline"
   ]
  },
  {
   "cell_type": "markdown",
   "metadata": {},
   "source": [
    "### look for duals in some sep bin"
   ]
  },
  {
   "cell_type": "code",
   "execution_count": null,
   "metadata": {},
   "outputs": [],
   "source": [
    "df2 = pd.read_pickle(\"/home/insepien/research-data/pop-result/separation.pkl\")\n",
    "sep_kpc = df2['sep_kpc']\n",
    "\n",
    "def find_agn_in_bin(bin_num):\n",
    "    bins = np.logspace(-1,1.5,10)\n",
    "    bin0_inds = np.where((bins[bin_num] <= sep_kpc) & (sep_kpc <= bins[bin_num+1]))\n",
    "    bin0_agns = df2.loc[[i if i<14 else i+1 for i in bin0_inds[0]]]\n",
    "    return bin0_agns\n",
    "\n",
    "#find_agn_in_bin(2)\n",
    "df2"
   ]
  },
  {
   "cell_type": "markdown",
   "metadata": {},
   "source": [
    "### check J1010 calculations"
   ]
  },
  {
   "cell_type": "code",
   "execution_count": null,
   "metadata": {},
   "outputs": [],
   "source": [
    "k = [j for j in j1010.keys() if j[:len('OIII_5007')] =='OIII_5007']\n",
    "[print(key, j1010[key].values[0]) for key in k];"
   ]
  },
  {
   "cell_type": "code",
   "execution_count": null,
   "metadata": {},
   "outputs": [],
   "source": [
    "j1010['OIII_5007_LUM_DERRED']"
   ]
  },
  {
   "cell_type": "code",
   "execution_count": null,
   "metadata": {},
   "outputs": [],
   "source": [
    "from astropy.cosmology import Planck13\n",
    "## J1010 CHECKS\n",
    "data = fits.getdata('/home/insepien/research-data/alpaka/ALPAKA_v1_withDes.fits')\n",
    "# get j1010 row\n",
    "alpaka = Table(data).to_pandas()\n",
    "j1010 = alpaka[alpaka['Desig']==\"J1010+1413\"]\n",
    "lums = [i for i in list(j1010.keys()) if 'LUM' in i]\n",
    "\n",
    "# OIII luminosity and bolo from OIII\n",
    "ja_oiii = 1.2e44 # different from alpaka value??\n",
    "i1 = ja_oiii*800/(1+1.3)\n",
    "i2 = i1*1.3\n",
    "print(f\"alpaka OIII lum extinction corrected: {j1010['OIII_5007_LUM_DERRED'].values[0]:.1e}\")\n",
    "print(f\"paper OIII lum: {ja_oiii:.1e}\")\n",
    "print(f\"by paper OIII lum, my core 1 bolometric: {i1:.1e}, my core 2 bolometric: {i2:.1e}\")\n",
    "\n",
    "# IR  luminosity \n",
    "f160 = 3.23e-12*u.erg/u.s/(u.cm)**2 # from paper\n",
    "ja_ir = 1.1e11\n",
    "da = Planck13.luminosity_distance(j1010['Z'].values[0])\n",
    "print(f\"paper IR lum: {ja_ir:.1e}\")\n",
    "print(f\"my IR Lum: {(f160*4*np.pi*da**2).to(u.L_sun):.1e}\")"
   ]
  },
  {
   "cell_type": "code",
   "execution_count": null,
   "metadata": {},
   "outputs": [],
   "source": [
    "# checking J1010 bolometric luminosity using WISE mIR\n",
    "wmags_ = np.array([13.056, 11.208, 6.784, 3.816])\n",
    "\n",
    "zeromagflux = np.array([309.540, 171.787, 31.674, 8.363])*u.Jy\n",
    "fluxdens = zeromagflux*10**(-wmags_/2.5)\n",
    "## get flux at obs wavelength\n",
    "obs_flux = fluxdens[-1]\n",
    "## change to luminosity\n",
    "obs_hz = (const.c/(22*u.micron)).to(u.Hz)\n",
    "ja_ir = 6e46\n",
    "mylum = (obs_flux*obs_hz*4*np.pi*Planck13.luminosity_distance(0.2)**2).to(u.erg/u.s).value\n",
    "print(f\"paper IR lum?: {ja_ir:.1e}\")\n",
    "print(f\"IR Lum: {mylum*1.12:.1e}\")"
   ]
  },
  {
   "cell_type": "code",
   "execution_count": null,
   "metadata": {},
   "outputs": [],
   "source": [
    "with open(\"/home/insepien/research-data/pop-result/bc.txt\",\"r\") as f:\n",
    "    d = f.read().splitlines()\n",
    "hopkins = pd.DataFrame([d[1:][i].split(' ') for i in range(len(d[1:]))],columns=d[0].split(' '))\n",
    "Lbol = np.array(list(hopkins['Lbols'].values), dtype=float)\n",
    "LIR = np.array(list(hopkins['LIRs'].values), dtype=float)\n",
    "\n",
    "# interpolate wise IR lum\n",
    "from scipy.interpolate import CubicSpline\n",
    "spl = CubicSpline(LIR, Lbol)\n",
    "10**(spl(np.log10(mylum)))"
   ]
  },
  {
   "cell_type": "markdown",
   "metadata": {},
   "source": [
    "### calculate bolometric luminosity from WISE mIR and Hopkins+20 corrections to 15 nm"
   ]
  },
  {
   "cell_type": "code",
   "execution_count": null,
   "metadata": {},
   "outputs": [],
   "source": [
    "def get_wise_mags(wise_):\n",
    "    \"\"\"get wise mags and mag errors from data frame of ipac search results\"\"\"\n",
    "    ## get wise mags and errors\n",
    "    w1mag = wise_['w1mpro']\n",
    "    w2mag = wise_['w2mpro']\n",
    "    w3mag = wise_['w3mpro']\n",
    "    w4mag = wise_['w4mpro']\n",
    "    wmags_ = np.array([w1mag, w2mag, w3mag, w4mag])\n",
    "    wmags_err_ = np.array([wise_['w1sigmpro'], wise_['w2sigmpro'], wise_['w3sigmpro'], wise_['w4sigmpro']])\n",
    "    return wmags_, wmags_err_\n",
    "\n",
    "\n",
    "def wise_lum_from_mag(wmags_, wmags_err_, rf_wavelength_, redshift_):\n",
    "    \"\"\"turn wise mags into wise flux at restframe 15 microns\"\"\"\n",
    "    ## get observed wavelength corresponding to global rest-frame wavelength\n",
    "    obs_wavelength = rf_wavelength_#*(1+redshift_)\n",
    "    ## change mags to fluxes -- http://wise2.ipac.caltech.edu/docs/release/allsky/expsup/sec4_4h.html#example\n",
    "    zeromagflux = np.array([309.540, 171.787, 31.674, 8.363])*u.Jy\n",
    "    fluxdens = zeromagflux*10**(-wmags_/2.5) # in Jy\n",
    "    fluxdens_err = zeromagflux*10**(-wmags_err_/2.5)\n",
    "    ## interpolate - use straight line\n",
    "    wise_wavelengths = np.array([3.4, 4.6, 12., 22.]) # 1e-6 m\n",
    "    wiseflux = np.polyfit(wise_wavelengths, fluxdens.value,1, w=1./fluxdens_err)\n",
    "    ## get flux at obs wavelength, i.e. just a straight line here\n",
    "    obs_flux = (wiseflux[0]*obs_wavelength+wiseflux[1])*u.Jy\n",
    "    ## change to luminosity\n",
    "    obs_hz = (const.c/(obs_wavelength*u.micron)).to(u.Hz)\n",
    "    lum = (obs_flux*obs_hz*4*np.pi*\n",
    "           cosmo.luminosity_distance(redshift_)**2).to(u.erg/u.s)\n",
    "    return lum\n",
    "\n",
    "\n",
    "def correct_ir():\n",
    "    \"\"\"correct IR luminosity at 15 microns rest frame based on Hopkins+20\"\"\"\n",
    "    # load hopkins bolometric correction\n",
    "    with open(\"/home/insepien/research-data/pop-result/bc.txt\",\"r\") as f:\n",
    "        d = f.read().splitlines()\n",
    "    hopkins = pd.DataFrame([d[1:][i].split(' ') for i in range(len(d[1:]))],columns=d[0].split(' '))\n",
    "    Lbol = np.array(list(hopkins['Lbols'].values), dtype=float)\n",
    "    LIR = np.array(list(hopkins['LIRs'].values), dtype=float)\n",
    "    spl = CubicSpline(LIR, Lbol)\n",
    "    return spl"
   ]
  },
  {
   "cell_type": "markdown",
   "metadata": {},
   "source": [
    "Check with J1010 wise lum"
   ]
  },
  {
   "cell_type": "code",
   "execution_count": null,
   "metadata": {},
   "outputs": [],
   "source": [
    "paper_ir_bol = 6e46\n",
    "print(f\"paper bolometric luminosity from WISE IR: {paper_ir_bol:.2e}\")\n",
    "j10_ipac = pd.read_csv(\"/home/insepien/research-data/alpaka/j1010_ipac.csv\")\n",
    "wmag10, wmagerr10  = get_wise_mags(j10_ipac)\n",
    "j10_w_lum = wise_lum_from_mag(wmag10[:,0], wmagerr10[:,0], 22, 0.198).value\n",
    "j10_ir_bol = j10_w_lum*10**1.2#10**(spl(np.log10(j10_w_lum)))\n",
    "print(f\"J1010 AGN lum from WISE IR at 22 microns: {j10_ir_bol:.2e}\")"
   ]
  },
  {
   "cell_type": "code",
   "execution_count": null,
   "metadata": {},
   "outputs": [],
   "source": [
    "# this file is from query of sources on WISE, instructions for query in kris candidate selection notebook\n",
    "# wise search has 39 objects fitted in magellan sample\n",
    "wise = pd.read_pickle(\"/home/insepien/research-data/alpaka/wise_39fits.pkl\")\n",
    "# read alpaka for optical comparison and redshift\n",
    "# alpaka has 41 rows, since J0926+0724 (1 is non-agn) and J1222-0007 (dual) are duplicated\n",
    "alpaka = pd.read_pickle(\"/home/insepien/research-data/alpaka/alpaka_39fits.pkl\")\n",
    "alpaka.reset_index(inplace=True)\n",
    "## get wise mags and errors\n",
    "wmags, wmags_err_nan = get_wise_mags(wise)\n",
    "# replace nan values in mag error with median\n",
    "wmags_err = np.nan_to_num(wmags_err_nan,np.median(wmags_err_nan))\n",
    "# calculate 15 microns lum\n",
    "wise_lums = np.zeros((len(wise)))\n",
    "for i in range(0, len(wise)):\n",
    "    on = wise.loc[i,\"designation\"]\n",
    "    z = np.mean(alpaka[alpaka['Desig']==on]['Z'])\n",
    "    wise_lums[i] = wise_lum_from_mag(wmags[:,i], wmags_err[:,i], 22, alpaka.loc[i,\"Z\"]).value\n",
    "\n",
    "# bolometric correction from Hopkins\n",
    "# spl = correct_ir()\n",
    "# # interpolate wise IR lum\n",
    "# irbol = 10**(spl(np.log10(wise_lums)))\n",
    "\n",
    "irbol = wise_lums*10**1.12"
   ]
  },
  {
   "cell_type": "code",
   "execution_count": null,
   "metadata": {},
   "outputs": [],
   "source": [
    "# compare OIII and IR bolo lum\n",
    "df_all = pd.read_pickle(\"/home/insepien/research-data/pop-result/all_results_updated.pkl\")\n",
    "#oiiibol = alpaka['OIII_5007_LUM_DERRED']*800\n",
    "oiilbol = df_all['OIII_BOL']"
   ]
  },
  {
   "cell_type": "code",
   "execution_count": null,
   "metadata": {},
   "outputs": [],
   "source": [
    "def read_mul171():\n",
    "    # read mullaney and add designations\n",
    "    mul171_ = pd.read_pickle(\"/home/insepien/research-data/alpaka/mull171.pkl\")\n",
    "    designations = []\n",
    "    for i in range(0, len(mul171_)):\n",
    "        pos = SkyCoord(ra=mul171_['RA'][i]*u.deg, dec=mul171_['DEC'][i]*u.deg)\n",
    "        posstring = pos.to_string('hmsdms').split(' ')\n",
    "        des_ra = posstring[0][0:2]+posstring[0][3:5]\n",
    "        des_dec = posstring[1][0:3]+posstring[1][4:6]\n",
    "        des = 'J'+des_ra+des_dec\n",
    "        designations.append(des)\n",
    "    mul171_['DESIG'] = designations\n",
    "    return mul171_\n",
    "\n",
    "mul171 = read_mul171()\n",
    "mul171[mul171['DESIG']=='J1550+4005'][['RA',\"DEC\"]]"
   ]
  },
  {
   "cell_type": "code",
   "execution_count": null,
   "metadata": {},
   "outputs": [],
   "source": [
    "fig,ax = plt.subplots(1,2,figsize=(13,4))\n",
    "ax[0].hist(pd.DataFrame(wmags).loc[3], label='magellan sample', color='orange') \n",
    "ax[0].axvline(wmag10[-1], label='J1010',c='steelblue')\n",
    "ax[0].set_title(\"WISE magnitude of Magellan sample\")\n",
    "ax[0].legend()\n",
    "ax[0].set_xlabel(\"Vega Mag at 22 microns\")\n",
    "\n",
    "ax[1].hist(np.log10(oiiibol),label=\"OIII*800\",color='steelblue')\n",
    "ax[1].axvline(np.log10(1.2e43*800),label='j1010 OIII*800',c=\"steelblue\")\n",
    "\n",
    "ax[1].hist(np.log10(oiiibol/800*100),label=\"OIII*100\",color='green')\n",
    "ax[1].axvline(np.log10(1.2e43*100),label='j1010 OIII*100',c=\"green\")\n",
    "\n",
    "ax[1].hist(np.log10(irbol),label='wise IR corrected by 12%', color='orange')\n",
    "ax[1].axvline(np.log10(paper_ir_bol),label='j1010 IR',c=\"orange\")\n",
    "\n",
    "ax[1].set_xlabel(\"Log(L_bol)\")\n",
    "ax[1].set_ylabel(\"# quasars\")\n",
    "ax[1].set_title(\"bolometric luminosity\")\n",
    "ax[1].legend()\n",
    ";\n"
   ]
  },
  {
   "cell_type": "markdown",
   "metadata": {},
   "source": [
    "Hi Kris, I have fixed the code, and my bolometric luminosity of J1010 at 22 microns matches Andy's number (6e46). However, the Magellan sample is dimmer than J1010 (left panel), so it is consistent that the IR bolometric luminosity is lower than e46 (right panel). OIII and IR would be consistent if we correct OIII by 100 rather than 800. Also I am using OIII value straight from Mullaney. In J1010 paper, Andy use a number that is 10x higher. I remember they said this number is from some other catalog, but that's strange because they wrote the luminosity exactly like Mullaney (L_OIII_dered) and quoted Mullaney right before that. If you think this result is ok, I can draft an email to Andy to ask where exactly the OIII value he used is from. "
   ]
  },
  {
   "cell_type": "code",
   "execution_count": null,
   "metadata": {},
   "outputs": [],
   "source": []
  }
 ],
 "metadata": {
  "kernelspec": {
   "display_name": "usc",
   "language": "python",
   "name": "python3"
  },
  "language_info": {
   "codemirror_mode": {
    "name": "ipython",
    "version": 3
   },
   "file_extension": ".py",
   "mimetype": "text/x-python",
   "name": "python",
   "nbconvert_exporter": "python",
   "pygments_lexer": "ipython3",
   "version": "3.11.3"
  }
 },
 "nbformat": 4,
 "nbformat_minor": 2
}
