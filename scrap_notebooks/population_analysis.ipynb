{
 "cells": [
  {
   "cell_type": "code",
   "execution_count": null,
   "metadata": {},
   "outputs": [],
   "source": [
    "import pandas as pd\n",
    "import numpy as np\n",
    "import os\n",
    "import matplotlib.pyplot as plt"
   ]
  },
  {
   "cell_type": "markdown",
   "metadata": {},
   "source": [
    "### look for duals in some sep bin"
   ]
  },
  {
   "cell_type": "code",
   "execution_count": null,
   "metadata": {},
   "outputs": [],
   "source": [
    "df2 = pd.read_pickle(\"/home/insepien/research-data/pop-result/separation.pkl\")\n",
    "sep_kpc = df2['sep_kpc']\n",
    "\n",
    "def find_agn_in_bin(bin_num):\n",
    "    bins = np.logspace(-1,1.5,10)\n",
    "    bin0_inds = np.where((bins[bin_num] <= sep_kpc) & (sep_kpc <= bins[bin_num+1]))\n",
    "    bin0_agns = df2.loc[[i if i<14 else i+1 for i in bin0_inds[0]]]\n",
    "    return bin0_agns\n",
    "\n",
    "#find_agn_in_bin(2)\n",
    "df2"
   ]
  },
  {
   "cell_type": "markdown",
   "metadata": {},
   "source": [
    "### check J1010 calculations"
   ]
  },
  {
   "cell_type": "code",
   "execution_count": null,
   "metadata": {},
   "outputs": [],
   "source": [
    "## J1010 CHECKS\n",
    "from astropy.coordinates import SkyCoord\n",
    "from astropy.table import Table\n",
    "from astropy.io import fits\n",
    "from astropy.cosmology import WMAP9 as cosmo\n",
    "import astropy.units as u\n",
    "data = fits.getdata('/home/insepien/research-data/alpaka/ALPAKA_v1_withDes.fits')\n",
    "# get j1010 row\n",
    "alpaka = Table(data).to_pandas()\n",
    "j1010 = alpaka[alpaka['Desig']==\"J1010+1413\"]\n",
    "lums = [i for i in list(j1010.keys()) if 'LUM' in i]\n",
    "\n",
    "# OIII\n",
    "ja_oiii = 1.2e44 # different from alpaka value??\n",
    "i1 = ja_oiii*800/(1+1.3)\n",
    "i2 = i1*1.3\n",
    "print(f\"alpaka OIII lum extinction corrected: {j1010['OIII_5007_LUM_DERRED'].values[0]:.1e}\")\n",
    "print(f\"paper OIII lum: {ja_oiii:.1e}\")\n",
    "print(f\"by paper lum, core 1 bolometric: {i1:.1e}, core 2 bolometric: {i2:.1e}\")\n",
    "\n",
    "# IR -- use Planck13 here\n",
    "f160 = 3.23e-12*u.erg/u.s/(u.cm)**2 # from paper\n",
    "ja_ir = 1.1e11\n",
    "from astropy.cosmology import Planck13\n",
    "da = Planck13.luminosity_distance(j1010['Z'].values[0])\n",
    "print(f\"paper IR lum: {ja_ir:.1e}\")\n",
    "print(f\"IR Lum: {(f160*4*np.pi*da**2).to(u.L_sun):.1e}\")"
   ]
  },
  {
   "cell_type": "code",
   "execution_count": null,
   "metadata": {},
   "outputs": [],
   "source": [
    "# checking J1010 WISE numbers, but the paper number is actually L_AGN, so this might not be a fair comparison\n",
    "\n",
    "import astropy.constants as const\n",
    "wmags_ = np.array([13.056, 11.208, 6.784, 3.816])\n",
    "\n",
    "zeromagflux = np.array([309.540, 171.787, 31.674, 8.363])*u.Jy\n",
    "fluxdens = zeromagflux*10**(-wmags_/2.5)\n",
    "## get flux at obs wavelength\n",
    "obs_flux = fluxdens[-1]\n",
    "## change to luminosity\n",
    "obs_hz = (const.c/(22*u.micron)).to(u.Hz)\n",
    "ja_ir = 6e46\n",
    "mylum = (obs_flux*obs_hz*4*np.pi*Planck13.luminosity_distance(0.2)**2).to(u.erg/u.s).value\n",
    "print(f\"paper IR lum?: {ja_ir:.1e}\")\n",
    "print(f\"IR Lum: {mylum:.1e}\")"
   ]
  },
  {
   "cell_type": "markdown",
   "metadata": {},
   "source": [
    "### calculate bolometric luminosity from WISE mIR and Hopkins+07 corrections to 15 nm"
   ]
  },
  {
   "cell_type": "code",
   "execution_count": null,
   "metadata": {},
   "outputs": [],
   "source": [
    "from scipy.optimize import fsolve\n",
    "import astropy.constants as const\n",
    "\n",
    "def wise_lum_from_mag(wmags_, wmags_err_, rf_wavelength_, redshift_):\n",
    "    \"\"\"turn wise mags into wise flux at restframe 15 microns\"\"\"\n",
    "    ## get observed wavelength corresponding to global rest-frame wavelength\n",
    "    obs_wavelength = rf_wavelength_*(1+redshift_)\n",
    "  \n",
    "    ## change mags to fluxes -- http://wise2.ipac.caltech.edu/docs/release/allsky/expsup/sec4_4h.html#example\n",
    "    zeromagflux = np.array([309.540, 171.787, 31.674, 8.363])*u.Jy\n",
    "    fluxdens = zeromagflux*10**(-wmags_/2.5)\n",
    "    fluxdens_err = zeromagflux*10**(-wmags_err_/2.5)\n",
    "  \n",
    "    ## interpolate - use straight line\n",
    "    wise_wavelengths = np.array([3.4, 4.6, 12., 22.])\n",
    "    wiseflux = np.polyfit(wise_wavelengths, fluxdens.value,1, w=1./fluxdens_err)\n",
    "  \n",
    "  \n",
    "    ## get flux at obs wavelength, i.e. just a straight line here\n",
    "    obs_flux = (wiseflux[0]*obs_wavelength+wiseflux[1])*u.Jy\n",
    "  \n",
    "    ## change to luminosity\n",
    "    obs_hz = (const.c/(obs_wavelength*u.micron)).to(u.Hz)\n",
    "    lum = (obs_flux*obs_hz*4*np.pi*\n",
    "           cosmo.luminosity_distance(redshift_)**2).to(u.erg/u.s)\n",
    "    return lum\n",
    "\n",
    "# this file is from query of sources on WISE, instructions for query in kris candidate selection notebook\n",
    "wise = pd.read_pickle(\"/home/insepien/research-data/alpaka/wise_39fits.pkl\")\n",
    "wise.fillna(0,inplace=True)\n",
    "# read alpaka for optical comparison and redshift\n",
    "alpaka = pd.read_pickle(\"/home/insepien/research-data/alpaka/alpaka_39fits.pkl\")\n",
    "alpaka.reset_index(inplace=True)\n",
    "\n",
    "## get wise mags and errors\n",
    "w1mag = wise['w1mpro']\n",
    "w2mag = wise['w2mpro']\n",
    "w3mag = wise['w3mpro']\n",
    "w4mag = wise['w4mpro']\n",
    "wmags = np.array([w1mag, w2mag, w3mag, w4mag])\n",
    "wmags_err = np.array([wise['w1sigmpro'], wise['w2sigmpro'], wise['w3sigmpro'], wise['w4sigmpro']])\n",
    "\n",
    "# calculate 15 microns lum\n",
    "wise_lums = np.zeros((len(wise)))\n",
    "for i in range(0, len(wise)):\n",
    "    on = wise.loc[i,\"designation\"]\n",
    "    z = np.mean(alpaka[alpaka['Desig']==on]['Z'])\n",
    "    wise_lums[i] = wise_lum_from_mag(wmags[:,i], wmags_err[:,i], 15., alpaka.loc[i,\"Z\"]).value\n",
    "\n",
    "# bolometric correction from Hopkins\n",
    "with open(\"/home/insepien/research-data/pop-result/bc.txt\",\"r\") as f:\n",
    "    d = f.read().splitlines()\n",
    "hopkins = pd.DataFrame([d[1:][i].split(' ') for i in range(len(d[1:]))],columns=d[0].split(' '))\n",
    "Lbol = np.array(list(hopkins['Lbols'].values), dtype=float)\n",
    "LIR = np.array(list(hopkins['LIRs'].values), dtype=float)\n",
    "\n",
    "# interpolate wise IR lum\n",
    "from scipy.interpolate import CubicSpline\n",
    "spl = CubicSpline(LIR, Lbol)\n",
    "irbol = 10**(spl(np.log10(wise_lums)))"
   ]
  },
  {
   "cell_type": "code",
   "execution_count": null,
   "metadata": {},
   "outputs": [],
   "source": [
    "# compare OIII and IR bolo lum\n",
    "df_all = pd.read_pickle(\"/home/insepien/research-data/pop-result/all_results_updated.pkl\")\n",
    "oiiibol = np.array(list(df_all['OIII_BOL'].values))\n",
    "plt.hist(np.log10(oiiibol),label=\"OIII Mullaney*800\")\n",
    "plt.hist(np.log10(irbol),label='wise IR corrected by Hopkins')\n",
    "plt.xlabel(\"Log(L_bol)\")\n",
    "plt.ylabel(\"# quasars\")\n",
    "plt.title(\"Compare bolometric luminosity approximations from OIII and IR\")\n",
    "plt.legend();"
   ]
  },
  {
   "cell_type": "code",
   "execution_count": null,
   "metadata": {},
   "outputs": [],
   "source": []
  }
 ],
 "metadata": {
  "kernelspec": {
   "display_name": "usc",
   "language": "python",
   "name": "python3"
  },
  "language_info": {
   "codemirror_mode": {
    "name": "ipython",
    "version": 3
   },
   "file_extension": ".py",
   "mimetype": "text/x-python",
   "name": "python",
   "nbconvert_exporter": "python",
   "pygments_lexer": "ipython3",
   "version": "3.11.3"
  }
 },
 "nbformat": 4,
 "nbformat_minor": 2
}
