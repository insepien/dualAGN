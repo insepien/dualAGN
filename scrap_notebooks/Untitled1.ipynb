{
 "cells": [
  {
   "cell_type": "code",
   "execution_count": 1,
   "id": "b8867826",
   "metadata": {},
   "outputs": [],
   "source": [
    "import numpy as np \n",
    "import pandas as pd\n",
    "import matplotlib.pyplot as plt\n",
    "import emcee \n",
    "import pyimfit \n",
    "from astropy.io import fits\n",
    "import corner\n",
    "from IPython.display import Latex\n",
    "import sys\n",
    "import warnings\n",
    "import tqdm\n",
    "\n",
    "\n",
    "plt.rcParams['image.cmap'] = 'Blues'\n",
    "warnings.filterwarnings(\"ignore\")\n",
    "\n",
    "imageFile = \"../fit/agn.fits\"\n",
    "imageAGN = fits.getdata(imageFile)\n",
    "\n",
    "epsf = fits.getdata(\"../psfConstruction/epsf2.fits\")"
   ]
  },
  {
   "cell_type": "code",
   "execution_count": 2,
   "id": "ed64480f",
   "metadata": {},
   "outputs": [],
   "source": [
    "def find_highest_indices(arr):\n",
    "    flattened_arr = np.array(arr).flatten()\n",
    "    max_indices = np.unravel_index(np.argsort(flattened_arr)[-2:], arr.shape)\n",
    "    return max_indices\n",
    "\n",
    "\n",
    "def galaxy_model(X0, Y0, X1, Y1, Xss0, Yss0, Xss1, Yss1, Xlim, Ylim,\n",
    "                 PA_ss, ell_ss, n_ss, I_ss, r_ss, Itot,\n",
    "                 PA_lim, ell_lim, I_lim, sigma_lim, Iss_lim, rss_lim):\n",
    "    \"\"\"create galaxy model for ML fit\n",
    "        including: ps: 1 psf + 1 sersic\n",
    "                   psps: 2 psf + 2 sersic\"\"\"\n",
    "\n",
    "    sersic = {'PA': [PA_ss, PA_lim[0],PA_lim[1]], 'ell_bulge': [ell_ss, ell_lim[0],ell_lim[1]], 'n': [n_ss, 'fixed'],\n",
    "    'I_e': [I_ss, Iss_lim[0],Iss_lim[1]], 'r_e': [r_ss, rss_lim[0],rss_lim[1]]}\n",
    "    sersic_dict = {'name': \"Sersic\", 'label': \"bulge\", 'parameters': sersic}\n",
    "    \n",
    "    psf = {'I_tot' : Itot}\n",
    "    psf_dict = {'name': \"PointSource\", 'label': \"psf\", 'parameters': psf}\n",
    "\n",
    "    funcset_dict_psf0 = {'X0': [X0,Xlim[0],Xlim[1]], 'Y0': [Y0, Ylim[0],Ylim[1]], \n",
    "                    'function_list': [psf_dict]}\n",
    "    funcset_dict_psf1 = {'X0': [X1,Xlim[0],Xlim[1]], 'Y0': [Y1, Ylim[0],Ylim[1]], \n",
    "                    'function_list': [psf_dict]}\n",
    "    funcset_dict_sersic0 = {'X0': [Xss0,Xlim[0],Xlim[1]], 'Y0': [Yss0,Ylim[0],Ylim[1]], \n",
    "                   'function_list': [sersic_dict]}\n",
    "    funcset_dict_sersic1 = {'X0': [Xss1,Xlim[0],Xlim[1]], 'Y0': [Yss1,Ylim[0],Ylim[1]], \n",
    "                   'function_list': [sersic_dict]}\n",
    "    \n",
    "    funcset_dict_psfser0 = {'X0': [X0,Xlim[0],Xlim[1]], 'Y0': [Y0, Ylim[0],Ylim[1]], \n",
    "                    'function_list': [psf_dict, sersic_dict]}\n",
    "    funcset_dict_psfser1 = {'X0': [X1,Xlim[0],Xlim[1]], 'Y0': [Y1, Ylim[0],Ylim[1]], \n",
    "                    'function_list': [psf_dict, sersic_dict]}\n",
    "\n",
    "    \n",
    "    model_dict_ps_1c = {'function_sets': [funcset_dict_psfser0]}\n",
    "    model_dict_psps_1c = {'function_sets': [funcset_dict_psfser0,funcset_dict_psfser1]}\n",
    "    \n",
    "    model_dict_ps_2c = {'function_sets': [funcset_dict_psf0,funcset_dict_sersic0]}\n",
    "    model_dict_psps_2c = {'function_sets': [funcset_dict_psf0, funcset_dict_psf1,funcset_dict_sersic0,funcset_dict_sersic1]}\n",
    "    \n",
    "    model_ps1c = pyimfit.ModelDescription.dict_to_ModelDescription(model_dict_ps_1c)\n",
    "    model_psps1c = pyimfit.ModelDescription.dict_to_ModelDescription(model_dict_psps_1c)\n",
    "    model_ps2c = pyimfit.ModelDescription.dict_to_ModelDescription(model_dict_ps_2c)\n",
    "    model_psps2c = pyimfit.ModelDescription.dict_to_ModelDescription(model_dict_psps_2c)\n",
    "    return model_ps1c, model_psps1c, model_ps2c, model_psps2c\n",
    "\n",
    "\n",
    "\n",
    "def doFit(models,epsf): \n",
    "    \"\"\"do fit with data using PSF oversampled by factor of 4 over whole image\n",
    "       return fitters\"\"\"\n",
    "    fitters = []\n",
    "    # oversamped PSF\n",
    "    psfOsamp = pyimfit.MakePsfOversampler(epsf, 4, (0,100,0,100))\n",
    "    osampleList = [psfOsamp]\n",
    "    for i in tqdm.tqdm(range(len(models)), desc=\"Fitting Models\"):\n",
    "        imfit_fitter = pyimfit.Imfit(models[i],psf=epsf)\n",
    "        imfit_fitter.loadData(imageAGN, psf_oversampling_list=osampleList, gain=9.942e-1, read_noise=0.22, original_sky=15.683)\n",
    "        imfit_fitter.doFit()\n",
    "        fitters.append(imfit_fitter)\n",
    "    return fitters"
   ]
  },
  {
   "cell_type": "code",
   "execution_count": 3,
   "id": "335d8bdc",
   "metadata": {},
   "outputs": [],
   "source": [
    "starpos = find_highest_indices(imageAGN)\n",
    "center = (starpos[0]+starpos[1])/2\n",
    "Imax = imageAGN.max()\n",
    "itot=130\n",
    "\n",
    "models_n1 = galaxy_model(X0=starpos[0][0], Y0=starpos[0][1], X1=starpos[1][0], Y1=starpos[1][1], \n",
    "                                                 Xss0=starpos[0][0], Yss0=starpos[0][1], Xss1=starpos[1][0], Yss1=starpos[1][1],\n",
    "                                                 Xlim=[0,100], Ylim=[0,100],\n",
    "                                                 PA_ss=200, ell_ss=0.1, n_ss=1, I_ss=1, r_ss=20, Itot=itot,\n",
    "                                                 PA_lim=[0,360], ell_lim=[0.0,1.0], I_lim=[0,Imax], sigma_lim=[0,15],\n",
    "                                      Iss_lim=[0,Imax], rss_lim=[0,100])"
   ]
  },
  {
   "cell_type": "code",
   "execution_count": 10,
   "id": "a1a4d762",
   "metadata": {},
   "outputs": [
    {
     "name": "stdout",
     "output_type": "stream",
     "text": [
      "PsfOversampling: starting initialization...\n",
      "141\n",
      "PsfOversampling: done.\n"
     ]
    },
    {
     "name": "stderr",
     "output_type": "stream",
     "text": [
      "Fitting Models:  75%|███████████████████████████████████████████████████▊                 | 3/4 [02:43<00:55, 55.24s/it]"
     ]
    },
    {
     "name": "stdout",
     "output_type": "stream",
     "text": [
      "PsfOversampling: starting __dealloc__.\n",
      "PsfOversampling: done with __dealloc__.\n"
     ]
    },
    {
     "name": "stderr",
     "output_type": "stream",
     "text": [
      "Fitting Models: 100%|█████████████████████████████████████████████████████████████████████| 4/4 [02:51<00:00, 42.91s/it]"
     ]
    },
    {
     "name": "stdout",
     "output_type": "stream",
     "text": [
      "PsfOversampling: starting __dealloc__.\n",
      "PsfOversampling: done with __dealloc__.\n"
     ]
    },
    {
     "name": "stderr",
     "output_type": "stream",
     "text": [
      "\n"
     ]
    }
   ],
   "source": [
    "def doFit(models,epsf): \n",
    "    \"\"\"do fit with data using PSF oversampled by factor of 4 over whole image\n",
    "       return fitters\"\"\"\n",
    "    fitters = []\n",
    "    # oversamped PSF\n",
    "    psfOsamp = pyimfit.MakePsfOversampler(epsf, 4, (0,100,0,100))\n",
    "    osampleList = [psfOsamp]\n",
    "    for i in tqdm.tqdm(range(len(models)), desc=\"Fitting Models\"):\n",
    "        imfit_fitter = pyimfit.Imfit(models[i],psf=epsf)\n",
    "        imfit_fitter.loadData(imageAGN, psf_oversampling_list=osampleList, gain=9.942e-1, read_noise=0.22, original_sky=15.683)\n",
    "        imfit_fitter.doFit()\n",
    "        fitters.append(imfit_fitter)\n",
    "    return fitters\n",
    "\n",
    "fitters = doFit(models_n1, epsf)"
   ]
  },
  {
   "cell_type": "code",
   "execution_count": 11,
   "id": "c0752905",
   "metadata": {},
   "outputs": [
    {
     "data": {
      "text/plain": [
       "            aic: 919.5264382047388\n",
       "            bic: 1020.4291403177634\n",
       "   fitConverged: True\n",
       "        fitStat: 891.4843751100968\n",
       " fitStatReduced: 0.08927342029942889\n",
       "          nIter: 40\n",
       "      paramErrs: array([8.20637084e-02, 8.04210389e-02, 1.70088560e+03, 2.90781957e+08,\n",
       "       0.00000000e+00, 0.00000000e+00, 2.74135666e-01, 1.82570147e+00,\n",
       "       7.98688519e-02, 7.06316378e-02, 2.15870135e+03, 1.90097936e+00,\n",
       "       2.17358427e-02, 0.00000000e+00, 9.27574113e-01, 4.17207166e-01])\n",
       "         params: array([5.34005664e+01, 5.34890951e+01, 4.32690719e+04, 3.54477253e+02,\n",
       "       0.00000000e+00, 1.00000000e+00, 1.40480858e+00, 2.08115696e+01,\n",
       "       4.83959561e+01, 5.76541455e+01, 3.80936814e+04, 7.43091213e+01,\n",
       "       3.85449711e-01, 1.00000000e+00, 1.54900204e+01, 1.08697724e+01])\n",
       "     solverName: 'LM'"
      ]
     },
     "execution_count": 11,
     "metadata": {},
     "output_type": "execute_result"
    }
   ],
   "source": [
    "fitters[1].getFitResult()"
   ]
  },
  {
   "cell_type": "code",
   "execution_count": 9,
   "id": "29e91907",
   "metadata": {},
   "outputs": [
    {
     "data": {
      "text/plain": [
       "            aic: 899.5659018685352\n",
       "            bic: 1000.4686039815598\n",
       "   fitConverged: True\n",
       "        fitStat: 871.5238387738932\n",
       " fitStatReduced: 0.08727456827297148\n",
       "          nIter: 34\n",
       "      paramErrs: array([8.47248824e-02, 8.29446984e-02, 8.83745163e+01, 6.29677594e+00,\n",
       "       7.72343189e-02, 0.00000000e+00, 2.73551128e-01, 3.32180119e+00,\n",
       "       7.90066094e-02, 7.31829516e-02, 1.12405677e+02, 2.13457292e+00,\n",
       "       2.27458912e-02, 0.00000000e+00, 9.43961872e-01, 4.79783933e-01])\n",
       "         params: array([5.34139408e+01, 5.35234688e+01, 2.17767031e+03, 2.95123627e+02,\n",
       "       4.09985547e-01, 1.00000000e+00, 1.36430495e+00, 2.77666428e+01,\n",
       "       4.83992738e+01, 5.76743064e+01, 1.93033344e+03, 2.48553926e+02,\n",
       "       3.82793236e-01, 1.00000000e+00, 1.58382706e+01, 1.08054954e+01])\n",
       "     solverName: 'LM'"
      ]
     },
     "execution_count": 9,
     "metadata": {},
     "output_type": "execute_result"
    }
   ],
   "source": [
    "fitter[0].getFitResult()"
   ]
  },
  {
   "cell_type": "code",
   "execution_count": 16,
   "id": "719ea14c",
   "metadata": {},
   "outputs": [
    {
     "data": {
      "text/plain": [
       "array([  54.,   54., 2178.,  296.,    1.,    1.,    2.,   28.,   49.,\n",
       "         58., 1931.,  249.,    1.,    1.,   16.,   11.])"
      ]
     },
     "execution_count": 16,
     "metadata": {},
     "output_type": "execute_result"
    }
   ],
   "source": [
    "np. set_printoptions(suppress=True    )\n",
    "np.ceil(np.array([5.34139408e+01, 5.35234688e+01, 2.17767031e+03, 2.95123627e+02,\n",
    "       4.09985547e-01, 1.00000000e+00, 1.36430495e+00, 2.77666428e+01,\n",
    "       4.83992738e+01, 5.76743064e+01, 1.93033344e+03, 2.48553926e+02,\n",
    "       3.82793236e-01, 1.00000000e+00, 1.58382706e+01, 1.08054954e+01]))"
   ]
  },
  {
   "cell_type": "code",
   "execution_count": 17,
   "id": "12e1e5ba",
   "metadata": {},
   "outputs": [
    {
     "data": {
      "text/plain": [
       "array([   54.,    54., 43270.,   355.,     0.,     1.,     2.,    21.,\n",
       "          49.,    58., 38094.,    75.,     1.,     1.,    16.,    11.])"
      ]
     },
     "execution_count": 17,
     "metadata": {},
     "output_type": "execute_result"
    }
   ],
   "source": [
    "np.ceil(np.array([5.34005664e+01, 5.34890951e+01, 4.32690719e+04, 3.54477253e+02,\n",
    "       0.00000000e+00, 1.00000000e+00, 1.40480858e+00, 2.08115696e+01,\n",
    "       4.83959561e+01, 5.76541455e+01, 3.80936814e+04, 7.43091213e+01,\n",
    "       3.85449711e-01, 1.00000000e+00, 1.54900204e+01, 1.08697724e+01]))"
   ]
  },
  {
   "cell_type": "code",
   "execution_count": 15,
   "id": "d905aa4b",
   "metadata": {},
   "outputs": [
    {
     "name": "stdout",
     "output_type": "stream",
     "text": [
      "PsfOversampling: starting initialization...\n",
      "141\n",
      "PsfOversampling: done.\n",
      "PsfOversampling: starting __dealloc__.\n",
      "PsfOversampling: done with __dealloc__.\n",
      "            aic: 1653.1479253308087\n",
      "            bic: 1703.609098967468\n",
      "   fitConverged: True\n",
      "        fitStat: 1639.1367163636348\n",
      " fitStatReduced: 0.1640284915804698\n",
      "          nIter: 36\n",
      "      paramErrs: array([7.18010654e-02, 6.08843537e-02, 1.02677539e+02, 1.22878200e+00,\n",
      "       1.31169996e-02, 0.00000000e+00, 7.33820293e-01, 2.08747383e-01])\n",
      "         params: array([4.94873561e+01, 5.67360988e+01, 1.37318644e+03, 6.59741105e+01,\n",
      "       3.77094930e-01, 1.00000000e+00, 2.29771397e+01, 1.09635638e+01])\n",
      "     solverName: 'LM'\n",
      "            aic: 919.5264382047388\n",
      "            bic: 1020.4291403177634\n",
      "   fitConverged: True\n",
      "        fitStat: 891.4843751100968\n",
      " fitStatReduced: 0.08927342029942889\n",
      "          nIter: 40\n",
      "      paramErrs: array([8.20637084e-02, 8.04210389e-02, 1.70088560e+03, 2.90781957e+08,\n",
      "       0.00000000e+00, 0.00000000e+00, 2.74135666e-01, 1.82570147e+00,\n",
      "       7.98688519e-02, 7.06316378e-02, 2.15870135e+03, 1.90097936e+00,\n",
      "       2.17358427e-02, 0.00000000e+00, 9.27574113e-01, 4.17207166e-01])\n",
      "         params: array([5.34005664e+01, 5.34890951e+01, 4.32690719e+04, 3.54477253e+02,\n",
      "       0.00000000e+00, 1.00000000e+00, 1.40480858e+00, 2.08115696e+01,\n",
      "       4.83959561e+01, 5.76541455e+01, 3.80936814e+04, 7.43091213e+01,\n",
      "       3.85449711e-01, 1.00000000e+00, 1.54900204e+01, 1.08697724e+01])\n",
      "     solverName: 'LM'\n"
     ]
    }
   ],
   "source": [
    "psfOsamp = pyimfit.MakePsfOversampler(epsf, 4, (0,100,0,100))\n",
    "osampleList = [psfOsamp]\n",
    "\n",
    "fitter = pyimfit.Imfit(models_n1[0],psf=epsf)\n",
    "fitter.loadData(imageAGN, psf_oversampling_list=osampleList, gain=9.942e-1, read_noise=0.22, original_sky=15.683)\n",
    "fitter.doFit()\n",
    "print(fitter.getFitResult())\n",
    "\n",
    "fitter = pyimfit.Imfit(models_n1[1],psf=epsf)\n",
    "fitter.loadData(imageAGN, psf_oversampling_list=osampleList, gain=9.942e-1, read_noise=0.22, original_sky=15.683)\n",
    "fitter.doFit()\n",
    "print(fitter.getFitResult())"
   ]
  },
  {
   "cell_type": "code",
   "execution_count": 18,
   "id": "2e01b52c",
   "metadata": {},
   "outputs": [
    {
     "data": {
      "text/plain": [
       "['AIC',\n",
       " 'BIC',\n",
       " '__class__',\n",
       " '__del__',\n",
       " '__delattr__',\n",
       " '__dict__',\n",
       " '__dir__',\n",
       " '__doc__',\n",
       " '__eq__',\n",
       " '__format__',\n",
       " '__ge__',\n",
       " '__getattribute__',\n",
       " '__getstate__',\n",
       " '__gt__',\n",
       " '__hash__',\n",
       " '__init__',\n",
       " '__init_subclass__',\n",
       " '__le__',\n",
       " '__lt__',\n",
       " '__module__',\n",
       " '__ne__',\n",
       " '__new__',\n",
       " '__reduce__',\n",
       " '__reduce_ex__',\n",
       " '__repr__',\n",
       " '__setattr__',\n",
       " '__sizeof__',\n",
       " '__str__',\n",
       " '__subclasshook__',\n",
       " '__weakref__',\n",
       " '_chunkSize',\n",
       " '_dataSet',\n",
       " '_debugLevel',\n",
       " '_finalSetupDone',\n",
       " '_fitDone',\n",
       " '_fitStatComputed',\n",
       " '_lastSolverUsed',\n",
       " '_mask',\n",
       " '_maxThreads',\n",
       " '_modelDescr',\n",
       " '_modelObjectWrapper',\n",
       " '_normalizePSF',\n",
       " '_psf',\n",
       " '_setupModel',\n",
       " '_subsampling',\n",
       " '_updateModelDescription',\n",
       " '_verboseLevel',\n",
       " '_zeroPoint',\n",
       " 'computeFitStatistic',\n",
       " 'doFit',\n",
       " 'fit',\n",
       " 'fitConverged',\n",
       " 'fitError',\n",
       " 'fitStatistic',\n",
       " 'fitTerminated',\n",
       " 'getFitResult',\n",
       " 'getModelAsDict',\n",
       " 'getModelDescription',\n",
       " 'getModelFluxes',\n",
       " 'getModelImage',\n",
       " 'getModelMagnitudes',\n",
       " 'getParameterErrors',\n",
       " 'getParameterLimits',\n",
       " 'getRawParameters',\n",
       " 'loadData',\n",
       " 'nIter',\n",
       " 'nParameters',\n",
       " 'nPegged',\n",
       " 'nValidPixels',\n",
       " 'numberedParameterNames',\n",
       " 'parameterErrors',\n",
       " 'reducedFitStatistic',\n",
       " 'runBootstrap',\n",
       " 'saveCurrentModelToFile',\n",
       " 'zeroPoint']"
      ]
     },
     "execution_count": 18,
     "metadata": {},
     "output_type": "execute_result"
    }
   ],
   "source": [
    "dir(fitter)"
   ]
  },
  {
   "cell_type": "code",
   "execution_count": 20,
   "id": "34df830a",
   "metadata": {},
   "outputs": [],
   "source": [
    "fitter.zeroPoint?"
   ]
  },
  {
   "cell_type": "code",
   "execution_count": null,
   "id": "43b0cdb4",
   "metadata": {},
   "outputs": [],
   "source": []
  }
 ],
 "metadata": {
  "kernelspec": {
   "display_name": "Python 3 (ipykernel)",
   "language": "python",
   "name": "python3"
  },
  "language_info": {
   "codemirror_mode": {
    "name": "ipython",
    "version": 3
   },
   "file_extension": ".py",
   "mimetype": "text/x-python",
   "name": "python",
   "nbconvert_exporter": "python",
   "pygments_lexer": "ipython3",
   "version": "3.11.3"
  }
 },
 "nbformat": 4,
 "nbformat_minor": 5
}
