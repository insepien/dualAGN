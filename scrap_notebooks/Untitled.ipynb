{
 "cells": [
  {
   "cell_type": "code",
   "execution_count": 1,
   "id": "6ffeb18c",
   "metadata": {},
   "outputs": [],
   "source": [
    "import numpy as np \n",
    "import pandas as pd\n",
    "import matplotlib.pyplot as plt\n",
    "import emcee \n",
    "import pyimfit \n",
    "from astropy.io import fits\n",
    "import corner\n",
    "from IPython.display import Latex\n",
    "import sys\n",
    "import warnings\n",
    "import tqdm\n",
    "\n",
    "\n",
    "plt.rcParams['image.cmap'] = 'Blues'\n",
    "warnings.filterwarnings(\"ignore\")\n",
    "\n",
    "imageFile = \"../fit/agn.fits\"\n",
    "imageAGN = fits.getdata(imageFile)\n",
    "\n",
    "epsf = fits.getdata(\"../psfConstruction/epsf2.fits\")"
   ]
  },
  {
   "cell_type": "code",
   "execution_count": 2,
   "id": "5c4717c4",
   "metadata": {},
   "outputs": [
    {
     "name": "stdout",
     "output_type": "stream",
     "text": [
      "PsfOversampling: starting initialization...\n",
      "141\n",
      "PsfOversampling: done.\n"
     ]
    }
   ],
   "source": [
    "def find_highest_indices(arr):\n",
    "    flattened_arr = np.array(arr).flatten()\n",
    "    max_indices = np.unravel_index(np.argsort(flattened_arr)[-2:], arr.shape)\n",
    "    return max_indices\n",
    "\n",
    "\n",
    "def galaxy_model(X0, Y0, X1, Y1, Xss0, Yss0, Xss1, Yss1, Xlim, Ylim,\n",
    "                 PA_ss, ell_ss, n_ss, I_ss, r_ss, Itot,\n",
    "                 PA_lim, ell_lim, I_lim, sigma_lim, Iss_lim, rss_lim):\n",
    "    \"\"\"create galaxy model for ML fit\n",
    "        including: ps: 1 psf + 1 sersic\n",
    "                   psps: 2 psf + 2 sersic\"\"\"\n",
    "\n",
    "    sersic = {'PA': [PA_ss, PA_lim[0],PA_lim[1]], 'ell_bulge': [ell_ss, ell_lim[0],ell_lim[1]], 'n': [n_ss, 'fixed'],\n",
    "    'I_e': [I_ss, Iss_lim[0],Iss_lim[1]], 'r_e': [r_ss, rss_lim[0],rss_lim[1]]}\n",
    "    sersic_dict = {'name': \"Sersic\", 'label': \"bulge\", 'parameters': sersic}\n",
    "    \n",
    "    psf = {'I_tot' : Itot}\n",
    "    psf_dict = {'name': \"PointSource\", 'label': \"psf\", 'parameters': psf}\n",
    "\n",
    "    funcset_dict_psf0 = {'X0': [X0,Xlim[0],Xlim[1]], 'Y0': [Y0, Ylim[0],Ylim[1]], \n",
    "                    'function_list': [psf_dict]}\n",
    "    funcset_dict_psf1 = {'X0': [X1,Xlim[0],Xlim[1]], 'Y0': [Y1, Ylim[0],Ylim[1]], \n",
    "                    'function_list': [psf_dict]}\n",
    "    funcset_dict_sersic0 = {'X0': [Xss0,Xlim[0],Xlim[1]], 'Y0': [Yss0,Ylim[0],Ylim[1]], \n",
    "                   'function_list': [sersic_dict]}\n",
    "    funcset_dict_sersic1 = {'X0': [Xss1,Xlim[0],Xlim[1]], 'Y0': [Yss1,Ylim[0],Ylim[1]], \n",
    "                   'function_list': [sersic_dict]}\n",
    "    \n",
    "    funcset_dict_psfser0 = {'X0': [X0,Xlim[0],Xlim[1]], 'Y0': [Y0, Ylim[0],Ylim[1]], \n",
    "                    'function_list': [psf_dict, sersic_dict]}\n",
    "    funcset_dict_psfser1 = {'X0': [X1,Xlim[0],Xlim[1]], 'Y0': [Y1, Ylim[0],Ylim[1]], \n",
    "                    'function_list': [psf_dict, sersic_dict]}\n",
    "\n",
    "    \n",
    "    model_dict_ps_1c = {'function_sets': [funcset_dict_psfser0]}\n",
    "    model_dict_psps_1c = {'function_sets': [funcset_dict_psfser0,funcset_dict_psfser1]}\n",
    "    \n",
    "    model_dict_ps_2c = {'function_sets': [funcset_dict_psf0,funcset_dict_sersic0]}\n",
    "    model_dict_psps_2c = {'function_sets': [funcset_dict_psf0, funcset_dict_psf1,funcset_dict_sersic0,funcset_dict_sersic1]}\n",
    "    \n",
    "    model_ps1c = pyimfit.ModelDescription.dict_to_ModelDescription(model_dict_ps_1c)\n",
    "    model_psps1c = pyimfit.ModelDescription.dict_to_ModelDescription(model_dict_psps_1c)\n",
    "    model_ps2c = pyimfit.ModelDescription.dict_to_ModelDescription(model_dict_ps_2c)\n",
    "    model_psps2c = pyimfit.ModelDescription.dict_to_ModelDescription(model_dict_psps_2c)\n",
    "    return model_ps1c, model_psps1c, model_ps2c, model_psps2c\n",
    "\n",
    "\n",
    "\n",
    "def doFit(models,epsf): \n",
    "    \"\"\"do fit with data using PSF oversampled by factor of 4 over whole image\n",
    "       return fitters\"\"\"\n",
    "    fitters = []\n",
    "    # oversamped PSF\n",
    "    psfOsamp = pyimfit.MakePsfOversampler(epsf, 4, (0,100,0,100))\n",
    "    osampleList = [psfOsamp]\n",
    "    for i in tqdm.tqdm(range(len(models)), desc=\"Fitting Models\"):\n",
    "        imfit_fitter = pyimfit.Imfit(models[i],psf=epsf)\n",
    "        imfit_fitter.loadData(imageAGN, psf_oversampling_list=osampleList, gain=9.942e-1, read_noise=0.22, original_sky=15.683)\n",
    "        imfit_fitter.doFit()\n",
    "        fitters.append(imfit_fitter)\n",
    "    return fitters\n",
    "\n",
    "\n",
    "\n",
    "        \n",
    "        \n",
    "starpos = find_highest_indices(imageAGN)\n",
    "center = (starpos[0]+starpos[1])/2\n",
    "Imax = imageAGN.max()\n",
    "itot=epsf.sum()\n",
    "\n",
    "\n",
    "X0=starpos[0][0]\n",
    "Y0=starpos[0][1]\n",
    "X1=starpos[1][0]\n",
    "Y1=starpos[1][1] \n",
    "Xss0=starpos[0][0]\n",
    "Yss0=starpos[0][1]\n",
    "Xss1=starpos[1][0]\n",
    "Yss1=starpos[1][1]\n",
    "Xlim=[0,100]\n",
    "Ylim=[0,100]\n",
    "PA_ss=200\n",
    "ell_ss=0.1\n",
    "n_ss=1\n",
    "I_ss=1\n",
    "r_ss=20\n",
    "PA_lim=[0,360]\n",
    "ell_lim=[0.0,1.0]\n",
    "I_lim=[0,Imax]\n",
    "sigma_lim=[0,15]\n",
    "Iss_lim=[0,Imax]\n",
    "rss_lim=[0,100]\n",
    "\n",
    "Itot=130\n",
    "\n",
    "psfOsamp = pyimfit.MakePsfOversampler(epsf, 4, (0,100,0,100))\n",
    "osampleList = [psfOsamp]"
   ]
  },
  {
   "cell_type": "code",
   "execution_count": 3,
   "id": "6c135cef",
   "metadata": {},
   "outputs": [],
   "source": [
    "sersic = {'PA': [PA_ss, PA_lim[0],PA_lim[1]], 'ell_bulge': [ell_ss, ell_lim[0],ell_lim[1]], 'n': [n_ss, 'fixed'],\n",
    "'I_e': [I_ss, Iss_lim[0],Iss_lim[1]], 'r_e': [r_ss, rss_lim[0],rss_lim[1]]}\n",
    "sersic_dict = {'name': \"Sersic\", 'label': \"bulge\", 'parameters': sersic}\n",
    "\n",
    "psf = {'I_tot' : Itot}\n",
    "psf_dict = {'name': \"PointSource\", 'label': \"psf\", 'parameters': psf}\n",
    "\n",
    "funcset_dict_psf0 = {'X0': [X0,Xlim[0],Xlim[1]], 'Y0': [Y0, Ylim[0],Ylim[1]], \n",
    "                'function_list': [psf_dict]}\n",
    "funcset_dict_psf1 = {'X0': [X1,Xlim[0],Xlim[1]], 'Y0': [Y1, Ylim[0],Ylim[1]], \n",
    "                'function_list': [psf_dict]}\n",
    "funcset_dict_sersic0 = {'X0': [Xss0,Xlim[0],Xlim[1]], 'Y0': [Yss0,Ylim[0],Ylim[1]], \n",
    "               'function_list': [sersic_dict]}\n",
    "funcset_dict_sersic1 = {'X0': [Xss1,Xlim[0],Xlim[1]], 'Y0': [Yss1,Ylim[0],Ylim[1]], \n",
    "               'function_list': [sersic_dict]}\n",
    "\n",
    "funcset_dict_psfser0 = {'X0': [X0,Xlim[0],Xlim[1]], 'Y0': [Y0, Ylim[0],Ylim[1]], \n",
    "                'function_list': [psf_dict, sersic_dict]}\n",
    "funcset_dict_psfser1 = {'X0': [X1,Xlim[0],Xlim[1]], 'Y0': [Y1, Ylim[0],Ylim[1]], \n",
    "                'function_list': [psf_dict, sersic_dict]}\n",
    "\n",
    "\n",
    "model_dict_ps_1c = {'function_sets': [funcset_dict_psfser0]}\n",
    "model_dict_psps_1c = {'function_sets': [funcset_dict_psfser0,funcset_dict_psfser1]}\n",
    "\n",
    "model_dict_ps_2c = {'function_sets': [funcset_dict_psf0,funcset_dict_sersic0]}\n",
    "model_dict_psps_2c = {'function_sets': [funcset_dict_psf0, funcset_dict_psf1,funcset_dict_sersic0,funcset_dict_sersic1]}\n",
    "\n",
    "model_ps1c = pyimfit.ModelDescription.dict_to_ModelDescription(model_dict_ps_1c)\n",
    "model_psps1c = pyimfit.ModelDescription.dict_to_ModelDescription(model_dict_psps_1c)\n",
    "model_ps2c = pyimfit.ModelDescription.dict_to_ModelDescription(model_dict_ps_2c)\n",
    "model_psps2c = pyimfit.ModelDescription.dict_to_ModelDescription(model_dict_psps_2c)\n"
   ]
  },
  {
   "cell_type": "code",
   "execution_count": 4,
   "id": "5f5efb36",
   "metadata": {},
   "outputs": [
    {
     "data": {
      "text/plain": [
       "            aic: 48668939135.436554\n",
       "            bic: 48668939265.15415\n",
       "   fitConverged: True\n",
       "        fitStat: 48668939099.36803\n",
       " fitStatReduced: 4875670.116145865\n",
       "          nIter: 3\n",
       "      paramErrs: array([0.00000000e+00, 0.00000000e+00, 0.00000000e+00, 7.22393971e-07,\n",
       "       8.92590872e-09, 0.00000000e+00, 0.00000000e+00, 0.00000000e+00,\n",
       "       0.00000000e+00, 1.24493886e-04, 0.00000000e+00, 6.78327887e-06,\n",
       "       5.01229461e-05, 1.40435686e-04, 1.86460549e-04, 0.00000000e+00,\n",
       "       0.00000000e+00, 0.00000000e+00, 0.00000000e+00, 0.00000000e+00])\n",
       "         params: array([ 5.96164075e+01,  4.40187590e+01,  7.59751332e+02,  4.80000026e+01,\n",
       "        5.19999979e+01, -6.73367311e+01,  8.08811063e+01,  5.61426678e+01,\n",
       "        2.00000000e+02,  1.00000000e-01,  1.00000000e+00,  1.00019009e+00,\n",
       "        1.99982995e+01,  4.80015516e+01,  0.00000000e+00,  2.00124113e+02,\n",
       "        1.00000000e-01,  1.00000000e+00,  1.00000000e+00,  2.00000000e+01])\n",
       "     solverName: 'LM'"
      ]
     },
     "execution_count": 4,
     "metadata": {},
     "output_type": "execute_result"
    }
   ],
   "source": [
    "modeldict = {'function_sets':[funcset_dict_psf0, funcset_dict_psf1,funcset_dict_sersic0,funcset_dict_sersic1]}\n",
    "model = pyimfit.ModelDescription.dict_to_ModelDescription(modeldict)\n",
    "fitter = pyimfit.Imfit(model,psf=epsf)\n",
    "fitter.loadData(imageAGN, psf_oversampling_list=osampleList, gain=9.942e-1, read_noise=0.22, original_sky=15.683)\n",
    "fitter.doFit()"
   ]
  },
  {
   "cell_type": "code",
   "execution_count": 21,
   "id": "3fd21053",
   "metadata": {},
   "outputs": [
    {
     "data": {
      "image/png": "[encoded data removed]",
      "text/plain": [
       "<Figure size 640x480 with 2 Axes>"
      ]
     },
     "metadata": {},
     "output_type": "display_data"
    }
   ],
   "source": [
    "plt.imshow(fitter.getModelImage(newParameters = [ 60.,  45., 6700000.,  49.,  52., 67000000.,  81.,  57., 201.,   1.,   1.,\n",
    "         2.,  2,  49.,   50., 201.,   1.,   1.,   1.,  2.]))\n",
    "plt.colorbar();"
   ]
  },
  {
   "cell_type": "code",
   "execution_count": 5,
   "id": "cb297437",
   "metadata": {},
   "outputs": [
    {
     "name": "stdout",
     "output_type": "stream",
     "text": [
      "X0_1 59.61640750098246\n",
      "Y0_1 44.01875900875978\n",
      "I_tot_1 759.7513319180212\n",
      "X0_2 48.00000262068689\n",
      "Y0_2 51.99999793578321\n",
      "I_tot_2 -67.33673105278203\n",
      "X0_3 80.8811063289937\n",
      "Y0_3 56.14266776232339\n",
      "PA_3 200.0000001978908\n",
      "ell_bulge_3 0.10000000001204559\n",
      "n_3 1.0\n",
      "I_e_3 1.0001900922209142\n",
      "r_e_3 19.998299459605732\n",
      "X0_4 48.00155163518655\n",
      "Y0_4 0.0\n",
      "PA_4 200.12411334011531\n",
      "ell_bulge_4 0.1\n",
      "n_4 1.0\n",
      "I_e_4 1.0\n",
      "r_e_4 20.0\n"
     ]
    }
   ],
   "source": [
    "bf = fitter.getFitResult().params\n",
    "names = fitter.numberedParameterNames\n",
    "for i in range(len(bf)):\n",
    "    print(names[i], bf[i])"
   ]
  },
  {
   "cell_type": "code",
   "execution_count": 7,
   "id": "509cc9c4",
   "metadata": {},
   "outputs": [
    {
     "data": {
      "text/plain": [
       "array([ 60.,  45., 760.,  49.,  52., -67.,  81.,  57., 201.,   1.,   1.,\n",
       "         2.,  20.,  49.,   0., 201.,   1.,   1.,   1.,  20.])"
      ]
     },
     "execution_count": 7,
     "metadata": {},
     "output_type": "execute_result"
    }
   ],
   "source": [
    "np. set_printoptions(suppress=True    )\n",
    "np.ceil(bf)"
   ]
  },
  {
   "cell_type": "code",
   "execution_count": 5,
   "id": "5a9fb6b6",
   "metadata": {},
   "outputs": [
    {
     "data": {
      "text/plain": [
       "array([  50.,   57., 1374.,   66.,    1.,    1.,   23.,   11.])"
      ]
     },
     "execution_count": 5,
     "metadata": {},
     "output_type": "execute_result"
    }
   ],
   "source": [
    "np. set_printoptions(suppress=True    )\n",
    "np.ceil(np.array([4.94873561e+01, 5.67360988e+01, 1.37318644e+03, 6.59741105e+01,\n",
    "       3.77094930e-01, 1.00000000e+00, 2.29771397e+01, 1.09635638e+01]))"
   ]
  },
  {
   "cell_type": "code",
   "execution_count": 7,
   "id": "a17169ed",
   "metadata": {},
   "outputs": [
    {
     "data": {
      "text/plain": [
       "array([   50.,    57., 26830.,   246.,     1.,     1.,    23.,    11.])"
      ]
     },
     "execution_count": 7,
     "metadata": {},
     "output_type": "execute_result"
    }
   ],
   "source": [
    "np. set_printoptions(suppress=True    )\n",
    "np.ceil(np.array([4.94873393e+01, 5.67361124e+01, 2.68297115e+04, 2.45974246e+02,\n",
    "       3.77093423e-01, 1.00000000e+00, 2.29769167e+01, 1.09636072e+01]))"
   ]
  },
  {
   "cell_type": "code",
   "execution_count": null,
   "id": "c992f40b",
   "metadata": {},
   "outputs": [],
   "source": []
  }
 ],
 "metadata": {
  "kernelspec": {
   "display_name": "Python 3 (ipykernel)",
   "language": "python",
   "name": "python3"
  },
  "language_info": {
   "codemirror_mode": {
    "name": "ipython",
    "version": 3
   },
   "file_extension": ".py",
   "mimetype": "text/x-python",
   "name": "python",
   "nbconvert_exporter": "python",
   "pygments_lexer": "ipython3",
   "version": "3.11.3"
  }
 },
 "nbformat": 4,
 "nbformat_minor": 5
}
