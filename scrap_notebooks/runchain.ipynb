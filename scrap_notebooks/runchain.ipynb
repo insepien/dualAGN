{
 "cells": [
  {
   "cell_type": "code",
   "execution_count": null,
   "id": "0",
   "metadata": {},
   "outputs": [],
   "source": [
    "import emcee\n",
    "import numpy as np\n",
    "import pyimfit\n",
    "import pathlib\n",
    "import cProfile\n",
    "import time\n",
    "import pickle\n",
    "import matplotlib.pyplot as plt\n",
    "from astropy.io import fits\n",
    "import tqdm\n",
    "from multiprocessing import Pool\n",
    "import corner\n",
    "\n",
    "plt.rcParams['image.cmap'] = 'Blues'\n",
    "\n",
    "imageFile = \"agn.fits\"\n",
    "imageAGN = fits.getdata(imageFile)\n",
    "\n",
    "epsf = fits.getdata(\"../psfConstruction/epsf2.fits\")\n",
    "epsf_star = fits.getdata(\"../psfConstruction/star0.fits\")"
   ]
  },
  {
   "cell_type": "code",
   "execution_count": null,
   "id": "1",
   "metadata": {},
   "outputs": [],
   "source": [
    "def getFits():\n",
    "    \"\"\"get fitters and best fit values\"\"\"\n",
    "    with open('fitResults/J1215+1344_fit_.pkl', 'rb') as file:\n",
    "        d = pickle.load(file)\n",
    "    # get model to create fitters\n",
    "    models_n1 = d['fitConfig_n1']\n",
    "    models_n4 = d['fitConfig_n4']\n",
    "    psfOsamp = pyimfit.MakePsfOversampler(epsf, 4, (0,100,0,100))\n",
    "    osampleList = [psfOsamp]\n",
    "    fitters_n1, fitters_n4 =[], []\n",
    "    for fitters, models in zip([fitters_n1, fitters_n4],[models_n1,models_n4]):\n",
    "        for i in tqdm.tqdm(range(len(models)), desc=\"Fitting Models\"):\n",
    "            imfit_fitter = pyimfit.Imfit(models[i],psf=epsf)\n",
    "            imfit_fitter.loadData(imageAGN, psf_oversampling_list=osampleList, gain=9.942e-1, read_noise=0.22, original_sky=15.683)\n",
    "            fitters.append(imfit_fitter)\n",
    "    return fitters_n1, fitters_n4, d['bestfit_n1'], d['bestfit_n4']\n",
    "\n",
    "fitters_n1, fitters_n4, bestfits_n1, bestfits_n4 = getFits()"
   ]
  },
  {
   "cell_type": "code",
   "execution_count": null,
   "id": "2",
   "metadata": {},
   "outputs": [],
   "source": [
    "with open('fitResults/J1215+1344_fit_.pkl', 'rb') as file:\n",
    "        d = pickle.load(file)\n",
    "    # get model to create fitters\n",
    "models_n1 = d['fitConfig_n1']\n",
    "models_n4 = d['fitConfig_n4']\n",
    "psfOsamp = pyimfit.MakePsfOversampler(epsf, 4, (0,100,0,100))\n",
    "osampleList = [psfOsamp]\n",
    "\n",
    "imfit_fitter = pyimfit.Imfit(models_n1[1],psf=epsf)\n",
    "imfit_fitter.loadData(imageAGN, psf_oversampling_list=osampleList, gain=9.942e-1, read_noise=0.22, original_sky=15.683)"
   ]
  },
  {
   "cell_type": "code",
   "execution_count": null,
   "id": "3",
   "metadata": {},
   "outputs": [],
   "source": [
    "m=1\n",
    "parameterLimits = fitters_n1[m].getParameterLimits()\n",
    "names = fitters_n1[m].numberedParameterNames\n",
    "rmind = [i for i, name in zip(range(len(names)),names) if \"n_\" in name]\n",
    "parameterLimits = [element for indx, element in enumerate(parameterLimits) if indx not in rmind]\n",
    "parameterLimits = [(0,100000) if e is None else e for e in parameterLimits]\n",
    "parameterLimits"
   ]
  },
  {
   "cell_type": "code",
   "execution_count": null,
   "id": "4",
   "metadata": {},
   "outputs": [],
   "source": [
    "def get_rm_inds(fitter):\n",
    "    names = fitter.numberedParameterNames\n",
    "    rm_inds = [i for i, name in zip(range(len(names)),names) if \"n_\" in name]\n",
    "    return rm_inds\n",
    "\n",
    "rm_inds = [get_rm_inds(fitter) for fitter in fitters_n1]\n",
    "rm_inds"
   ]
  },
  {
   "cell_type": "markdown",
   "id": "5",
   "metadata": {},
   "source": [
    "# check prior"
   ]
  },
  {
   "cell_type": "code",
   "execution_count": null,
   "id": "6",
   "metadata": {},
   "outputs": [],
   "source": [
    "\n",
    "def lnPrior_func(params,imfitter,rmind):\n",
    "    parameterLimits = imfitter.getParameterLimits()\n",
    "    parameterLimits = [element for indx, element in enumerate(parameterLimits) if indx not in rmind]\n",
    "    parameterLimits = [(0,100000) if e is None else e for e in parameterLimits]\n",
    "    nParams = len(params)\n",
    "    for i in range(nParams):\n",
    "        if params[i] < parameterLimits[i][0] or params[i] > parameterLimits[i][1]:\n",
    "            print(parameterLimits[i], params[i])\n",
    "            return  -np.inf\n",
    "    return 0.0\n",
    "\n",
    "m = 1\n",
    "p_bestfit = bestfits_n1[m]\n",
    "p_bestfit = np.delete(p_bestfit, rm_inds[m])\n",
    "ndims, nwalkers = len(p_bestfit), 50\n",
    "initial_pos = [p_bestfit + 0.001*np.random.randn(ndims) for i in range(nwalkers)]\n",
    "\n",
    "for i in range(20):\n",
    "    print(i, lnPrior_func(initial_pos[i],fitters_n1[m],rm_inds[m]) )\n"
   ]
  },
  {
   "cell_type": "markdown",
   "id": "7",
   "metadata": {},
   "source": [
    "# check posterior"
   ]
  },
  {
   "cell_type": "code",
   "execution_count": null,
   "id": "8",
   "metadata": {},
   "outputs": [],
   "source": [
    "def lnPosterior_func_chi(params, imfitter, p_bestfit, rmind):\n",
    "    lnPrior = lnPrior_func(params,imfitter,rmind)\n",
    "    if not np.isfinite(lnPrior):\n",
    "        return -np.inf\n",
    "    params = np.insert(p_bestfit,rmind,1)\n",
    "    #compute chi square likelihood\n",
    "    newIm = imfitter.getModelImage(newParameters=params)\n",
    "    chisquared = np.sum(((newIm - imageAGN)**2) / (imageAGN*0.01)**2)\n",
    "    lnLikelihood = -0.5*chisquared\n",
    "    return lnPrior + lnLikelihood\n",
    "\n",
    "def lnPosterior_pf(params, imfitter, lnPrior_func, rmInd):\n",
    "    lnPrior = lnPrior_func(params, imfitter, rmInd)\n",
    "    if not np.isfinite(lnPrior):\n",
    "        return -np.inf\n",
    "    params = np.insert(params,rmInd,1)\n",
    "    \n",
    "    lnLikelihood = -0.5 * imfitter.computeFitStatistic(params)\n",
    "    return lnPrior + lnLikelihood\n",
    "\n",
    "m=1\n",
    "p_bestfit = bestfits_n1[m]\n",
    "p_bestfit = np.delete(p_bestfit, rm_inds[m])\n",
    "ndims, nwalkers = len(p_bestfit), 50\n",
    "initial_pos = [p_bestfit + 0.001*np.random.randn(ndims) for i in range(nwalkers)]\n",
    "\n",
    "[lnPosterior_pf(initial_pos[i],fitters_n1[m],lnPrior_func,rm_inds[m]) for i in range(10)]\n"
   ]
  },
  {
   "cell_type": "code",
   "execution_count": null,
   "id": "9",
   "metadata": {},
   "outputs": [],
   "source": [
    "[print(fitters_n1[1].numberedParameterNames[i], bestfits_n1[1][i]) for i in range(16)]"
   ]
  },
  {
   "cell_type": "code",
   "execution_count": null,
   "id": "10",
   "metadata": {},
   "outputs": [],
   "source": [
    "def main():\n",
    "    [lnPosterior_pf(initial_pos[i],fitters_n1[m],lnPrior_func,rm_inds[m]) for i in range(nwalkers)]\n",
    "    \n",
    "cProfile.run(\"main()\", sort=\"cumulative\")"
   ]
  },
  {
   "cell_type": "code",
   "execution_count": null,
   "id": "11",
   "metadata": {},
   "outputs": [],
   "source": [
    "pos1 = np.array(initial_pos)+0.5\n",
    "def main1():\n",
    "    [lnPosterior_pf(pos1[i],fitters_n1[m],lnPrior_func,rm_inds[m]) for i in range(nwalkers)]\n",
    "    \n",
    "cProfile.run(\"main1()\", sort=\"cumulative\")"
   ]
  },
  {
   "cell_type": "code",
   "execution_count": null,
   "id": "12",
   "metadata": {},
   "outputs": [],
   "source": [
    "def run_emcee(p_bestfit, fitter,rmInd,numsteps):\n",
    "    p_bestfit = np.delete(p_bestfit, rmInd)\n",
    "    ndims, nwalkers = len(p_bestfit), 50\n",
    "    initial_pos = [p_bestfit + 0.001*np.random.randn(ndims) for i in range(nwalkers)]\n",
    "    #for i in range(20):\n",
    "   #     print(i,lnPrior_func(initial_pos[i],fitter ,rmInd))\n",
    "      #  print(i, lnPosterior_pf(initial_pos[i],fitter,lnPrior_func,rmInd) )\n",
    "    sampler = emcee.EnsembleSampler(nwalkers, ndims, lnPosterior_pf, args=(fitter, lnPrior_func, rmInd))\n",
    "    sampler.reset()\n",
    "    final_state = sampler.run_mcmc(initial_pos,numsteps,progress=True)\n",
    "    return sampler"
   ]
  },
  {
   "cell_type": "code",
   "execution_count": null,
   "id": "13",
   "metadata": {},
   "outputs": [],
   "source": [
    "sampler = run_emcee(bestfits_n1[1], fitters_n1[1] ,rm_inds[1],numsteps=2)\n"
   ]
  },
  {
   "cell_type": "code",
   "execution_count": null,
   "id": "14",
   "metadata": {},
   "outputs": [],
   "source": [
    "dir(sampler)"
   ]
  },
  {
   "cell_type": "code",
   "execution_count": null,
   "id": "15",
   "metadata": {},
   "outputs": [],
   "source": [
    "l=['X0_1','Y0_1','I_tot_1','PA_2','ell_bulge_2','I_e_2','r_e_2','X0_2','Y0_2','I_tot_3','PA_4','ell_bulge_4','I_e_4','r_e_4']"
   ]
  },
  {
   "cell_type": "code",
   "execution_count": null,
   "id": "16",
   "metadata": {},
   "outputs": [],
   "source": [
    "def PlotAllWalkers(sample_chain, yAxisLabel, figtitle):\n",
    "    n = len(yAxisLabel)\n",
    "    fig,ax = plt.subplots(n,1,figsize=(8, n*3))\n",
    "    nWalkers = sample_chain.shape[0]\n",
    "    for j in range(len(yAxisLabel)):\n",
    "        for i in range(nWalkers):\n",
    "            ax[j].plot(sample_chain[i,:,j], color='0.5')\n",
    "    [ax[i].set_xlabel('Step number') for i in range(len(yAxisLabel))]\n",
    "    [ax[i].set_ylabel(yAxisLabel[i]) for i in range(len(yAxisLabel))]\n",
    "    ax[0].set_title(figtitle)\n",
    "    \n",
    "    fig.tight_layout();\n",
    " \n",
    "\n",
    "PlotAllWalkers(sampler.chain, l, \"\")\n"
   ]
  },
  {
   "cell_type": "code",
   "execution_count": null,
   "id": "17",
   "metadata": {},
   "outputs": [],
   "source": [
    "with open(\"chain_n1_1_500_pf.pkl\", \"rb\") as file:\n",
    "    d = pickle.load(file)\n",
    "PlotAllWalkers(d['chain'], l, \"\")"
   ]
  },
  {
   "cell_type": "code",
   "execution_count": null,
   "id": "18",
   "metadata": {},
   "outputs": [],
   "source": [
    "attributes_and_methods = {}\n",
    "atts = ['acceptance_fraction','chain','flatchain', 'flatlnprobability', 'lnprobability']\n",
    "\n",
    "for attr in atts:\n",
    "    # Exclude callable attributes if they have special conditions\n",
    "    if attr not in ['acor', 'get_autocorr_time', 'run_mcmc', 'sample']:\n",
    "        attributes_and_methods[attr] = getattr(sampler, attr)\n",
    "        \n",
    "attributes_and_methods"
   ]
  },
  {
   "cell_type": "code",
   "execution_count": null,
   "id": "19",
   "metadata": {},
   "outputs": [],
   "source": [
    "with open(\"chain_n1_1_500_pf.pkl\", 'wb') as file:\n",
    "    pickle.dump(attributes_and_methods, file)"
   ]
  },
  {
   "cell_type": "code",
   "execution_count": null,
   "id": "20",
   "metadata": {},
   "outputs": [],
   "source": [
    "with open(\"chain_n1_1_500_pf.pkl\", 'rb') as file:\n",
    "    c = pickle.load(file)"
   ]
  },
  {
   "cell_type": "code",
   "execution_count": null,
   "id": "21",
   "metadata": {},
   "outputs": [],
   "source": [
    "PlotAllWalkers(c['chain'], l, \"\") "
   ]
  }
 ],
 "metadata": {
  "kernelspec": {
   "display_name": "Python 3 (ipykernel)",
   "language": "python",
   "name": "python3"
  },
  "language_info": {
   "codemirror_mode": {
    "name": "ipython",
    "version": 3
   },
   "file_extension": ".py",
   "mimetype": "text/x-python",
   "name": "python",
   "nbconvert_exporter": "python",
   "pygments_lexer": "ipython3",
   "version": "3.11.3"
  }
 },
 "nbformat": 4,
 "nbformat_minor": 5
}
