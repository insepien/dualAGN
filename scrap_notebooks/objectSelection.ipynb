{
 "cells": [
  {
   "cell_type": "code",
   "execution_count": 1,
   "id": "a59d082c",
   "metadata": {},
   "outputs": [],
   "source": [
    "from astropy.io import fits\n",
    "import numpy as np\n",
    "import matplotlib.pyplot as plt\n",
    "from astropy.table import Table\n",
    "import pandas as pd\n",
    "from astropy.wcs import WCS\n",
    "from astropy.coordinates import SkyCoord\n",
    "import astropy.units as u\n",
    "import os"
   ]
  },
  {
   "cell_type": "code",
   "execution_count": 7,
   "id": "5761415b",
   "metadata": {},
   "outputs": [],
   "source": [
    "# load final sample of 42 agns\n",
    "objs = [f[:-5] for f in os.listdir(os.path.expanduser(\"~/research-data/cutout-results/cutout-40x40\")) if f[0]==\"J\"]\n",
    "# load catalog of 87 agns\n",
    "catalog = pd.read_csv(os.path.expanduser('~/dualAGN/cutouts/catalog.txt'), names=['name', 'ra', 'dec'], delimiter='\\s+')\n",
    "coords = [SkyCoord(ra=catalog['ra'].loc[i]*u.deg, dec=catalog['dec'].loc[i]*u.deg) for i in range(len(catalog))]\n",
    "catalog['coords'] = coords\n",
    "catalog.set_index(\"name\",inplace=True)\n",
    "# get catalog of 42 agns and ra,dec\n",
    "cat = catalog.loc[catalog.index.isin(objs)]\n",
    "#open alpaka catalog\n",
    "hdul = fits.open(os.path.expanduser(\"~/alpaka/ALPAKA_v1.fits\"))\n",
    "alpaka = Table(hdul[1].data)\n",
    "# cross match redshift\n",
    "ind = [np.where(alpaka['RA'] == cat.iloc[i]['ra'])[0][0] for i in range(42)]\n",
    "#zs = [alpaka['Z'][ind[j]] for j in range(42)]\n",
    "cat = alpaka[ind]"
   ]
  },
  {
   "cell_type": "code",
   "execution_count": 12,
   "id": "98350b1e",
   "metadata": {},
   "outputs": [
    {
     "name": "stdout",
     "output_type": "stream",
     "text": [
      "['NAME', 'OBJID', 'URL', 'RA', 'DEC', 'Z', 'AGN_TYPE', 'SDSS_HA_NSIG', 'SDSS_HA_EW', 'SDSS_HA_EW_ERR', 'SDSS_HA_CONT', 'SDSS_HA_CENWAV', 'SDSS_HA_CENWAV_ERR', 'SDSS_HA_SIGMA', 'SDSS_HA_SIGMA_ERR', 'SDSS_HA_HEIGHT', 'SDSS_HEIGHT_ERR', 'SDSS_HB_NSIG', 'SDSS_HB_EW', 'SDSS_HB_EWERR', 'SDSS_HB_CONT', 'SDSS_HB_CENWAV', 'SDSS_HB_CENWAVERR', 'SDSS_HB_SIGMA', 'SDSS_HB_SIGMAERR', 'SDSS_HB_HEIGHT', 'SDSS_HB_HEIGHTERR', 'SDSS_OIII_NSIG', 'SDSS_OIII_EW', 'SDSS_OIII_EWERR', 'SDSS_OIII_CONT', 'SDSS_OIII_CENWAV', 'SDSS_OIII_CENWAVERR', 'SDSS_OIII_SIGMA', 'SDSS_OIII_SIGMAERR', 'SDSS_OIII_HEIGHT', 'SDSS_OIII_HEIGHTERR', 'SDSS_NII_NSIG', 'SDSS_NII_EW', 'SDSS_NII_EWERR', 'SDSS_NII_CONT', 'SDSS_NII_CENWAV', 'SDSS_NII_CENWAVERR', 'SDSS_NII_SIGMA', 'SDSS_NII_SIGMAERR', 'SDSS_NII_HEIGHT', 'SDSS_NII_HEIGHTERR', 'HB_WAV', 'HB_NORM', 'HB_NORM_ERR', 'HB_FWHM', 'HB_FWHM_ERR', 'HB_VEL', 'HB_VEL_ERR', 'HB_FLUX', 'HB_FLUX_ERR', 'HB_LUM', 'HB_LUM_ERR', 'HBB_WAV', 'HBB_NORM', 'HBB_NORM_ERR', 'HBB_FWHM', 'HBB_FWHM_ERR', 'HBB_VEL', 'HBB_VEL_ERR', 'HBB_FLUX', 'HBB_FLUX_ERR', 'HBB_LUM', 'HBB_LUM_ERR', 'HBBB_WAV', 'HBBB_NORM', 'HBBB_NORM_ERR', 'HBBB_FWHM', 'HBBB_FWHM_ERR', 'HBBB_VEL', 'HBBB_VEL_ERR', 'HBBB_FLUX', 'HBBB_FLUX_ERR', 'HBBB_LUM', 'HBBB_LUM_ERR', 'OIII_4959_WAV', 'OIII_4959_NORM', 'OIII_4959_NORM_ERR', 'OIII_4959_FWHM', 'OIII_4959_FWHM_ERR', 'OIII_4959_VEL', 'OIII_4959_VEL_ERR', 'OIII_4959_FLUX', 'OIII_4959_FLUX_ERR', 'OIII_4959_LUM', 'OIII_4959_LUM_ERR', 'OIII_4959B_WAV', 'OIII_4959B_NORM', 'OIII_4959B_NORM_ERR', 'OIII_4959B_FWHM', 'OIII_4959B_FWHM_ERR', 'OIII_4959B_VEL', 'OIII_4959B_VEL_ERR', 'OIII_4959B_FLUX', 'OIII_4959B_FLUX_ERR', 'OIII_4959B_LUM', 'OIII_4959B_LUM_ERR', 'OIII_5007_WAV', 'OIII_5007_NORM', 'OIII_5007_NORM_ERR', 'OIII_5007_FWHM', 'OIII_5007_FWHM_ERR', 'OIII_5007_VEL', 'OIII_5007_VEL_ERR', 'OIII_5007_FLUX', 'OIII_5007_FLUX_ERR', 'OIII_5007_LUM', 'OIII_5007_LUM_ERR', 'OIII_5007B_WAV', 'OIII_5007B_NORM', 'OIII_5007B_NORM_ERR', 'OIII_5007B_FWHM', 'OIII_5007B_FWHM_ERR', 'OIII_5007B_VEL', 'OIII_5007B_VEL_ERR', 'OIII_5007B_FLUX', 'OIII_5007B_FLUX_ERR', 'OIII_5007B_LUM', 'OIII_5007B_LUM_ERR', 'NII_6548_WAV', 'NII_6548_NORM', 'NII_6548_NORM_ERR', 'NII_6548_FWHM', 'NII_6548_FWHM_ERR', 'NII_6548_VEL', 'NII_6548_VEL_ERR', 'NII_6548_FLUX', 'NII_6548_FLUX_ERR', 'NII_6548_LUM', 'NII_6548_LUM_ERR', 'NII_6548B_WAV', 'NII_6548B_NORM', 'NII_6548B_NORM_ERR', 'NII_6548B_FWHM', 'NII_6548B_FWHM_ERR', 'NII_6548B_VEL', 'NII_6548B_VEL_ERR', 'NII_6548B_FLUX', 'NII_6548B_FLUX_ERR', 'NII_6548B_LUM', 'NII_6548B_LUM_ERR', 'HA_WAV', 'HA_NORM', 'HA_NORM_ERR', 'HA_FWHM', 'HA_FWHM_ERR', 'HA_VEL', 'HA_VEL_ERR', 'HA_FLUX', 'HA_FLUX_ERR', 'HA_LUM', 'HA_LUM_ERR', 'HAB_WAV', 'HAB_NORM', 'HAB_NORM_ERR', 'HAB_FWHM', 'HAB_FWHM_ERR', 'HAB_VEL', 'HAB_VEL_ERR', 'HAB_FLUX', 'HAB_FLUX_ERR', 'HAB_LUM', 'HAB_LUM_ERR', 'HABB_WAV', 'HABB_NORM', 'HABB_NORM_ERR', 'HABB_FWHM', 'HABB_FWHM_ERR', 'HABB_VEL', 'HABB_VEL_ERR', 'HABB_FLUX', 'HABB_FLUX_ERR', 'HABB_LUM', 'HABB_LUM_ERR', 'NII_6584_WAV', 'NII_6584_NORM', 'NII_6584_NORM_ERR', 'NII_6584_FWHM', 'NII_6584_FWHM_ERR', 'NII_6584_VEL', 'NII_6584_VEL_ERR', 'NII_6584_FLUX', 'NII_6584_FLUX_ERR', 'NII_6584_LUM', 'NII_6584_LUM_ERR', 'NII_6584B_WAV', 'NII_6584B_NORM', 'NII_6584B_NORM_ERR', 'NII_6584B_FWHM', 'NII_6584B_FWHM_ERR', 'NII_6584B_VEL', 'NII_6584B_VEL_ERR', 'NII_6584B_FLUX', 'NII_6584B_FLUX_ERR', 'NII_6584B_LUM', 'NII_6584B_LUM_ERR', 'HB_NARR_FLUX', 'HA_NARR_FLUX', 'AV', 'OIII_5007_LUM_DERRED', 'HA_LUM_DERRED', 'R_EDD', 'SYS_VEL', 'NVS_N', 'NVS_IDS', 'NVS_RA', 'NVS_DEC', 'NVS_FLUX', 'NVS_LUM', 'FIR_N', 'FIR_IDS', 'FIR_FLUX', 'FIR_LUM', 'B_MAG', 'B_FLUX']\n"
     ]
    }
   ],
   "source": [
    "print(cat.keys())"
   ]
  },
  {
   "cell_type": "code",
   "execution_count": 14,
   "id": "0a3f539a",
   "metadata": {},
   "outputs": [
    {
     "data": {
      "text/plain": [
       "Text(0, 0.5, 'number of agn')"
      ]
     },
     "execution_count": 14,
     "metadata": {},
     "output_type": "execute_result"
    },
    {
     "data": {
      "image/png": "[encoded data removed]",
      "text/plain": [
       "<Figure size 640x480 with 2 Axes>"
      ]
     },
     "metadata": {},
     "output_type": "display_data"
    }
   ],
   "source": [
    "fig,ax = plt.subplots(1,2)\n",
    "ax[0].hist(cat['Z'])\n",
    "ax[1].hist(cat['OIII_5007_LUM_DERRED']*600.)\n",
    "plt.title(\"Redshift of 42 agns\")\n",
    "plt.xlabel(\"z\")\n",
    "plt.ylabel(\"number of agn\")"
   ]
  },
  {
   "cell_type": "code",
   "execution_count": 3,
   "id": "747f66b6",
   "metadata": {},
   "outputs": [
    {
     "data": {
      "text/plain": [
       "SIMPLE  =                    T / Fits standard                                  \n",
       "BITPIX  =                  -32 / Bits per pixel                                 \n",
       "NAXIS   =                    2 / Number of axes                                 \n",
       "NAXIS1  =                 4698 / Axis length                                    \n",
       "NAXIS2  =                 4708 / Axis length                                    \n",
       "EXTEND  =                    T / File may contain extensions                    \n",
       "ORIGIN  = 'NOAO-IRAF FITS Image Kernel July 2003' / FITS file originator        \n",
       "DATE    = '2020-10-23T22:03:42' / Date FITS file was generated                  \n",
       "IRAF-TLM= '2020-10-23T22:03:32' / Time of last modification                     \n",
       "OBJECT  = 'J0901+1815'         / Name of the object observed                    \n",
       "EQUINOX =        2000.00000000 / Mean equinox                                   \n",
       "MJD-OBS =   5.890100000000E+04 / Modified Julian date at start                  \n",
       "RADESYS = 'ICRS    '           / Astrometric system                             \n",
       "CTYPE1  = 'RA---TAN'           / WCS projection type for this axis              \n",
       "CUNIT1  = 'deg     '           / Axis unit                                      \n",
       "CRVAL1  =   1.354095762739E+02 / World coordinate on this axis                  \n",
       "CRPIX1  =               2351.5 / Reference pixel on this axis                   \n",
       "CD1_1   =  -4.444444444444E-05 / Linear projection matrix                       \n",
       "CTYPE2  = 'DEC--TAN'           / WCS projection type for this axis              \n",
       "CUNIT2  = 'deg     '           / Axis unit                                      \n",
       "CRVAL2  =   1.829148207956E+01 / World coordinate on this axis                  \n",
       "CRPIX2  =                2355. / Reference pixel on this axis                   \n",
       "CD2_2   =   4.444444444444E-05 / Linear projection matrix                       \n",
       "COMMENT                                                                         \n",
       "COMMENT                                                                         \n",
       "AUTHOR  = 'amonson '           / Who ran the software                           \n",
       "FILTER  = 'J       '           / filter-combo                                   \n",
       "CHIP    =                    1 / chip#                                          \n",
       "AIRMASS =   1.496000000000E+00 / airmass (start)                                \n",
       "DATE-OBS= '2020-02-21'         / UT date (start)                                \n",
       "UT-TIME = '03:06:13'           / UT time (start): 11173                         \n",
       "MJD     =   5.890012932000E+04 / modified julian date                           \n",
       "MJDAVE  =          58900.13231 / Weighted MJD                                   \n",
       "EGAIN   =   2.650000000000E+00 / [electrons/DU]                                 \n",
       "PHOTIRMS=   0.000000000000E+00 / mag dispersion RMS (internal, high S/N)        \n",
       "EXPTIME =   1.000000000000E+00 / Exptime [units of image are per second]        \n",
       "OBSERVER= 'N.N.    '                                                            \n",
       "TELESCOP= 'Baade   '                                                            \n",
       "SITENAME= 'LCO     '                                                            \n",
       "SITEALT =                 2400                                                  \n",
       "SITELAT =  -2.901423000000E+01                                                  \n",
       "SITELONG=  -7.069242000000E+01                                                  \n",
       "INSTRUME= 'FourStar'           / instrument name                                \n",
       "TEMPENV =   1.800000000000E+01 / vessel temperature [C]                         \n",
       "MEAN    =   4.931468000000E+02                                                  \n",
       "MIDPT   =   4.931245000000E+02                                                  \n",
       "MODE    =   4.929321000000E+02                                                  \n",
       "STDDEV  =   3.969038000000E+00                                                  \n",
       "STDDEV2 =   3.548836000000E+00                                                  \n",
       "FWHM_AVE=             0.737732                                                  \n",
       "EFFGAIN =   9.943075668419E-01 / [e-/s]                                         \n",
       "EFFRN   =                 0.22 / Final Read-Noise [e-/pix]                      \n",
       "EXPORG  =   2.619900000000E+01 / Original exposure time                         \n",
       "EXPOSURE=                 524. / Maximum Exposure time [s]                      \n",
       "NCOADD  =   1.000000000000E+00 / Number of Averaged Frames                      \n",
       "MACROFIL= 'dice5r30_26a'       / macro file                                     \n",
       "COMMENT                                                                         \n",
       "COMMENT  Axis-dependent SWarp parameters                                        \n",
       "RESAMPT1= 'LANCZOS2'           / RESAMPLING_TYPE config parameter               \n",
       "CENTERT1= 'ALL     '           / CENTER_TYPE config parameter                   \n",
       "PSCALET1= 'MANUAL  '           / PIXELSCALE_TYPE config parameter               \n",
       "RESAMPT2= 'LANCZOS2'           / RESAMPLING_TYPE config parameter               \n",
       "CENTERT2= 'ALL     '           / CENTER_TYPE config parameter                   \n",
       "PSCALET2= 'MANUAL  '           / PIXELSCALE_TYPE config parameter               \n",
       "COMMENT                                                                         \n",
       "COMMENT  Image-dependent SWarp parameters                                       \n",
       "FLXSCALE=   1.000016983658E+00 / Relative flux scaling from photometry          \n",
       "FLASCALE=   1.000000000000E+00 / Relative flux scaling from astrometry          \n",
       "SATURATE=              4014.93 / [e-/s] resampled pixels                        \n",
       "BACKSIG =              1.03136 / Num = 016398933                                \n",
       "GWEIGHT =                 4000                                                  \n",
       "WEIGHT  =                 4000                                                  \n",
       "NCOMBINE=                20.00 / Maximum number of overlapping Frames.          \n",
       "BPM     = '2020-02-21_J_J0901+1815_c1-4_58900_12932.bpm.pl.fits[type=mask].pl'  \n",
       "SCALE   =                 0.16 / Arc-seconds per pixel                          \n",
       "BACKGND =              505.165 / Average Background Rate [e-/s] native pixels   \n",
       "OBJMASK = '2020-02-21_J_J0901+1815_c1-4_58900_12932.mos.pl.fits[type=mask]'     \n",
       "GAIN    =   9.943075668419E-01 / Final Gain                                     \n",
       "BACKSIGC=              1.70930 / Num = 000000076                                \n",
       "MAGZP   =               26.894 / 2MASS Zero-point                               \n",
       "MAGZPE  =                0.011 / 2MASS zp stddev                                \n",
       "MAGZPN  =                   12 / 2MASS number of stars used                     \n",
       "BACKMAG =               16.154 / SKY LEVEL [mag per sq-arcsecond]               \n",
       "DEPTH05 =               22.353 / 5-sigma depth [0.5-arcsec aperture]            \n",
       "DEPTH10 =               20.847 / 5-sigma depth [1.0-arcsec aperture]            \n",
       "DEPTH15 =               19.967 / 5-sigma depth [1.5-arcsec aperture]            \n",
       "DEPTH20 =               19.342 / 5-sigma depth [2.0-arcsec aperture]            \n",
       "                                                                                \n",
       "                                                                                \n",
       "                                                                                \n",
       "                                                                                \n",
       "                                                                                \n",
       "                                                                                \n",
       "                                                                                \n",
       "                                                                                \n",
       "                                                                                \n",
       "                                                                                \n",
       "                                                                                \n",
       "                                                                                \n",
       "                                                                                \n",
       "                                                                                \n",
       "                                                                                \n",
       "                                                                                \n",
       "                                                                                \n",
       "                                                                                \n",
       "                                                                                \n",
       "                                                                                "
      ]
     },
     "execution_count": 3,
     "metadata": {},
     "output_type": "execute_result"
    }
   ],
   "source": [
    "hdul = fits.open(os.path.expanduser(\"~/raw-data-agn/mos-fits-agn/2020-02-21_J_J0901+1815_c1-4_58900_12932.mos.fits\"))\n",
    "hdul[0].header"
   ]
  },
  {
   "cell_type": "code",
   "execution_count": null,
   "id": "16ecdfb6",
   "metadata": {},
   "outputs": [],
   "source": []
  }
 ],
 "metadata": {
  "kernelspec": {
   "display_name": "Python 3 (ipykernel)",
   "language": "python",
   "name": "python3"
  },
  "language_info": {
   "codemirror_mode": {
    "name": "ipython",
    "version": 3
   },
   "file_extension": ".py",
   "mimetype": "text/x-python",
   "name": "python",
   "nbconvert_exporter": "python",
   "pygments_lexer": "ipython3",
   "version": "3.11.3"
  }
 },
 "nbformat": 4,
 "nbformat_minor": 5
}
