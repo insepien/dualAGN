{
 "cells": [
  {
   "cell_type": "code",
   "execution_count": 2,
   "id": "0dce86fc",
   "metadata": {},
   "outputs": [],
   "source": [
    "import os\n",
    "import img2pdf"
   ]
  },
  {
   "cell_type": "code",
   "execution_count": 46,
   "id": "ccf87a41",
   "metadata": {},
   "outputs": [
    {
     "data": {
      "text/plain": [
       "41"
      ]
     },
     "execution_count": 46,
     "metadata": {},
     "output_type": "execute_result"
    }
   ],
   "source": [
    "fes = sorted(os.listdir(\"erred_stars\"))\n",
    "fs = sorted(os.listdir(\"stars0\"))\n",
    "gals = sorted(list(set([fname.split(\"_\")[0] for fname in fs])))"
   ]
  },
  {
   "cell_type": "code",
   "execution_count": 48,
   "id": "cbcc5418",
   "metadata": {},
   "outputs": [
    {
     "data": {
      "text/plain": [
       "'J0323+0018_0_erred_stars.jpg'"
      ]
     },
     "execution_count": 48,
     "metadata": {},
     "output_type": "execute_result"
    }
   ],
   "source": [
    "fes[i]"
   ]
  },
  {
   "cell_type": "code",
   "execution_count": 52,
   "id": "d142404c",
   "metadata": {},
   "outputs": [
    {
     "name": "stderr",
     "output_type": "stream",
     "text": [
      "/home/insepien/miniconda3/envs/usc/lib/python3.11/site-packages/PIL/Image.py:3218: DecompressionBombWarning: Image size (143456744 pixels) exceeds limit of 89478485 pixels, could be decompression bomb DOS attack.\n",
      "  warnings.warn(\n",
      "/home/insepien/miniconda3/envs/usc/lib/python3.11/site-packages/PIL/Image.py:3218: DecompressionBombWarning: Image size (92012766 pixels) exceeds limit of 89478485 pixels, could be decompression bomb DOS attack.\n",
      "  warnings.warn(\n",
      "/home/insepien/miniconda3/envs/usc/lib/python3.11/site-packages/PIL/Image.py:3218: DecompressionBombWarning: Image size (153021944 pixels) exceeds limit of 89478485 pixels, could be decompression bomb DOS attack.\n",
      "  warnings.warn(\n",
      "/home/insepien/miniconda3/envs/usc/lib/python3.11/site-packages/PIL/Image.py:3218: DecompressionBombWarning: Image size (130403604 pixels) exceeds limit of 89478485 pixels, could be decompression bomb DOS attack.\n",
      "  warnings.warn(\n",
      "/home/insepien/miniconda3/envs/usc/lib/python3.11/site-packages/PIL/Image.py:3218: DecompressionBombWarning: Image size (90819264 pixels) exceeds limit of 89478485 pixels, could be decompression bomb DOS attack.\n",
      "  warnings.warn(\n",
      "/home/insepien/miniconda3/envs/usc/lib/python3.11/site-packages/PIL/Image.py:3218: DecompressionBombWarning: Image size (105156352 pixels) exceeds limit of 89478485 pixels, could be decompression bomb DOS attack.\n",
      "  warnings.warn(\n",
      "/home/insepien/miniconda3/envs/usc/lib/python3.11/site-packages/PIL/Image.py:3218: DecompressionBombWarning: Image size (114113264 pixels) exceeds limit of 89478485 pixels, could be decompression bomb DOS attack.\n",
      "  warnings.warn(\n"
     ]
    }
   ],
   "source": [
    "for i in range(len(gals)):\n",
    "    with open(\"pdf/\"+gals[i]+\"_ini_.pdf\", \"wb\") as f:\n",
    "        f.write(img2pdf.convert([open(\"erred_stars/\"+fes[i], \"rb\"), open(\"stars0/\"+fs[i], \"rb\")]))"
   ]
  },
  {
   "cell_type": "code",
   "execution_count": null,
   "id": "eb2b51dd",
   "metadata": {},
   "outputs": [],
   "source": []
  }
 ],
 "metadata": {
  "kernelspec": {
   "display_name": "Python 3 (ipykernel)",
   "language": "python",
   "name": "python3"
  },
  "language_info": {
   "codemirror_mode": {
    "name": "ipython",
    "version": 3
   },
   "file_extension": ".py",
   "mimetype": "text/x-python",
   "name": "python",
   "nbconvert_exporter": "python",
   "pygments_lexer": "ipython3",
   "version": "3.11.3"
  }
 },
 "nbformat": 4,
 "nbformat_minor": 5
}
