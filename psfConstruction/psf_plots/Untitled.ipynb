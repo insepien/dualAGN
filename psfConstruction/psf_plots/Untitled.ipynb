{
 "cells": [
  {
   "cell_type": "code",
   "execution_count": 1,
   "id": "68616f6c",
   "metadata": {},
   "outputs": [
    {
     "name": "stdout",
     "output_type": "stream",
     "text": [
      "Collecting img2pdf\n",
      "  Downloading img2pdf-0.5.1.tar.gz (104 kB)\n",
      "\u001b[2K     \u001b[90m━━━━━━━━━━━━━━━━━━━━━━━━━━━━━━━━━━━━━━━\u001b[0m \u001b[32m104.2/104.2 kB\u001b[0m \u001b[31m4.6 MB/s\u001b[0m eta \u001b[36m0:00:00\u001b[0m\n",
      "\u001b[?25h  Preparing metadata (setup.py) ... \u001b[?25ldone\n",
      "\u001b[?25hRequirement already satisfied: Pillow in /home/insepien/miniconda3/envs/usc/lib/python3.11/site-packages (from img2pdf) (9.5.0)\n",
      "Collecting pikepdf\n",
      "  Downloading pikepdf-8.15.1-cp311-cp311-manylinux_2_17_x86_64.manylinux2014_x86_64.whl (2.4 MB)\n",
      "\u001b[2K     \u001b[90m━━━━━━━━━━━━━━━━━━━━━━━━━━━━━━━━━━━━━━━━\u001b[0m \u001b[32m2.4/2.4 MB\u001b[0m \u001b[31m9.1 MB/s\u001b[0m eta \u001b[36m0:00:00\u001b[0m:00:01\u001b[0m00:01\u001b[0m\n",
      "\u001b[?25hCollecting Pillow\n",
      "  Downloading pillow-10.3.0-cp311-cp311-manylinux_2_28_x86_64.whl (4.5 MB)\n",
      "\u001b[2K     \u001b[90m━━━━━━━━━━━━━━━━━━━━━━━━━━━━━━━━━━━━━━━━\u001b[0m \u001b[32m4.5/4.5 MB\u001b[0m \u001b[31m11.4 MB/s\u001b[0m eta \u001b[36m0:00:00\u001b[0m00:01\u001b[0m00:01\u001b[0m\n",
      "\u001b[?25hCollecting Deprecated\n",
      "  Downloading Deprecated-1.2.14-py2.py3-none-any.whl (9.6 kB)\n",
      "Collecting lxml>=4.8\n",
      "  Downloading lxml-5.2.1-cp311-cp311-manylinux_2_28_x86_64.whl (5.0 MB)\n",
      "\u001b[2K     \u001b[90m━━━━━━━━━━━━━━━━━━━━━━━━━━━━━━━━━━━━━━━━\u001b[0m \u001b[32m5.0/5.0 MB\u001b[0m \u001b[31m9.9 MB/s\u001b[0m eta \u001b[36m0:00:00\u001b[0m:00:01\u001b[0m00:01\u001b[0m\n",
      "\u001b[?25hRequirement already satisfied: packaging in /home/insepien/miniconda3/envs/usc/lib/python3.11/site-packages (from pikepdf->img2pdf) (23.1)\n",
      "Collecting wrapt<2,>=1.10\n",
      "  Downloading wrapt-1.16.0-cp311-cp311-manylinux_2_5_x86_64.manylinux1_x86_64.manylinux_2_17_x86_64.manylinux2014_x86_64.whl (80 kB)\n",
      "\u001b[2K     \u001b[90m━━━━━━━━━━━━━━━━━━━━━━━━━━━━━━━━━━━━━━━━\u001b[0m \u001b[32m80.7/80.7 kB\u001b[0m \u001b[31m3.4 MB/s\u001b[0m eta \u001b[36m0:00:00\u001b[0m\n",
      "\u001b[?25hBuilding wheels for collected packages: img2pdf\n",
      "  Building wheel for img2pdf (setup.py) ... \u001b[?25ldone\n",
      "\u001b[?25h  Created wheel for img2pdf: filename=img2pdf-0.5.1-py3-none-any.whl size=49277 sha256=5c3abbf9b0b0beebf46adf96ae57d34a67ceb8bb2a6ec8cefd61b87a1088afcf\n",
      "  Stored in directory: /home/insepien/.cache/pip/wheels/6f/ec/69/9da613cf58f9d936c32eaee2a1f111ad79cfcc24197ad76a72\n",
      "Successfully built img2pdf\n",
      "Installing collected packages: wrapt, Pillow, lxml, Deprecated, pikepdf, img2pdf\n",
      "  Attempting uninstall: Pillow\n",
      "    Found existing installation: Pillow 9.5.0\n",
      "    Uninstalling Pillow-9.5.0:\n",
      "      Successfully uninstalled Pillow-9.5.0\n",
      "Successfully installed Deprecated-1.2.14 Pillow-10.3.0 img2pdf-0.5.1 lxml-5.2.1 pikepdf-8.15.1 wrapt-1.16.0\n"
     ]
    }
   ],
   "source": [
    "! pip install img2pdf"
   ]
  },
  {
   "cell_type": "code",
   "execution_count": 2,
   "id": "0dce86fc",
   "metadata": {},
   "outputs": [],
   "source": [
    "import os\n",
    "import img2pdf"
   ]
  },
  {
   "cell_type": "code",
   "execution_count": 13,
   "id": "ccf87a41",
   "metadata": {},
   "outputs": [
    {
     "data": {
      "text/plain": [
       "['J1215+1344_0_erred_stars.jpg',\n",
       " 'J1215+1344_1_stars.jpg',\n",
       " 'J1215+1344_2_stars_post_selection.jpg',\n",
       " 'J1215+1344_3_point_subtract.jpg',\n",
       " 'J1215+1344_4_radial_profile.jpg']"
      ]
     },
     "execution_count": 13,
     "metadata": {},
     "output_type": "execute_result"
    }
   ],
   "source": []
  },
  {
   "cell_type": "code",
   "execution_count": 14,
   "id": "d142404c",
   "metadata": {},
   "outputs": [],
   "source": [
    "with open(\"name.pdf\",\"wb\") as f:\n",
    "    f.write(img2pdf.convert(sorted([fname for fname in os.listdir() if fname.startswith(\"J1215+1344\")])))"
   ]
  },
  {
   "cell_type": "code",
   "execution_count": null,
   "id": "402adbb2",
   "metadata": {},
   "outputs": [],
   "source": []
  }
 ],
 "metadata": {
  "kernelspec": {
   "display_name": "Python 3 (ipykernel)",
   "language": "python",
   "name": "python3"
  },
  "language_info": {
   "codemirror_mode": {
    "name": "ipython",
    "version": 3
   },
   "file_extension": ".py",
   "mimetype": "text/x-python",
   "name": "python",
   "nbconvert_exporter": "python",
   "pygments_lexer": "ipython3",
   "version": "3.11.3"
  }
 },
 "nbformat": 4,
 "nbformat_minor": 5
}
