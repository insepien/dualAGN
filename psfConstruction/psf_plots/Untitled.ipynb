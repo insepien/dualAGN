{
 "cells": [
  {
   "cell_type": "code",
   "execution_count": 56,
   "id": "0dce86fc",
   "metadata": {},
   "outputs": [],
   "source": [
    "import os\n",
    "import img2pdf\n",
    "import numpy as np"
   ]
  },
  {
   "cell_type": "code",
   "execution_count": 46,
   "id": "ccf87a41",
   "metadata": {},
   "outputs": [
    {
     "data": {
      "text/plain": [
       "41"
      ]
     },
     "execution_count": 46,
     "metadata": {},
     "output_type": "execute_result"
    }
   ],
   "source": [
    "fes = sorted(os.listdir(\"erred_stars\"))\n",
    "fs = sorted(os.listdir(\"stars0\"))\n",
    "gals = sorted(list(set([fname.split(\"_\")[0] for fname in fs])))"
   ]
  },
  {
   "cell_type": "code",
   "execution_count": 1,
   "id": "d142404c",
   "metadata": {},
   "outputs": [
    {
     "data": {
      "text/plain": [
       "'for i in range(len(gals)):\\n    with open(\"pdf/\"+gals[i]+\"_ini_.pdf\", \"wb\") as f:\\n        f.write(img2pdf.convert([open(\"erred_stars/\"+fes[i], \"rb\"), open(\"stars0/\"+fs[i], \"rb\")]))'"
      ]
     },
     "execution_count": 1,
     "metadata": {},
     "output_type": "execute_result"
    }
   ],
   "source": [
    "\"\"\"for i in range(len(gals)):\n",
    "    with open(\"pdf/\"+gals[i]+\"_ini_.pdf\", \"wb\") as f:\n",
    "        f.write(img2pdf.convert([open(\"erred_stars/\"+fes[i], \"rb\"), open(\"stars0/\"+fs[i], \"rb\")]))\"\"\""
   ]
  },
  {
   "cell_type": "code",
   "execution_count": 27,
   "id": "eb2b51dd",
   "metadata": {},
   "outputs": [],
   "source": [
    "with open(\"remove.txt\", \"r\") as f:\n",
    "    d = f.read().splitlines()\n",
    "    \n"
   ]
  },
  {
   "cell_type": "code",
   "execution_count": 41,
   "id": "c124c379",
   "metadata": {},
   "outputs": [],
   "source": [
    "r = {}\n",
    "for dd in d:\n",
    "    k,v = dd.split(\"__\")\n",
    "    r[k]= v\n"
   ]
  },
  {
   "cell_type": "code",
   "execution_count": 57,
   "id": "e71d932f",
   "metadata": {},
   "outputs": [
    {
     "ename": "TypeError",
     "evalue": "only length-1 arrays can be converted to Python scalars",
     "output_type": "error",
     "traceback": [
      "\u001b[0;31m---------------------------------------------------------------------------\u001b[0m",
      "\u001b[0;31mTypeError\u001b[0m                                 Traceback (most recent call last)",
      "Cell \u001b[0;32mIn[57], line 1\u001b[0m\n\u001b[0;32m----> 1\u001b[0m \u001b[38;5;28;43mint\u001b[39;49m\u001b[43m(\u001b[49m\u001b[43mnp\u001b[49m\u001b[38;5;241;43m.\u001b[39;49m\u001b[43marray\u001b[49m\u001b[43m(\u001b[49m\u001b[43mr\u001b[49m\u001b[43m[\u001b[49m\u001b[38;5;124;43m'\u001b[39;49m\u001b[38;5;124;43mJ0323+0018\u001b[39;49m\u001b[38;5;124;43m'\u001b[39;49m\u001b[43m]\u001b[49m\u001b[38;5;241;43m.\u001b[39;49m\u001b[43msplit\u001b[49m\u001b[43m(\u001b[49m\u001b[38;5;124;43m\"\u001b[39;49m\u001b[38;5;124;43m \u001b[39;49m\u001b[38;5;124;43m\"\u001b[39;49m\u001b[43m)\u001b[49m\u001b[43m)\u001b[49m\u001b[43m)\u001b[49m\n",
      "\u001b[0;31mTypeError\u001b[0m: only length-1 arrays can be converted to Python scalars"
     ]
    }
   ],
   "source": [
    "int(np.array(r['J0323+0018'].split(\" \")))"
   ]
  },
  {
   "cell_type": "code",
   "execution_count": null,
   "id": "001735b7",
   "metadata": {},
   "outputs": [],
   "source": []
  }
 ],
 "metadata": {
  "kernelspec": {
   "display_name": "Python 3 (ipykernel)",
   "language": "python",
   "name": "python3"
  },
  "language_info": {
   "codemirror_mode": {
    "name": "ipython",
    "version": 3
   },
   "file_extension": ".py",
   "mimetype": "text/x-python",
   "name": "python",
   "nbconvert_exporter": "python",
   "pygments_lexer": "ipython3",
   "version": "3.11.3"
  }
 },
 "nbformat": 4,
 "nbformat_minor": 5
}
