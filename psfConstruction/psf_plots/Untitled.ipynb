{
 "cells": [
  {
   "cell_type": "code",
   "execution_count": 1,
   "id": "0dce86fc",
   "metadata": {},
   "outputs": [],
   "source": [
    "import os\n",
    "import img2pdf\n",
    "import numpy as np"
   ]
  },
  {
   "cell_type": "code",
   "execution_count": 46,
   "id": "ccf87a41",
   "metadata": {},
   "outputs": [
    {
     "data": {
      "text/plain": [
       "41"
      ]
     },
     "execution_count": 46,
     "metadata": {},
     "output_type": "execute_result"
    }
   ],
   "source": [
    "fes = sorted(os.listdir(\"erred_stars\"))\n",
    "fs = sorted(os.listdir(\"stars0\"))\n",
    "gals = sorted(list(set([fname.split(\"_\")[0] for fname in fs])))"
   ]
  },
  {
   "cell_type": "code",
   "execution_count": 1,
   "id": "d142404c",
   "metadata": {},
   "outputs": [
    {
     "data": {
      "text/plain": [
       "'for i in range(len(gals)):\\n    with open(\"pdf/\"+gals[i]+\"_ini_.pdf\", \"wb\") as f:\\n        f.write(img2pdf.convert([open(\"erred_stars/\"+fes[i], \"rb\"), open(\"stars0/\"+fs[i], \"rb\")]))'"
      ]
     },
     "execution_count": 1,
     "metadata": {},
     "output_type": "execute_result"
    }
   ],
   "source": [
    "\"\"\"for i in range(len(gals)):\n",
    "    with open(\"pdf/\"+gals[i]+\"_ini_.pdf\", \"wb\") as f:\n",
    "        f.write(img2pdf.convert([open(\"erred_stars/\"+fes[i], \"rb\"), open(\"stars0/\"+fs[i], \"rb\")]))\"\"\""
   ]
  },
  {
   "cell_type": "code",
   "execution_count": 19,
   "id": "a244801f",
   "metadata": {},
   "outputs": [],
   "source": [
    "with open(\"z_pdf/J1215+1344_ini_.pdf\", \"wb\") as f:\n",
    "    f.write(img2pdf.convert([open(\"erred_stars/J1215+1344_0_erred_stars.jpg\", \"rb\"), open(\"stars0/J1215+1344_1_stars.jpg\", \"rb\")]))"
   ]
  },
  {
   "cell_type": "code",
   "execution_count": 2,
   "id": "eb2b51dd",
   "metadata": {},
   "outputs": [],
   "source": [
    "with open(\"remove.txt\", \"r\") as f:\n",
    "    d = f.read().splitlines()\n",
    "    \n"
   ]
  },
  {
   "cell_type": "code",
   "execution_count": 3,
   "id": "c124c379",
   "metadata": {},
   "outputs": [],
   "source": [
    "r = {}\n",
    "for dd in d:\n",
    "    k,v = dd.split(\"__\")\n",
    "    r[k]= v\n"
   ]
  },
  {
   "cell_type": "code",
   "execution_count": 14,
   "id": "001735b7",
   "metadata": {},
   "outputs": [],
   "source": [
    "total = list(r.keys())\n",
    "fns = os.listdir(\"stars_post\")\n",
    "did =[f.split(\"_\")[0] for f in fns]"
   ]
  },
  {
   "cell_type": "code",
   "execution_count": 18,
   "id": "091f95e6",
   "metadata": {},
   "outputs": [
    {
     "data": {
      "text/plain": [
       "['J1140+0918', 'J1144+1111', 'J1504+0151', 'J1516+0529']"
      ]
     },
     "execution_count": 18,
     "metadata": {},
     "output_type": "execute_result"
    }
   ],
   "source": [
    "[t for t in total if t not in did]"
   ]
  },
  {
   "cell_type": "code",
   "execution_count": null,
   "id": "1a6764ec",
   "metadata": {},
   "outputs": [],
   "source": []
  }
 ],
 "metadata": {
  "kernelspec": {
   "display_name": "Python 3 (ipykernel)",
   "language": "python",
   "name": "python3"
  },
  "language_info": {
   "codemirror_mode": {
    "name": "ipython",
    "version": 3
   },
   "file_extension": ".py",
   "mimetype": "text/x-python",
   "name": "python",
   "nbconvert_exporter": "python",
   "pygments_lexer": "ipython3",
   "version": "3.11.3"
  }
 },
 "nbformat": 4,
 "nbformat_minor": 5
}
